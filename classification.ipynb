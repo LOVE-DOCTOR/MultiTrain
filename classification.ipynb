{
 "cells": [
  {
   "cell_type": "code",
   "execution_count": 1,
   "id": "edd187fa-da67-4c30-92c4-0a2e261f67ef",
   "metadata": {},
   "outputs": [
    {
     "name": "stderr",
     "output_type": "stream",
     "text": [
      "2025-02-06 19:32:28 - MultiTrain.classification.classification_models - WARNING - Version 1.0.0 introduces new syntax and you might experience errors if using old syntax, visit the documentation in the GitHub Repo.\n"
     ]
    }
   ],
   "source": [
    "from MultiTrain import MultiClassifier, MultiRegressor\n",
    "\n",
    "import pandas as pd # type: ignore"
   ]
  },
  {
   "cell_type": "code",
   "execution_count": 10,
   "id": "fec8bb3f-74e6-4bfa-9897-f09a7de303ae",
   "metadata": {},
   "outputs": [],
   "source": [
    "df = pd.read_csv('examples/datasets/train.csv')"
   ]
  },
  {
   "cell_type": "code",
   "execution_count": 2,
   "id": "87cb8b8f",
   "metadata": {},
   "outputs": [],
   "source": [
    "train = MultiClassifier()"
   ]
  },
  {
   "cell_type": "code",
   "execution_count": 11,
   "id": "e4ada8d3",
   "metadata": {},
   "outputs": [
    {
     "name": "stdout",
     "output_type": "stream",
     "text": [
      "891\n"
     ]
    }
   ],
   "source": [
    "train = MultiClassifier()\n",
    "dataset_splits = train.split(data=df, \n",
    "                             target='Survived',\n",
    "                             manual_encode={'label': ['Sex', 'Embarked'],\n",
    "                                            'onehot': ['Ticket', 'Cabin']},\n",
    "                             drop=['PassengerId', 'Name'],\n",
    "                             fix_nan_custom={'Age': 'bfill', \n",
    "                                             'Embarked': 'ffill',\n",
    "                                             'Cabin': 'ffill'},)"
   ]
  },
  {
   "cell_type": "code",
   "execution_count": 4,
   "id": "7670fa71",
   "metadata": {},
   "outputs": [
    {
     "data": {
      "application/vnd.jupyter.widget-view+json": {
       "model_id": "b1f4dcb1615a4ed583f533c5253f0b57",
       "version_major": 2,
       "version_minor": 0
      },
      "text/plain": [
       "Training Models:   0%|           | 0/27 [00:00<?, ?it/s]"
      ]
     },
     "metadata": {},
     "output_type": "display_data"
    },
    {
     "data": {
      "application/vnd.jupyter.widget-view+json": {
       "model_id": "810a6ad94e444cf0bb89758e7d9229cb",
       "version_major": 2,
       "version_minor": 0
      },
      "text/plain": [
       "Evaluating LogisticRegression:   0%|          | 0/6 [00:00<?, ?it/s]"
      ]
     },
     "metadata": {},
     "output_type": "display_data"
    },
    {
     "data": {
      "application/vnd.jupyter.widget-view+json": {
       "model_id": "eb2158bae81f4ea183af6095d41efa71",
       "version_major": 2,
       "version_minor": 0
      },
      "text/plain": [
       "Evaluating LogisticRegressionCV:   0%|          | 0/6 [00:00<?, ?it/s]"
      ]
     },
     "metadata": {},
     "output_type": "display_data"
    },
    {
     "data": {
      "application/vnd.jupyter.widget-view+json": {
       "model_id": "0ec3cd3efdd8464790142f9915d517c4",
       "version_major": 2,
       "version_minor": 0
      },
      "text/plain": [
       "Evaluating SGDClassifier:   0%|          | 0/6 [00:00<?, ?it/s]"
      ]
     },
     "metadata": {},
     "output_type": "display_data"
    },
    {
     "data": {
      "application/vnd.jupyter.widget-view+json": {
       "model_id": "7ab3dffef92b4a6f88bc6d667dae0a27",
       "version_major": 2,
       "version_minor": 0
      },
      "text/plain": [
       "Evaluating PassiveAggressiveClassifier:   0%|          | 0/6 [00:00<?, ?it/s]"
      ]
     },
     "metadata": {},
     "output_type": "display_data"
    },
    {
     "data": {
      "application/vnd.jupyter.widget-view+json": {
       "model_id": "8e6b3aa30dba453aa5d3cea637b521f9",
       "version_major": 2,
       "version_minor": 0
      },
      "text/plain": [
       "Evaluating RidgeClassifier:   0%|          | 0/6 [00:00<?, ?it/s]"
      ]
     },
     "metadata": {},
     "output_type": "display_data"
    },
    {
     "data": {
      "application/vnd.jupyter.widget-view+json": {
       "model_id": "dd059d1e5e8b4d8aa18573fb6ba5be15",
       "version_major": 2,
       "version_minor": 0
      },
      "text/plain": [
       "Evaluating RidgeClassifierCV:   0%|          | 0/6 [00:00<?, ?it/s]"
      ]
     },
     "metadata": {},
     "output_type": "display_data"
    },
    {
     "data": {
      "application/vnd.jupyter.widget-view+json": {
       "model_id": "1dabb67a3b0f486eb6d269f00cbcb62f",
       "version_major": 2,
       "version_minor": 0
      },
      "text/plain": [
       "Evaluating Perceptron:   0%|          | 0/6 [00:00<?, ?it/s]"
      ]
     },
     "metadata": {},
     "output_type": "display_data"
    },
    {
     "name": "stderr",
     "output_type": "stream",
     "text": [
      "c:\\Users\\admin\\Documents\\BIG PERSONAL PROJECTS\\MultiTrain\\.venv\\lib\\site-packages\\sklearn\\metrics\\_classification.py:1565: UndefinedMetricWarning: Precision is ill-defined and being set to 0.0 due to no predicted samples. Use `zero_division` parameter to control this behavior.\n",
      "  _warn_prf(average, modifier, f\"{metric.capitalize()} is\", len(result))\n"
     ]
    },
    {
     "data": {
      "application/vnd.jupyter.widget-view+json": {
       "model_id": "f3f5925cde1c4021a872939a905a8492",
       "version_major": 2,
       "version_minor": 0
      },
      "text/plain": [
       "Evaluating LinearSVC:   0%|          | 0/6 [00:00<?, ?it/s]"
      ]
     },
     "metadata": {},
     "output_type": "display_data"
    },
    {
     "data": {
      "application/vnd.jupyter.widget-view+json": {
       "model_id": "1c0d50bff65f437f81f8e3d23d8eca84",
       "version_major": 2,
       "version_minor": 0
      },
      "text/plain": [
       "Evaluating NuSVC:   0%|          | 0/6 [00:00<?, ?it/s]"
      ]
     },
     "metadata": {},
     "output_type": "display_data"
    },
    {
     "data": {
      "application/vnd.jupyter.widget-view+json": {
       "model_id": "a0465e450ef1471eba7e0e593b92270b",
       "version_major": 2,
       "version_minor": 0
      },
      "text/plain": [
       "Evaluating SVC:   0%|          | 0/6 [00:00<?, ?it/s]"
      ]
     },
     "metadata": {},
     "output_type": "display_data"
    },
    {
     "data": {
      "application/vnd.jupyter.widget-view+json": {
       "model_id": "5b4441451c5446ed9190d6f40847fc2b",
       "version_major": 2,
       "version_minor": 0
      },
      "text/plain": [
       "Evaluating KNeighborsClassifier:   0%|          | 0/6 [00:00<?, ?it/s]"
      ]
     },
     "metadata": {},
     "output_type": "display_data"
    },
    {
     "data": {
      "application/vnd.jupyter.widget-view+json": {
       "model_id": "a1477f7dcf8447e6a68fe165d1d180ce",
       "version_major": 2,
       "version_minor": 0
      },
      "text/plain": [
       "Evaluating MLPClassifier:   0%|          | 0/6 [00:00<?, ?it/s]"
      ]
     },
     "metadata": {},
     "output_type": "display_data"
    },
    {
     "data": {
      "application/vnd.jupyter.widget-view+json": {
       "model_id": "5dc250fdee8946ccbc2c74f098aad743",
       "version_major": 2,
       "version_minor": 0
      },
      "text/plain": [
       "Evaluating GaussianNB:   0%|          | 0/6 [00:00<?, ?it/s]"
      ]
     },
     "metadata": {},
     "output_type": "display_data"
    },
    {
     "data": {
      "application/vnd.jupyter.widget-view+json": {
       "model_id": "6fc4132d1f3e4da6b7f2aef9b1f89ff3",
       "version_major": 2,
       "version_minor": 0
      },
      "text/plain": [
       "Evaluating BernoulliNB:   0%|          | 0/6 [00:00<?, ?it/s]"
      ]
     },
     "metadata": {},
     "output_type": "display_data"
    },
    {
     "data": {
      "application/vnd.jupyter.widget-view+json": {
       "model_id": "4e7b7504a9e84f599b30c0b2814c9e0b",
       "version_major": 2,
       "version_minor": 0
      },
      "text/plain": [
       "Evaluating MultinomialNB:   0%|          | 0/6 [00:00<?, ?it/s]"
      ]
     },
     "metadata": {},
     "output_type": "display_data"
    },
    {
     "data": {
      "application/vnd.jupyter.widget-view+json": {
       "model_id": "4d6a86f4d0d24d2eb7f377e78cb46d1f",
       "version_major": 2,
       "version_minor": 0
      },
      "text/plain": [
       "Evaluating ComplementNB:   0%|          | 0/6 [00:00<?, ?it/s]"
      ]
     },
     "metadata": {},
     "output_type": "display_data"
    },
    {
     "data": {
      "application/vnd.jupyter.widget-view+json": {
       "model_id": "a6a92287a55e4a08a4fa54c42ed7ec8a",
       "version_major": 2,
       "version_minor": 0
      },
      "text/plain": [
       "Evaluating DecisionTreeClassifier:   0%|          | 0/6 [00:00<?, ?it/s]"
      ]
     },
     "metadata": {},
     "output_type": "display_data"
    },
    {
     "data": {
      "application/vnd.jupyter.widget-view+json": {
       "model_id": "551c361eec77486ea5dc1664e73ec67b",
       "version_major": 2,
       "version_minor": 0
      },
      "text/plain": [
       "Evaluating ExtraTreeClassifier:   0%|          | 0/6 [00:00<?, ?it/s]"
      ]
     },
     "metadata": {},
     "output_type": "display_data"
    },
    {
     "data": {
      "application/vnd.jupyter.widget-view+json": {
       "model_id": "245efbf42d7c4ccb965e42d8ba4aa475",
       "version_major": 2,
       "version_minor": 0
      },
      "text/plain": [
       "Evaluating GradientBoostingClassifier:   0%|          | 0/6 [00:00<?, ?it/s]"
      ]
     },
     "metadata": {},
     "output_type": "display_data"
    },
    {
     "data": {
      "application/vnd.jupyter.widget-view+json": {
       "model_id": "30ae9056306047dba64fad2531b93587",
       "version_major": 2,
       "version_minor": 0
      },
      "text/plain": [
       "Evaluating ExtraTreesClassifier:   0%|          | 0/6 [00:00<?, ?it/s]"
      ]
     },
     "metadata": {},
     "output_type": "display_data"
    },
    {
     "data": {
      "application/vnd.jupyter.widget-view+json": {
       "model_id": "b54c7e6cddec4b8d914c5a72bdf4a77e",
       "version_major": 2,
       "version_minor": 0
      },
      "text/plain": [
       "Evaluating BaggingClassifier:   0%|          | 0/6 [00:00<?, ?it/s]"
      ]
     },
     "metadata": {},
     "output_type": "display_data"
    },
    {
     "data": {
      "application/vnd.jupyter.widget-view+json": {
       "model_id": "779bd594590e48ccafc853b7f31270cf",
       "version_major": 2,
       "version_minor": 0
      },
      "text/plain": [
       "Evaluating CatBoostClassifier:   0%|          | 0/6 [00:00<?, ?it/s]"
      ]
     },
     "metadata": {},
     "output_type": "display_data"
    },
    {
     "data": {
      "application/vnd.jupyter.widget-view+json": {
       "model_id": "093baa1e8cd54678995ca6886359367e",
       "version_major": 2,
       "version_minor": 0
      },
      "text/plain": [
       "Evaluating RandomForestClassifier:   0%|          | 0/6 [00:00<?, ?it/s]"
      ]
     },
     "metadata": {},
     "output_type": "display_data"
    },
    {
     "data": {
      "application/vnd.jupyter.widget-view+json": {
       "model_id": "43de88ea7c3d47908897018236d21986",
       "version_major": 2,
       "version_minor": 0
      },
      "text/plain": [
       "Evaluating AdaBoostClassifier:   0%|          | 0/6 [00:00<?, ?it/s]"
      ]
     },
     "metadata": {},
     "output_type": "display_data"
    },
    {
     "data": {
      "application/vnd.jupyter.widget-view+json": {
       "model_id": "df9448d91a0345d0b02b5bfb22581549",
       "version_major": 2,
       "version_minor": 0
      },
      "text/plain": [
       "Evaluating HistGradientBoostingClassifier:   0%|          | 0/6 [00:00<?, ?it/s]"
      ]
     },
     "metadata": {},
     "output_type": "display_data"
    },
    {
     "data": {
      "application/vnd.jupyter.widget-view+json": {
       "model_id": "376a683569cb48e2aebd8450f65d4269",
       "version_major": 2,
       "version_minor": 0
      },
      "text/plain": [
       "Evaluating LGBMClassifier:   0%|          | 0/6 [00:00<?, ?it/s]"
      ]
     },
     "metadata": {},
     "output_type": "display_data"
    },
    {
     "data": {
      "application/vnd.jupyter.widget-view+json": {
       "model_id": "5fe49edf96744e9b8329baf78eb52ffa",
       "version_major": 2,
       "version_minor": 0
      },
      "text/plain": [
       "Evaluating XGBClassifier:   0%|          | 0/6 [00:00<?, ?it/s]"
      ]
     },
     "metadata": {},
     "output_type": "display_data"
    }
   ],
   "source": [
    "data_fit = train.fit(datasplits=dataset_splits,\n",
    "                     )"
   ]
  },
  {
   "cell_type": "code",
   "execution_count": 5,
   "id": "abbd5718",
   "metadata": {},
   "outputs": [
    {
     "data": {
      "text/html": [
       "<div>\n",
       "<style scoped>\n",
       "    .dataframe tbody tr th:only-of-type {\n",
       "        vertical-align: middle;\n",
       "    }\n",
       "\n",
       "    .dataframe tbody tr th {\n",
       "        vertical-align: top;\n",
       "    }\n",
       "\n",
       "    .dataframe thead th {\n",
       "        text-align: right;\n",
       "    }\n",
       "</style>\n",
       "<table border=\"1\" class=\"dataframe\">\n",
       "  <thead>\n",
       "    <tr style=\"text-align: right;\">\n",
       "      <th></th>\n",
       "      <th>precision</th>\n",
       "      <th>recall</th>\n",
       "      <th>balanced_accuracy</th>\n",
       "      <th>accuracy</th>\n",
       "      <th>f1</th>\n",
       "      <th>roc_auc</th>\n",
       "      <th>Time(s)</th>\n",
       "    </tr>\n",
       "  </thead>\n",
       "  <tbody>\n",
       "    <tr>\n",
       "      <th>LogisticRegression</th>\n",
       "      <td>0.811594</td>\n",
       "      <td>0.756757</td>\n",
       "      <td>0.816474</td>\n",
       "      <td>0.826816</td>\n",
       "      <td>0.783217</td>\n",
       "      <td>0.816474</td>\n",
       "      <td>1.811364</td>\n",
       "    </tr>\n",
       "    <tr>\n",
       "      <th>LogisticRegressionCV</th>\n",
       "      <td>0.805556</td>\n",
       "      <td>0.783784</td>\n",
       "      <td>0.825225</td>\n",
       "      <td>0.832402</td>\n",
       "      <td>0.794521</td>\n",
       "      <td>0.825225</td>\n",
       "      <td>3.283956</td>\n",
       "    </tr>\n",
       "    <tr>\n",
       "      <th>SGDClassifier</th>\n",
       "      <td>0.623853</td>\n",
       "      <td>0.918919</td>\n",
       "      <td>0.764221</td>\n",
       "      <td>0.737430</td>\n",
       "      <td>0.743169</td>\n",
       "      <td>0.764221</td>\n",
       "      <td>0.039833</td>\n",
       "    </tr>\n",
       "    <tr>\n",
       "      <th>PassiveAggressiveClassifier</th>\n",
       "      <td>0.767442</td>\n",
       "      <td>0.445946</td>\n",
       "      <td>0.675354</td>\n",
       "      <td>0.715084</td>\n",
       "      <td>0.564103</td>\n",
       "      <td>0.675354</td>\n",
       "      <td>0.023707</td>\n",
       "    </tr>\n",
       "    <tr>\n",
       "      <th>RidgeClassifier</th>\n",
       "      <td>0.797101</td>\n",
       "      <td>0.743243</td>\n",
       "      <td>0.804955</td>\n",
       "      <td>0.815642</td>\n",
       "      <td>0.769231</td>\n",
       "      <td>0.804955</td>\n",
       "      <td>0.054635</td>\n",
       "    </tr>\n",
       "    <tr>\n",
       "      <th>RidgeClassifierCV</th>\n",
       "      <td>0.797101</td>\n",
       "      <td>0.743243</td>\n",
       "      <td>0.804955</td>\n",
       "      <td>0.815642</td>\n",
       "      <td>0.769231</td>\n",
       "      <td>0.804955</td>\n",
       "      <td>0.383866</td>\n",
       "    </tr>\n",
       "    <tr>\n",
       "      <th>Perceptron</th>\n",
       "      <td>0.000000</td>\n",
       "      <td>0.000000</td>\n",
       "      <td>0.500000</td>\n",
       "      <td>0.586592</td>\n",
       "      <td>0.000000</td>\n",
       "      <td>0.500000</td>\n",
       "      <td>0.023538</td>\n",
       "    </tr>\n",
       "    <tr>\n",
       "      <th>LinearSVC</th>\n",
       "      <td>0.909091</td>\n",
       "      <td>0.540541</td>\n",
       "      <td>0.751223</td>\n",
       "      <td>0.787709</td>\n",
       "      <td>0.677966</td>\n",
       "      <td>0.751223</td>\n",
       "      <td>0.037611</td>\n",
       "    </tr>\n",
       "    <tr>\n",
       "      <th>NuSVC</th>\n",
       "      <td>0.753846</td>\n",
       "      <td>0.662162</td>\n",
       "      <td>0.754891</td>\n",
       "      <td>0.770950</td>\n",
       "      <td>0.705036</td>\n",
       "      <td>0.754891</td>\n",
       "      <td>0.130920</td>\n",
       "    </tr>\n",
       "    <tr>\n",
       "      <th>SVC</th>\n",
       "      <td>0.750000</td>\n",
       "      <td>0.243243</td>\n",
       "      <td>0.593050</td>\n",
       "      <td>0.653631</td>\n",
       "      <td>0.367347</td>\n",
       "      <td>0.593050</td>\n",
       "      <td>0.176371</td>\n",
       "    </tr>\n",
       "    <tr>\n",
       "      <th>KNeighborsClassifier</th>\n",
       "      <td>0.650000</td>\n",
       "      <td>0.527027</td>\n",
       "      <td>0.663514</td>\n",
       "      <td>0.687151</td>\n",
       "      <td>0.582090</td>\n",
       "      <td>0.663514</td>\n",
       "      <td>0.189499</td>\n",
       "    </tr>\n",
       "    <tr>\n",
       "      <th>MLPClassifier</th>\n",
       "      <td>0.757576</td>\n",
       "      <td>0.675676</td>\n",
       "      <td>0.761647</td>\n",
       "      <td>0.776536</td>\n",
       "      <td>0.714286</td>\n",
       "      <td>0.761647</td>\n",
       "      <td>5.730857</td>\n",
       "    </tr>\n",
       "    <tr>\n",
       "      <th>GaussianNB</th>\n",
       "      <td>0.447761</td>\n",
       "      <td>0.810811</td>\n",
       "      <td>0.553024</td>\n",
       "      <td>0.508380</td>\n",
       "      <td>0.576923</td>\n",
       "      <td>0.553024</td>\n",
       "      <td>0.021909</td>\n",
       "    </tr>\n",
       "    <tr>\n",
       "      <th>BernoulliNB</th>\n",
       "      <td>0.804348</td>\n",
       "      <td>0.500000</td>\n",
       "      <td>0.707143</td>\n",
       "      <td>0.743017</td>\n",
       "      <td>0.616667</td>\n",
       "      <td>0.707143</td>\n",
       "      <td>0.017812</td>\n",
       "    </tr>\n",
       "    <tr>\n",
       "      <th>MultinomialNB</th>\n",
       "      <td>0.755102</td>\n",
       "      <td>0.500000</td>\n",
       "      <td>0.692857</td>\n",
       "      <td>0.726257</td>\n",
       "      <td>0.601626</td>\n",
       "      <td>0.692857</td>\n",
       "      <td>0.013233</td>\n",
       "    </tr>\n",
       "    <tr>\n",
       "      <th>ComplementNB</th>\n",
       "      <td>0.750000</td>\n",
       "      <td>0.527027</td>\n",
       "      <td>0.701609</td>\n",
       "      <td>0.731844</td>\n",
       "      <td>0.619048</td>\n",
       "      <td>0.701609</td>\n",
       "      <td>0.014205</td>\n",
       "    </tr>\n",
       "    <tr>\n",
       "      <th>DecisionTreeClassifier</th>\n",
       "      <td>0.800000</td>\n",
       "      <td>0.648649</td>\n",
       "      <td>0.767181</td>\n",
       "      <td>0.787709</td>\n",
       "      <td>0.716418</td>\n",
       "      <td>0.767181</td>\n",
       "      <td>0.034473</td>\n",
       "    </tr>\n",
       "    <tr>\n",
       "      <th>ExtraTreeClassifier</th>\n",
       "      <td>0.738462</td>\n",
       "      <td>0.648649</td>\n",
       "      <td>0.743372</td>\n",
       "      <td>0.759777</td>\n",
       "      <td>0.690647</td>\n",
       "      <td>0.743372</td>\n",
       "      <td>0.015142</td>\n",
       "    </tr>\n",
       "    <tr>\n",
       "      <th>GradientBoostingClassifier</th>\n",
       "      <td>0.800000</td>\n",
       "      <td>0.648649</td>\n",
       "      <td>0.767181</td>\n",
       "      <td>0.787709</td>\n",
       "      <td>0.716418</td>\n",
       "      <td>0.767181</td>\n",
       "      <td>0.580659</td>\n",
       "    </tr>\n",
       "    <tr>\n",
       "      <th>ExtraTreesClassifier</th>\n",
       "      <td>0.830508</td>\n",
       "      <td>0.662162</td>\n",
       "      <td>0.783462</td>\n",
       "      <td>0.804469</td>\n",
       "      <td>0.736842</td>\n",
       "      <td>0.783462</td>\n",
       "      <td>0.136309</td>\n",
       "    </tr>\n",
       "    <tr>\n",
       "      <th>BaggingClassifier</th>\n",
       "      <td>0.810345</td>\n",
       "      <td>0.635135</td>\n",
       "      <td>0.765187</td>\n",
       "      <td>0.787709</td>\n",
       "      <td>0.712121</td>\n",
       "      <td>0.765187</td>\n",
       "      <td>2.329427</td>\n",
       "    </tr>\n",
       "    <tr>\n",
       "      <th>CatBoostClassifier</th>\n",
       "      <td>0.825397</td>\n",
       "      <td>0.702703</td>\n",
       "      <td>0.798970</td>\n",
       "      <td>0.815642</td>\n",
       "      <td>0.759124</td>\n",
       "      <td>0.798970</td>\n",
       "      <td>3.207471</td>\n",
       "    </tr>\n",
       "    <tr>\n",
       "      <th>RandomForestClassifier</th>\n",
       "      <td>0.857143</td>\n",
       "      <td>0.648649</td>\n",
       "      <td>0.786229</td>\n",
       "      <td>0.810056</td>\n",
       "      <td>0.738462</td>\n",
       "      <td>0.786229</td>\n",
       "      <td>0.167299</td>\n",
       "    </tr>\n",
       "    <tr>\n",
       "      <th>AdaBoostClassifier</th>\n",
       "      <td>0.777778</td>\n",
       "      <td>0.756757</td>\n",
       "      <td>0.802188</td>\n",
       "      <td>0.810056</td>\n",
       "      <td>0.767123</td>\n",
       "      <td>0.802188</td>\n",
       "      <td>4.875896</td>\n",
       "    </tr>\n",
       "    <tr>\n",
       "      <th>HistGradientBoostingClassifier</th>\n",
       "      <td>0.756410</td>\n",
       "      <td>0.797297</td>\n",
       "      <td>0.808172</td>\n",
       "      <td>0.810056</td>\n",
       "      <td>0.776316</td>\n",
       "      <td>0.808172</td>\n",
       "      <td>25.838042</td>\n",
       "    </tr>\n",
       "    <tr>\n",
       "      <th>LGBMClassifier</th>\n",
       "      <td>0.717949</td>\n",
       "      <td>0.756757</td>\n",
       "      <td>0.773616</td>\n",
       "      <td>0.776536</td>\n",
       "      <td>0.736842</td>\n",
       "      <td>0.773616</td>\n",
       "      <td>1.071807</td>\n",
       "    </tr>\n",
       "    <tr>\n",
       "      <th>XGBClassifier</th>\n",
       "      <td>0.700000</td>\n",
       "      <td>0.756757</td>\n",
       "      <td>0.764093</td>\n",
       "      <td>0.765363</td>\n",
       "      <td>0.727273</td>\n",
       "      <td>0.764093</td>\n",
       "      <td>4.082640</td>\n",
       "    </tr>\n",
       "  </tbody>\n",
       "</table>\n",
       "</div>"
      ],
      "text/plain": [
       "                                precision    recall  balanced_accuracy  \\\n",
       "LogisticRegression               0.811594  0.756757           0.816474   \n",
       "LogisticRegressionCV             0.805556  0.783784           0.825225   \n",
       "SGDClassifier                    0.623853  0.918919           0.764221   \n",
       "PassiveAggressiveClassifier      0.767442  0.445946           0.675354   \n",
       "RidgeClassifier                  0.797101  0.743243           0.804955   \n",
       "RidgeClassifierCV                0.797101  0.743243           0.804955   \n",
       "Perceptron                       0.000000  0.000000           0.500000   \n",
       "LinearSVC                        0.909091  0.540541           0.751223   \n",
       "NuSVC                            0.753846  0.662162           0.754891   \n",
       "SVC                              0.750000  0.243243           0.593050   \n",
       "KNeighborsClassifier             0.650000  0.527027           0.663514   \n",
       "MLPClassifier                    0.757576  0.675676           0.761647   \n",
       "GaussianNB                       0.447761  0.810811           0.553024   \n",
       "BernoulliNB                      0.804348  0.500000           0.707143   \n",
       "MultinomialNB                    0.755102  0.500000           0.692857   \n",
       "ComplementNB                     0.750000  0.527027           0.701609   \n",
       "DecisionTreeClassifier           0.800000  0.648649           0.767181   \n",
       "ExtraTreeClassifier              0.738462  0.648649           0.743372   \n",
       "GradientBoostingClassifier       0.800000  0.648649           0.767181   \n",
       "ExtraTreesClassifier             0.830508  0.662162           0.783462   \n",
       "BaggingClassifier                0.810345  0.635135           0.765187   \n",
       "CatBoostClassifier               0.825397  0.702703           0.798970   \n",
       "RandomForestClassifier           0.857143  0.648649           0.786229   \n",
       "AdaBoostClassifier               0.777778  0.756757           0.802188   \n",
       "HistGradientBoostingClassifier   0.756410  0.797297           0.808172   \n",
       "LGBMClassifier                   0.717949  0.756757           0.773616   \n",
       "XGBClassifier                    0.700000  0.756757           0.764093   \n",
       "\n",
       "                                accuracy        f1   roc_auc    Time(s)  \n",
       "LogisticRegression              0.826816  0.783217  0.816474   1.811364  \n",
       "LogisticRegressionCV            0.832402  0.794521  0.825225   3.283956  \n",
       "SGDClassifier                   0.737430  0.743169  0.764221   0.039833  \n",
       "PassiveAggressiveClassifier     0.715084  0.564103  0.675354   0.023707  \n",
       "RidgeClassifier                 0.815642  0.769231  0.804955   0.054635  \n",
       "RidgeClassifierCV               0.815642  0.769231  0.804955   0.383866  \n",
       "Perceptron                      0.586592  0.000000  0.500000   0.023538  \n",
       "LinearSVC                       0.787709  0.677966  0.751223   0.037611  \n",
       "NuSVC                           0.770950  0.705036  0.754891   0.130920  \n",
       "SVC                             0.653631  0.367347  0.593050   0.176371  \n",
       "KNeighborsClassifier            0.687151  0.582090  0.663514   0.189499  \n",
       "MLPClassifier                   0.776536  0.714286  0.761647   5.730857  \n",
       "GaussianNB                      0.508380  0.576923  0.553024   0.021909  \n",
       "BernoulliNB                     0.743017  0.616667  0.707143   0.017812  \n",
       "MultinomialNB                   0.726257  0.601626  0.692857   0.013233  \n",
       "ComplementNB                    0.731844  0.619048  0.701609   0.014205  \n",
       "DecisionTreeClassifier          0.787709  0.716418  0.767181   0.034473  \n",
       "ExtraTreeClassifier             0.759777  0.690647  0.743372   0.015142  \n",
       "GradientBoostingClassifier      0.787709  0.716418  0.767181   0.580659  \n",
       "ExtraTreesClassifier            0.804469  0.736842  0.783462   0.136309  \n",
       "BaggingClassifier               0.787709  0.712121  0.765187   2.329427  \n",
       "CatBoostClassifier              0.815642  0.759124  0.798970   3.207471  \n",
       "RandomForestClassifier          0.810056  0.738462  0.786229   0.167299  \n",
       "AdaBoostClassifier              0.810056  0.767123  0.802188   4.875896  \n",
       "HistGradientBoostingClassifier  0.810056  0.776316  0.808172  25.838042  \n",
       "LGBMClassifier                  0.776536  0.736842  0.773616   1.071807  \n",
       "XGBClassifier                   0.765363  0.727273  0.764093   4.082640  "
      ]
     },
     "execution_count": 5,
     "metadata": {},
     "output_type": "execute_result"
    }
   ],
   "source": [
    "data_fit"
   ]
  },
  {
   "cell_type": "code",
   "execution_count": 8,
   "id": "ad5e7005",
   "metadata": {},
   "outputs": [
    {
     "data": {
      "text/plain": [
       "True"
      ]
     },
     "execution_count": 8,
     "metadata": {},
     "output_type": "execute_result"
    }
   ],
   "source": [
    "a = [1, 3]\n",
    "b = [3, 5]\n",
    " \n"
   ]
  },
  {
   "cell_type": "code",
   "execution_count": null,
   "id": "e19c007d",
   "metadata": {},
   "outputs": [],
   "source": []
  }
 ],
 "metadata": {
  "kernelspec": {
   "display_name": ".venv",
   "language": "python",
   "name": "python3"
  },
  "language_info": {
   "codemirror_mode": {
    "name": "ipython",
    "version": 3
   },
   "file_extension": ".py",
   "mimetype": "text/x-python",
   "name": "python",
   "nbconvert_exporter": "python",
   "pygments_lexer": "ipython3",
   "version": "3.10.11"
  }
 },
 "nbformat": 4,
 "nbformat_minor": 5
}
