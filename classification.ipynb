{
 "cells": [
  {
   "cell_type": "code",
   "execution_count": 1,
   "id": "edd187fa-da67-4c30-92c4-0a2e261f67ef",
   "metadata": {},
   "outputs": [
    {
     "ename": "SyntaxError",
     "evalue": "invalid syntax. Perhaps you forgot a comma? (classification_models.py, line 174)",
     "output_type": "error",
     "traceback": [
      "Traceback \u001b[1;36m(most recent call last)\u001b[0m:\n",
      "\u001b[0m  File \u001b[0;32mc:\\Users\\admin\\Documents\\BIG PERSONAL PROJECTS\\MultiTrain\\.venv\\lib\\site-packages\\IPython\\core\\interactiveshell.py:3579\u001b[0m in \u001b[0;35mrun_code\u001b[0m\n    exec(code_obj, self.user_global_ns, self.user_ns)\u001b[0m\n",
      "\u001b[0m  Cell \u001b[0;32mIn[1], line 1\u001b[0m\n    from MultiTrain.classification.classification_models import MultiClassifier\u001b[0m\n",
      "\u001b[1;36m  File \u001b[1;32mc:\\Users\\admin\\Documents\\BIG PERSONAL PROJECTS\\MultiTrain\\MultiTrain\\__init__.py:1\u001b[1;36m\n\u001b[1;33m    from MultiTrain.classification.classification_models import MultiClassifier\u001b[1;36m\n",
      "\u001b[1;36m  File \u001b[1;32mc:\\Users\\admin\\Documents\\BIG PERSONAL PROJECTS\\MultiTrain\\MultiTrain\\classification\\classification_models.py:174\u001b[1;36m\u001b[0m\n\u001b[1;33m    'classification'\u001b[0m\n\u001b[1;37m    ^\u001b[0m\n\u001b[1;31mSyntaxError\u001b[0m\u001b[1;31m:\u001b[0m invalid syntax. Perhaps you forgot a comma?\n"
     ]
    }
   ],
   "source": [
    "from MultiTrain.classification.classification_models import MultiClassifier\n",
    "\n",
    "import pandas as pd # type: ignore"
   ]
  },
  {
   "cell_type": "code",
   "execution_count": 2,
   "id": "fec8bb3f-74e6-4bfa-9897-f09a7de303ae",
   "metadata": {},
   "outputs": [],
   "source": [
    "df = pd.read_csv('examples/datasets/train.csv')"
   ]
  },
  {
   "cell_type": "code",
   "execution_count": null,
   "id": "87cb8b8f",
   "metadata": {},
   "outputs": [],
   "source": []
  },
  {
   "cell_type": "code",
   "execution_count": 3,
   "id": "e4ada8d3",
   "metadata": {},
   "outputs": [
    {
     "name": "stdout",
     "output_type": "stream",
     "text": [
      "891\n"
     ]
    }
   ],
   "source": [
    "train = MultiClassifier()\n",
    "dataset_splits = train.split(data=df, \n",
    "                             target='Survived',\n",
    "                             manual_encode={'label': ['Sex', 'Embarked'],\n",
    "                                            'onehot': ['Ticket', 'Cabin']},\n",
    "                             drop=['PassengerId', 'Name'],\n",
    "                             fix_nan_custom={'Age': 'bfill', \n",
    "                                             'Embarked': 'ffill',\n",
    "                                             'Cabin': 'ffill'},)"
   ]
  },
  {
   "cell_type": "code",
   "execution_count": 7,
   "id": "7670fa71",
   "metadata": {},
   "outputs": [
    {
     "data": {
      "application/vnd.jupyter.widget-view+json": {
       "model_id": "51507c0a58db4a2cbdf23d35f163d404",
       "version_major": 2,
       "version_minor": 0
      },
      "text/plain": [
       "Training Models:   0%|           | 0/27 [00:00<?, ?it/s]"
      ]
     },
     "metadata": {},
     "output_type": "display_data"
    },
    {
     "data": {
      "application/vnd.jupyter.widget-view+json": {
       "model_id": "62b69ebfb6ce4353a4965fab063f3b5c",
       "version_major": 2,
       "version_minor": 0
      },
      "text/plain": [
       "Evaluating LogisticRegression:   0%|          | 0/6 [00:00<?, ?it/s]"
      ]
     },
     "metadata": {},
     "output_type": "display_data"
    },
    {
     "name": "stderr",
     "output_type": "stream",
     "text": [
      "c:\\Users\\admin\\Documents\\BIG PERSONAL PROJECTS\\MultiTrain\\.venv\\lib\\site-packages\\sklearn\\linear_model\\_logistic.py:465: ConvergenceWarning: lbfgs failed to converge (status=1):\n",
      "STOP: TOTAL NO. of ITERATIONS REACHED LIMIT.\n",
      "\n",
      "Increase the number of iterations (max_iter) or scale the data as shown in:\n",
      "    https://scikit-learn.org/stable/modules/preprocessing.html\n",
      "Please also refer to the documentation for alternative solver options:\n",
      "    https://scikit-learn.org/stable/modules/linear_model.html#logistic-regression\n",
      "  n_iter_i = _check_optimize_result(\n"
     ]
    },
    {
     "data": {
      "application/vnd.jupyter.widget-view+json": {
       "model_id": "2ecdde044d264fcc8acf555abc495627",
       "version_major": 2,
       "version_minor": 0
      },
      "text/plain": [
       "Evaluating LogisticRegressionCV:   0%|          | 0/6 [00:00<?, ?it/s]"
      ]
     },
     "metadata": {},
     "output_type": "display_data"
    },
    {
     "data": {
      "application/vnd.jupyter.widget-view+json": {
       "model_id": "d5d0513824d0404987d9c578eec1af2d",
       "version_major": 2,
       "version_minor": 0
      },
      "text/plain": [
       "Evaluating SGDClassifier:   0%|          | 0/6 [00:00<?, ?it/s]"
      ]
     },
     "metadata": {},
     "output_type": "display_data"
    },
    {
     "data": {
      "application/vnd.jupyter.widget-view+json": {
       "model_id": "d089947ec8014172a0727f8c3779d0d9",
       "version_major": 2,
       "version_minor": 0
      },
      "text/plain": [
       "Evaluating PassiveAggressiveClassifier:   0%|          | 0/6 [00:00<?, ?it/s]"
      ]
     },
     "metadata": {},
     "output_type": "display_data"
    },
    {
     "data": {
      "application/vnd.jupyter.widget-view+json": {
       "model_id": "92ea2eb5f44d4b8db654a11f3f263674",
       "version_major": 2,
       "version_minor": 0
      },
      "text/plain": [
       "Evaluating RidgeClassifier:   0%|          | 0/6 [00:00<?, ?it/s]"
      ]
     },
     "metadata": {},
     "output_type": "display_data"
    },
    {
     "data": {
      "application/vnd.jupyter.widget-view+json": {
       "model_id": "ecac9402176e42e48f8bb15f58d93476",
       "version_major": 2,
       "version_minor": 0
      },
      "text/plain": [
       "Evaluating RidgeClassifierCV:   0%|          | 0/6 [00:00<?, ?it/s]"
      ]
     },
     "metadata": {},
     "output_type": "display_data"
    },
    {
     "data": {
      "application/vnd.jupyter.widget-view+json": {
       "model_id": "b69855e0882d47ff92af06f763d99dea",
       "version_major": 2,
       "version_minor": 0
      },
      "text/plain": [
       "Evaluating Perceptron:   0%|          | 0/6 [00:00<?, ?it/s]"
      ]
     },
     "metadata": {},
     "output_type": "display_data"
    },
    {
     "name": "stderr",
     "output_type": "stream",
     "text": [
      "c:\\Users\\admin\\Documents\\BIG PERSONAL PROJECTS\\MultiTrain\\.venv\\lib\\site-packages\\sklearn\\metrics\\_classification.py:1565: UndefinedMetricWarning: Precision is ill-defined and being set to 0.0 due to no predicted samples. Use `zero_division` parameter to control this behavior.\n",
      "  _warn_prf(average, modifier, f\"{metric.capitalize()} is\", len(result))\n",
      "c:\\Users\\admin\\Documents\\BIG PERSONAL PROJECTS\\MultiTrain\\.venv\\lib\\site-packages\\sklearn\\svm\\_base.py:1249: ConvergenceWarning: Liblinear failed to converge, increase the number of iterations.\n",
      "  warnings.warn(\n"
     ]
    },
    {
     "data": {
      "application/vnd.jupyter.widget-view+json": {
       "model_id": "d7591ac639624d39819b92129f325360",
       "version_major": 2,
       "version_minor": 0
      },
      "text/plain": [
       "Evaluating LinearSVC:   0%|          | 0/6 [00:00<?, ?it/s]"
      ]
     },
     "metadata": {},
     "output_type": "display_data"
    },
    {
     "data": {
      "application/vnd.jupyter.widget-view+json": {
       "model_id": "b261f61d706e4fdfbdf7ed920018536e",
       "version_major": 2,
       "version_minor": 0
      },
      "text/plain": [
       "Evaluating NuSVC:   0%|          | 0/6 [00:00<?, ?it/s]"
      ]
     },
     "metadata": {},
     "output_type": "display_data"
    },
    {
     "data": {
      "application/vnd.jupyter.widget-view+json": {
       "model_id": "d85637c525bf4ea2825689621608d387",
       "version_major": 2,
       "version_minor": 0
      },
      "text/plain": [
       "Evaluating SVC:   0%|          | 0/6 [00:00<?, ?it/s]"
      ]
     },
     "metadata": {},
     "output_type": "display_data"
    },
    {
     "data": {
      "application/vnd.jupyter.widget-view+json": {
       "model_id": "7856a3bbe448482b8070eaa7e9eb88f7",
       "version_major": 2,
       "version_minor": 0
      },
      "text/plain": [
       "Evaluating KNeighborsClassifier:   0%|          | 0/6 [00:00<?, ?it/s]"
      ]
     },
     "metadata": {},
     "output_type": "display_data"
    },
    {
     "name": "stderr",
     "output_type": "stream",
     "text": [
      "c:\\Users\\admin\\Documents\\BIG PERSONAL PROJECTS\\MultiTrain\\.venv\\lib\\site-packages\\sklearn\\neural_network\\_multilayer_perceptron.py:691: ConvergenceWarning: Stochastic Optimizer: Maximum iterations (200) reached and the optimization hasn't converged yet.\n",
      "  warnings.warn(\n"
     ]
    },
    {
     "data": {
      "application/vnd.jupyter.widget-view+json": {
       "model_id": "e007a3f066694e23a186f714f798d747",
       "version_major": 2,
       "version_minor": 0
      },
      "text/plain": [
       "Evaluating MLPClassifier:   0%|          | 0/6 [00:00<?, ?it/s]"
      ]
     },
     "metadata": {},
     "output_type": "display_data"
    },
    {
     "data": {
      "application/vnd.jupyter.widget-view+json": {
       "model_id": "e78ac23cf7984a37b72520205a54d0a1",
       "version_major": 2,
       "version_minor": 0
      },
      "text/plain": [
       "Evaluating GaussianNB:   0%|          | 0/6 [00:00<?, ?it/s]"
      ]
     },
     "metadata": {},
     "output_type": "display_data"
    },
    {
     "data": {
      "application/vnd.jupyter.widget-view+json": {
       "model_id": "430c7206bb214543a4119f7724830201",
       "version_major": 2,
       "version_minor": 0
      },
      "text/plain": [
       "Evaluating BernoulliNB:   0%|          | 0/6 [00:00<?, ?it/s]"
      ]
     },
     "metadata": {},
     "output_type": "display_data"
    },
    {
     "data": {
      "application/vnd.jupyter.widget-view+json": {
       "model_id": "bf9558e7363e4584ad16e02bac60cee7",
       "version_major": 2,
       "version_minor": 0
      },
      "text/plain": [
       "Evaluating MultinomialNB:   0%|          | 0/6 [00:00<?, ?it/s]"
      ]
     },
     "metadata": {},
     "output_type": "display_data"
    },
    {
     "data": {
      "application/vnd.jupyter.widget-view+json": {
       "model_id": "0cd66dd8649b4904b7eb92ad2ebb3143",
       "version_major": 2,
       "version_minor": 0
      },
      "text/plain": [
       "Evaluating ComplementNB:   0%|          | 0/6 [00:00<?, ?it/s]"
      ]
     },
     "metadata": {},
     "output_type": "display_data"
    },
    {
     "data": {
      "application/vnd.jupyter.widget-view+json": {
       "model_id": "f890b987e27c4235baae863353d0f5c8",
       "version_major": 2,
       "version_minor": 0
      },
      "text/plain": [
       "Evaluating DecisionTreeClassifier:   0%|          | 0/6 [00:00<?, ?it/s]"
      ]
     },
     "metadata": {},
     "output_type": "display_data"
    },
    {
     "data": {
      "application/vnd.jupyter.widget-view+json": {
       "model_id": "ee6eaa67f46a4f8285770153a2ce45b3",
       "version_major": 2,
       "version_minor": 0
      },
      "text/plain": [
       "Evaluating ExtraTreeClassifier:   0%|          | 0/6 [00:00<?, ?it/s]"
      ]
     },
     "metadata": {},
     "output_type": "display_data"
    },
    {
     "data": {
      "application/vnd.jupyter.widget-view+json": {
       "model_id": "10f82b82b9db4c7b88028671972e86be",
       "version_major": 2,
       "version_minor": 0
      },
      "text/plain": [
       "Evaluating GradientBoostingClassifier:   0%|          | 0/6 [00:00<?, ?it/s]"
      ]
     },
     "metadata": {},
     "output_type": "display_data"
    },
    {
     "data": {
      "application/vnd.jupyter.widget-view+json": {
       "model_id": "f27291caf5554e29b39e407ff2ace718",
       "version_major": 2,
       "version_minor": 0
      },
      "text/plain": [
       "Evaluating ExtraTreesClassifier:   0%|          | 0/6 [00:00<?, ?it/s]"
      ]
     },
     "metadata": {},
     "output_type": "display_data"
    },
    {
     "data": {
      "application/vnd.jupyter.widget-view+json": {
       "model_id": "62ca6b8faa474d06b09b6c974017fb8c",
       "version_major": 2,
       "version_minor": 0
      },
      "text/plain": [
       "Evaluating BaggingClassifier:   0%|          | 0/6 [00:00<?, ?it/s]"
      ]
     },
     "metadata": {},
     "output_type": "display_data"
    },
    {
     "data": {
      "application/vnd.jupyter.widget-view+json": {
       "model_id": "aae542490fe746a59362533fac2f7bc5",
       "version_major": 2,
       "version_minor": 0
      },
      "text/plain": [
       "Evaluating CatBoostClassifier:   0%|          | 0/6 [00:00<?, ?it/s]"
      ]
     },
     "metadata": {},
     "output_type": "display_data"
    },
    {
     "data": {
      "application/vnd.jupyter.widget-view+json": {
       "model_id": "421de80b3de849faaf6a70e75531b72d",
       "version_major": 2,
       "version_minor": 0
      },
      "text/plain": [
       "Evaluating RandomForestClassifier:   0%|          | 0/6 [00:00<?, ?it/s]"
      ]
     },
     "metadata": {},
     "output_type": "display_data"
    },
    {
     "data": {
      "application/vnd.jupyter.widget-view+json": {
       "model_id": "74177c3be7de4e81827ceca64181c817",
       "version_major": 2,
       "version_minor": 0
      },
      "text/plain": [
       "Evaluating AdaBoostClassifier:   0%|          | 0/6 [00:00<?, ?it/s]"
      ]
     },
     "metadata": {},
     "output_type": "display_data"
    },
    {
     "data": {
      "application/vnd.jupyter.widget-view+json": {
       "model_id": "869c28ef5ab94edea583eec9cef04dfa",
       "version_major": 2,
       "version_minor": 0
      },
      "text/plain": [
       "Evaluating HistGradientBoostingClassifier:   0%|          | 0/6 [00:00<?, ?it/s]"
      ]
     },
     "metadata": {},
     "output_type": "display_data"
    },
    {
     "data": {
      "application/vnd.jupyter.widget-view+json": {
       "model_id": "f2a698eb0872440cbb2ec3a728ae219e",
       "version_major": 2,
       "version_minor": 0
      },
      "text/plain": [
       "Evaluating LGBMClassifier:   0%|          | 0/6 [00:00<?, ?it/s]"
      ]
     },
     "metadata": {},
     "output_type": "display_data"
    },
    {
     "data": {
      "application/vnd.jupyter.widget-view+json": {
       "model_id": "e56406cff4d94ae2a14b67e4181fbf72",
       "version_major": 2,
       "version_minor": 0
      },
      "text/plain": [
       "Evaluating XGBClassifier:   0%|          | 0/6 [00:00<?, ?it/s]"
      ]
     },
     "metadata": {},
     "output_type": "display_data"
    }
   ],
   "source": [
    "data_fit = train.fit(datasplits=dataset_splits,\n",
    "                     )"
   ]
  },
  {
   "cell_type": "code",
   "execution_count": 8,
   "id": "abbd5718",
   "metadata": {},
   "outputs": [
    {
     "data": {
      "text/html": [
       "<div>\n",
       "<style scoped>\n",
       "    .dataframe tbody tr th:only-of-type {\n",
       "        vertical-align: middle;\n",
       "    }\n",
       "\n",
       "    .dataframe tbody tr th {\n",
       "        vertical-align: top;\n",
       "    }\n",
       "\n",
       "    .dataframe thead th {\n",
       "        text-align: right;\n",
       "    }\n",
       "</style>\n",
       "<table border=\"1\" class=\"dataframe\">\n",
       "  <thead>\n",
       "    <tr style=\"text-align: right;\">\n",
       "      <th></th>\n",
       "      <th>precision</th>\n",
       "      <th>recall</th>\n",
       "      <th>balanced_accuracy</th>\n",
       "      <th>accuracy</th>\n",
       "      <th>f1</th>\n",
       "      <th>roc_auc</th>\n",
       "      <th>Time(s)</th>\n",
       "    </tr>\n",
       "  </thead>\n",
       "  <tbody>\n",
       "    <tr>\n",
       "      <th>LogisticRegression</th>\n",
       "      <td>0.848485</td>\n",
       "      <td>0.756757</td>\n",
       "      <td>0.830759</td>\n",
       "      <td>0.843575</td>\n",
       "      <td>0.800000</td>\n",
       "      <td>0.830759</td>\n",
       "      <td>1.708289</td>\n",
       "    </tr>\n",
       "    <tr>\n",
       "      <th>LogisticRegressionCV</th>\n",
       "      <td>0.797101</td>\n",
       "      <td>0.743243</td>\n",
       "      <td>0.804955</td>\n",
       "      <td>0.815642</td>\n",
       "      <td>0.769231</td>\n",
       "      <td>0.804955</td>\n",
       "      <td>1.437781</td>\n",
       "    </tr>\n",
       "    <tr>\n",
       "      <th>SGDClassifier</th>\n",
       "      <td>0.418079</td>\n",
       "      <td>1.000000</td>\n",
       "      <td>0.509524</td>\n",
       "      <td>0.424581</td>\n",
       "      <td>0.589641</td>\n",
       "      <td>0.509524</td>\n",
       "      <td>0.027840</td>\n",
       "    </tr>\n",
       "    <tr>\n",
       "      <th>PassiveAggressiveClassifier</th>\n",
       "      <td>0.750000</td>\n",
       "      <td>0.527027</td>\n",
       "      <td>0.701609</td>\n",
       "      <td>0.731844</td>\n",
       "      <td>0.619048</td>\n",
       "      <td>0.701609</td>\n",
       "      <td>0.030963</td>\n",
       "    </tr>\n",
       "    <tr>\n",
       "      <th>RidgeClassifier</th>\n",
       "      <td>0.797101</td>\n",
       "      <td>0.743243</td>\n",
       "      <td>0.804955</td>\n",
       "      <td>0.815642</td>\n",
       "      <td>0.769231</td>\n",
       "      <td>0.804955</td>\n",
       "      <td>0.072997</td>\n",
       "    </tr>\n",
       "    <tr>\n",
       "      <th>RidgeClassifierCV</th>\n",
       "      <td>0.815385</td>\n",
       "      <td>0.716216</td>\n",
       "      <td>0.800965</td>\n",
       "      <td>0.815642</td>\n",
       "      <td>0.762590</td>\n",
       "      <td>0.800965</td>\n",
       "      <td>0.465066</td>\n",
       "    </tr>\n",
       "    <tr>\n",
       "      <th>Perceptron</th>\n",
       "      <td>0.000000</td>\n",
       "      <td>0.000000</td>\n",
       "      <td>0.500000</td>\n",
       "      <td>0.586592</td>\n",
       "      <td>0.000000</td>\n",
       "      <td>0.500000</td>\n",
       "      <td>0.018972</td>\n",
       "    </tr>\n",
       "    <tr>\n",
       "      <th>LinearSVC</th>\n",
       "      <td>0.909091</td>\n",
       "      <td>0.540541</td>\n",
       "      <td>0.751223</td>\n",
       "      <td>0.787709</td>\n",
       "      <td>0.677966</td>\n",
       "      <td>0.751223</td>\n",
       "      <td>0.029757</td>\n",
       "    </tr>\n",
       "    <tr>\n",
       "      <th>NuSVC</th>\n",
       "      <td>0.753425</td>\n",
       "      <td>0.743243</td>\n",
       "      <td>0.785907</td>\n",
       "      <td>0.793296</td>\n",
       "      <td>0.748299</td>\n",
       "      <td>0.785907</td>\n",
       "      <td>0.107421</td>\n",
       "    </tr>\n",
       "    <tr>\n",
       "      <th>SVC</th>\n",
       "      <td>0.750000</td>\n",
       "      <td>0.243243</td>\n",
       "      <td>0.593050</td>\n",
       "      <td>0.653631</td>\n",
       "      <td>0.367347</td>\n",
       "      <td>0.593050</td>\n",
       "      <td>0.095646</td>\n",
       "    </tr>\n",
       "    <tr>\n",
       "      <th>KNeighborsClassifier</th>\n",
       "      <td>0.650000</td>\n",
       "      <td>0.527027</td>\n",
       "      <td>0.663514</td>\n",
       "      <td>0.687151</td>\n",
       "      <td>0.582090</td>\n",
       "      <td>0.663514</td>\n",
       "      <td>0.021636</td>\n",
       "    </tr>\n",
       "    <tr>\n",
       "      <th>MLPClassifier</th>\n",
       "      <td>0.772727</td>\n",
       "      <td>0.689189</td>\n",
       "      <td>0.773166</td>\n",
       "      <td>0.787709</td>\n",
       "      <td>0.728571</td>\n",
       "      <td>0.773166</td>\n",
       "      <td>3.743830</td>\n",
       "    </tr>\n",
       "    <tr>\n",
       "      <th>GaussianNB</th>\n",
       "      <td>0.447761</td>\n",
       "      <td>0.810811</td>\n",
       "      <td>0.553024</td>\n",
       "      <td>0.508380</td>\n",
       "      <td>0.576923</td>\n",
       "      <td>0.553024</td>\n",
       "      <td>0.015978</td>\n",
       "    </tr>\n",
       "    <tr>\n",
       "      <th>BernoulliNB</th>\n",
       "      <td>0.804348</td>\n",
       "      <td>0.500000</td>\n",
       "      <td>0.707143</td>\n",
       "      <td>0.743017</td>\n",
       "      <td>0.616667</td>\n",
       "      <td>0.707143</td>\n",
       "      <td>0.012544</td>\n",
       "    </tr>\n",
       "    <tr>\n",
       "      <th>MultinomialNB</th>\n",
       "      <td>0.755102</td>\n",
       "      <td>0.500000</td>\n",
       "      <td>0.692857</td>\n",
       "      <td>0.726257</td>\n",
       "      <td>0.601626</td>\n",
       "      <td>0.692857</td>\n",
       "      <td>0.009448</td>\n",
       "    </tr>\n",
       "    <tr>\n",
       "      <th>ComplementNB</th>\n",
       "      <td>0.750000</td>\n",
       "      <td>0.527027</td>\n",
       "      <td>0.701609</td>\n",
       "      <td>0.731844</td>\n",
       "      <td>0.619048</td>\n",
       "      <td>0.701609</td>\n",
       "      <td>0.008008</td>\n",
       "    </tr>\n",
       "    <tr>\n",
       "      <th>DecisionTreeClassifier</th>\n",
       "      <td>0.800000</td>\n",
       "      <td>0.648649</td>\n",
       "      <td>0.767181</td>\n",
       "      <td>0.787709</td>\n",
       "      <td>0.716418</td>\n",
       "      <td>0.767181</td>\n",
       "      <td>0.030690</td>\n",
       "    </tr>\n",
       "    <tr>\n",
       "      <th>ExtraTreeClassifier</th>\n",
       "      <td>0.738462</td>\n",
       "      <td>0.648649</td>\n",
       "      <td>0.743372</td>\n",
       "      <td>0.759777</td>\n",
       "      <td>0.690647</td>\n",
       "      <td>0.743372</td>\n",
       "      <td>0.006840</td>\n",
       "    </tr>\n",
       "    <tr>\n",
       "      <th>GradientBoostingClassifier</th>\n",
       "      <td>0.800000</td>\n",
       "      <td>0.648649</td>\n",
       "      <td>0.767181</td>\n",
       "      <td>0.787709</td>\n",
       "      <td>0.716418</td>\n",
       "      <td>0.767181</td>\n",
       "      <td>0.442132</td>\n",
       "    </tr>\n",
       "    <tr>\n",
       "      <th>ExtraTreesClassifier</th>\n",
       "      <td>0.830508</td>\n",
       "      <td>0.662162</td>\n",
       "      <td>0.783462</td>\n",
       "      <td>0.804469</td>\n",
       "      <td>0.736842</td>\n",
       "      <td>0.783462</td>\n",
       "      <td>0.120962</td>\n",
       "    </tr>\n",
       "    <tr>\n",
       "      <th>BaggingClassifier</th>\n",
       "      <td>0.810345</td>\n",
       "      <td>0.635135</td>\n",
       "      <td>0.765187</td>\n",
       "      <td>0.787709</td>\n",
       "      <td>0.712121</td>\n",
       "      <td>0.765187</td>\n",
       "      <td>1.977701</td>\n",
       "    </tr>\n",
       "    <tr>\n",
       "      <th>CatBoostClassifier</th>\n",
       "      <td>0.825397</td>\n",
       "      <td>0.702703</td>\n",
       "      <td>0.798970</td>\n",
       "      <td>0.815642</td>\n",
       "      <td>0.759124</td>\n",
       "      <td>0.798970</td>\n",
       "      <td>2.650196</td>\n",
       "    </tr>\n",
       "    <tr>\n",
       "      <th>RandomForestClassifier</th>\n",
       "      <td>0.857143</td>\n",
       "      <td>0.648649</td>\n",
       "      <td>0.786229</td>\n",
       "      <td>0.810056</td>\n",
       "      <td>0.738462</td>\n",
       "      <td>0.786229</td>\n",
       "      <td>0.153425</td>\n",
       "    </tr>\n",
       "    <tr>\n",
       "      <th>AdaBoostClassifier</th>\n",
       "      <td>0.760563</td>\n",
       "      <td>0.729730</td>\n",
       "      <td>0.783912</td>\n",
       "      <td>0.793296</td>\n",
       "      <td>0.744828</td>\n",
       "      <td>0.783912</td>\n",
       "      <td>0.214011</td>\n",
       "    </tr>\n",
       "    <tr>\n",
       "      <th>HistGradientBoostingClassifier</th>\n",
       "      <td>0.773333</td>\n",
       "      <td>0.783784</td>\n",
       "      <td>0.810940</td>\n",
       "      <td>0.815642</td>\n",
       "      <td>0.778523</td>\n",
       "      <td>0.810940</td>\n",
       "      <td>2.039969</td>\n",
       "    </tr>\n",
       "    <tr>\n",
       "      <th>LGBMClassifier</th>\n",
       "      <td>0.776316</td>\n",
       "      <td>0.797297</td>\n",
       "      <td>0.817696</td>\n",
       "      <td>0.821229</td>\n",
       "      <td>0.786667</td>\n",
       "      <td>0.817696</td>\n",
       "      <td>0.112791</td>\n",
       "    </tr>\n",
       "    <tr>\n",
       "      <th>XGBClassifier</th>\n",
       "      <td>0.730769</td>\n",
       "      <td>0.770270</td>\n",
       "      <td>0.785135</td>\n",
       "      <td>0.787709</td>\n",
       "      <td>0.750000</td>\n",
       "      <td>0.785135</td>\n",
       "      <td>0.391069</td>\n",
       "    </tr>\n",
       "  </tbody>\n",
       "</table>\n",
       "</div>"
      ],
      "text/plain": [
       "                                precision    recall  balanced_accuracy  \\\n",
       "LogisticRegression               0.848485  0.756757           0.830759   \n",
       "LogisticRegressionCV             0.797101  0.743243           0.804955   \n",
       "SGDClassifier                    0.418079  1.000000           0.509524   \n",
       "PassiveAggressiveClassifier      0.750000  0.527027           0.701609   \n",
       "RidgeClassifier                  0.797101  0.743243           0.804955   \n",
       "RidgeClassifierCV                0.815385  0.716216           0.800965   \n",
       "Perceptron                       0.000000  0.000000           0.500000   \n",
       "LinearSVC                        0.909091  0.540541           0.751223   \n",
       "NuSVC                            0.753425  0.743243           0.785907   \n",
       "SVC                              0.750000  0.243243           0.593050   \n",
       "KNeighborsClassifier             0.650000  0.527027           0.663514   \n",
       "MLPClassifier                    0.772727  0.689189           0.773166   \n",
       "GaussianNB                       0.447761  0.810811           0.553024   \n",
       "BernoulliNB                      0.804348  0.500000           0.707143   \n",
       "MultinomialNB                    0.755102  0.500000           0.692857   \n",
       "ComplementNB                     0.750000  0.527027           0.701609   \n",
       "DecisionTreeClassifier           0.800000  0.648649           0.767181   \n",
       "ExtraTreeClassifier              0.738462  0.648649           0.743372   \n",
       "GradientBoostingClassifier       0.800000  0.648649           0.767181   \n",
       "ExtraTreesClassifier             0.830508  0.662162           0.783462   \n",
       "BaggingClassifier                0.810345  0.635135           0.765187   \n",
       "CatBoostClassifier               0.825397  0.702703           0.798970   \n",
       "RandomForestClassifier           0.857143  0.648649           0.786229   \n",
       "AdaBoostClassifier               0.760563  0.729730           0.783912   \n",
       "HistGradientBoostingClassifier   0.773333  0.783784           0.810940   \n",
       "LGBMClassifier                   0.776316  0.797297           0.817696   \n",
       "XGBClassifier                    0.730769  0.770270           0.785135   \n",
       "\n",
       "                                accuracy        f1   roc_auc   Time(s)  \n",
       "LogisticRegression              0.843575  0.800000  0.830759  1.708289  \n",
       "LogisticRegressionCV            0.815642  0.769231  0.804955  1.437781  \n",
       "SGDClassifier                   0.424581  0.589641  0.509524  0.027840  \n",
       "PassiveAggressiveClassifier     0.731844  0.619048  0.701609  0.030963  \n",
       "RidgeClassifier                 0.815642  0.769231  0.804955  0.072997  \n",
       "RidgeClassifierCV               0.815642  0.762590  0.800965  0.465066  \n",
       "Perceptron                      0.586592  0.000000  0.500000  0.018972  \n",
       "LinearSVC                       0.787709  0.677966  0.751223  0.029757  \n",
       "NuSVC                           0.793296  0.748299  0.785907  0.107421  \n",
       "SVC                             0.653631  0.367347  0.593050  0.095646  \n",
       "KNeighborsClassifier            0.687151  0.582090  0.663514  0.021636  \n",
       "MLPClassifier                   0.787709  0.728571  0.773166  3.743830  \n",
       "GaussianNB                      0.508380  0.576923  0.553024  0.015978  \n",
       "BernoulliNB                     0.743017  0.616667  0.707143  0.012544  \n",
       "MultinomialNB                   0.726257  0.601626  0.692857  0.009448  \n",
       "ComplementNB                    0.731844  0.619048  0.701609  0.008008  \n",
       "DecisionTreeClassifier          0.787709  0.716418  0.767181  0.030690  \n",
       "ExtraTreeClassifier             0.759777  0.690647  0.743372  0.006840  \n",
       "GradientBoostingClassifier      0.787709  0.716418  0.767181  0.442132  \n",
       "ExtraTreesClassifier            0.804469  0.736842  0.783462  0.120962  \n",
       "BaggingClassifier               0.787709  0.712121  0.765187  1.977701  \n",
       "CatBoostClassifier              0.815642  0.759124  0.798970  2.650196  \n",
       "RandomForestClassifier          0.810056  0.738462  0.786229  0.153425  \n",
       "AdaBoostClassifier              0.793296  0.744828  0.783912  0.214011  \n",
       "HistGradientBoostingClassifier  0.815642  0.778523  0.810940  2.039969  \n",
       "LGBMClassifier                  0.821229  0.786667  0.817696  0.112791  \n",
       "XGBClassifier                   0.787709  0.750000  0.785135  0.391069  "
      ]
     },
     "execution_count": 8,
     "metadata": {},
     "output_type": "execute_result"
    }
   ],
   "source": [
    "data_fit"
   ]
  },
  {
   "cell_type": "code",
   "execution_count": null,
   "id": "ad5e7005",
   "metadata": {},
   "outputs": [],
   "source": []
  }
 ],
 "metadata": {
  "kernelspec": {
   "display_name": ".venv",
   "language": "python",
   "name": "python3"
  },
  "language_info": {
   "codemirror_mode": {
    "name": "ipython",
    "version": 3
   },
   "file_extension": ".py",
   "mimetype": "text/x-python",
   "name": "python",
   "nbconvert_exporter": "python",
   "pygments_lexer": "ipython3",
   "version": "3.10.11"
  }
 },
 "nbformat": 4,
 "nbformat_minor": 5
}
