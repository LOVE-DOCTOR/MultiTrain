{
 "cells": [
  {
   "cell_type": "code",
   "execution_count": 5,
   "id": "edd187fa-da67-4c30-92c4-0a2e261f67ef",
   "metadata": {},
   "outputs": [
    {
     "name": "stdout",
     "output_type": "stream",
     "text": [
      "Scikit-learn was successfully globally patched by Intel(R) Extension for Scikit-learn\n"
     ]
    },
    {
     "name": "stderr",
     "output_type": "stream",
     "text": [
      "Intel(R) Extension for Scikit-learn* enabled (https://github.com/intel/scikit-learn-intelex)\n"
     ]
    },
    {
     "data": {
      "application/vnd.jupyter.widget-view+json": {
       "model_id": "66ba49bdc3354cf6b942dbfab913ec46",
       "version_major": 2,
       "version_minor": 0
      },
      "text/plain": [
       "Training Models:   0%|           | 0/27 [00:00<?, ?it/s, ]"
      ]
     },
     "metadata": {},
     "output_type": "display_data"
    },
    {
     "data": {
      "application/vnd.jupyter.widget-view+json": {
       "model_id": "32bc6499729b4faa9044f533817a6887",
       "version_major": 2,
       "version_minor": 0
      },
      "text/plain": [
       "Evaluating LogisticRegression:   0%|          | 0/6 [00:00<?, ?it/s]"
      ]
     },
     "metadata": {},
     "output_type": "display_data"
    },
    {
     "data": {
      "application/vnd.jupyter.widget-view+json": {
       "model_id": "5cee758470924720804ddd8ba0ef5655",
       "version_major": 2,
       "version_minor": 0
      },
      "text/plain": [
       "Evaluating LogisticRegressionCV:   0%|          | 0/6 [00:00<?, ?it/s]"
      ]
     },
     "metadata": {},
     "output_type": "display_data"
    },
    {
     "data": {
      "application/vnd.jupyter.widget-view+json": {
       "model_id": "fd33bec4a26f4e41941eb9e2f71336a3",
       "version_major": 2,
       "version_minor": 0
      },
      "text/plain": [
       "Evaluating SGDClassifier:   0%|          | 0/6 [00:00<?, ?it/s]"
      ]
     },
     "metadata": {},
     "output_type": "display_data"
    },
    {
     "data": {
      "application/vnd.jupyter.widget-view+json": {
       "model_id": "94563b08a34641a58cb4270bc1b77b32",
       "version_major": 2,
       "version_minor": 0
      },
      "text/plain": [
       "Evaluating PassiveAggressiveClassifier:   0%|          | 0/6 [00:00<?, ?it/s]"
      ]
     },
     "metadata": {},
     "output_type": "display_data"
    },
    {
     "data": {
      "application/vnd.jupyter.widget-view+json": {
       "model_id": "e7400fabf274417eb0a2a3653928b569",
       "version_major": 2,
       "version_minor": 0
      },
      "text/plain": [
       "Evaluating RidgeClassifier:   0%|          | 0/6 [00:00<?, ?it/s]"
      ]
     },
     "metadata": {},
     "output_type": "display_data"
    },
    {
     "data": {
      "application/vnd.jupyter.widget-view+json": {
       "model_id": "047dcfb05c7c4e619ae06c7a2103bdaa",
       "version_major": 2,
       "version_minor": 0
      },
      "text/plain": [
       "Evaluating RidgeClassifierCV:   0%|          | 0/6 [00:00<?, ?it/s]"
      ]
     },
     "metadata": {},
     "output_type": "display_data"
    },
    {
     "data": {
      "application/vnd.jupyter.widget-view+json": {
       "model_id": "94af5d11940f4e0db1b9ee3cc096622c",
       "version_major": 2,
       "version_minor": 0
      },
      "text/plain": [
       "Evaluating Perceptron:   0%|          | 0/6 [00:00<?, ?it/s]"
      ]
     },
     "metadata": {},
     "output_type": "display_data"
    },
    {
     "data": {
      "application/vnd.jupyter.widget-view+json": {
       "model_id": "0e9f667c2211445794c3086c73177f7e",
       "version_major": 2,
       "version_minor": 0
      },
      "text/plain": [
       "Evaluating LinearSVC:   0%|          | 0/6 [00:00<?, ?it/s]"
      ]
     },
     "metadata": {},
     "output_type": "display_data"
    },
    {
     "data": {
      "application/vnd.jupyter.widget-view+json": {
       "model_id": "919d4d667a964838ba026294d53fbd43",
       "version_major": 2,
       "version_minor": 0
      },
      "text/plain": [
       "Evaluating NuSVC:   0%|          | 0/6 [00:00<?, ?it/s]"
      ]
     },
     "metadata": {},
     "output_type": "display_data"
    },
    {
     "data": {
      "application/vnd.jupyter.widget-view+json": {
       "model_id": "cc4eb8f82469473682c34a6e67e422eb",
       "version_major": 2,
       "version_minor": 0
      },
      "text/plain": [
       "Evaluating SVC:   0%|          | 0/6 [00:00<?, ?it/s]"
      ]
     },
     "metadata": {},
     "output_type": "display_data"
    },
    {
     "data": {
      "application/vnd.jupyter.widget-view+json": {
       "model_id": "accfd69355ae4f5eb1d9d88dfbfb3035",
       "version_major": 2,
       "version_minor": 0
      },
      "text/plain": [
       "Evaluating KNeighborsClassifier:   0%|          | 0/6 [00:00<?, ?it/s]"
      ]
     },
     "metadata": {},
     "output_type": "display_data"
    },
    {
     "data": {
      "application/vnd.jupyter.widget-view+json": {
       "model_id": "e9a37b521b7c4ffeb5b916f6a3f5a32d",
       "version_major": 2,
       "version_minor": 0
      },
      "text/plain": [
       "Evaluating MLPClassifier:   0%|          | 0/6 [00:00<?, ?it/s]"
      ]
     },
     "metadata": {},
     "output_type": "display_data"
    },
    {
     "data": {
      "application/vnd.jupyter.widget-view+json": {
       "model_id": "a37d1fbd3b6e427cb328f5db2f0130bc",
       "version_major": 2,
       "version_minor": 0
      },
      "text/plain": [
       "Evaluating GaussianNB:   0%|          | 0/6 [00:00<?, ?it/s]"
      ]
     },
     "metadata": {},
     "output_type": "display_data"
    },
    {
     "data": {
      "application/vnd.jupyter.widget-view+json": {
       "model_id": "e47c14465671451591282d9b4b1284dd",
       "version_major": 2,
       "version_minor": 0
      },
      "text/plain": [
       "Evaluating BernoulliNB:   0%|          | 0/6 [00:00<?, ?it/s]"
      ]
     },
     "metadata": {},
     "output_type": "display_data"
    },
    {
     "name": "stdout",
     "output_type": "stream",
     "text": [
      "MultinomialNB unable to fit properly. Reason: Negative values in data passed to MultinomialNB (input X).\n"
     ]
    },
    {
     "data": {
      "application/vnd.jupyter.widget-view+json": {
       "model_id": "ca00fc4c6e974751a76277335db549a8",
       "version_major": 2,
       "version_minor": 0
      },
      "text/plain": [
       "Evaluating MultinomialNB:   0%|          | 0/6 [00:00<?, ?it/s]"
      ]
     },
     "metadata": {},
     "output_type": "display_data"
    },
    {
     "name": "stdout",
     "output_type": "stream",
     "text": [
      "ComplementNB unable to fit properly. Reason: Negative values in data passed to ComplementNB (input X).\n"
     ]
    },
    {
     "data": {
      "application/vnd.jupyter.widget-view+json": {
       "model_id": "32717170379048c3888389e4cc13a14a",
       "version_major": 2,
       "version_minor": 0
      },
      "text/plain": [
       "Evaluating ComplementNB:   0%|          | 0/6 [00:00<?, ?it/s]"
      ]
     },
     "metadata": {},
     "output_type": "display_data"
    },
    {
     "data": {
      "application/vnd.jupyter.widget-view+json": {
       "model_id": "da868094fda84315bc70272b29502c40",
       "version_major": 2,
       "version_minor": 0
      },
      "text/plain": [
       "Evaluating DecisionTreeClassifier:   0%|          | 0/6 [00:00<?, ?it/s]"
      ]
     },
     "metadata": {},
     "output_type": "display_data"
    },
    {
     "data": {
      "application/vnd.jupyter.widget-view+json": {
       "model_id": "b2ba6b87d18346738c2020d989e30d36",
       "version_major": 2,
       "version_minor": 0
      },
      "text/plain": [
       "Evaluating ExtraTreeClassifier:   0%|          | 0/6 [00:00<?, ?it/s]"
      ]
     },
     "metadata": {},
     "output_type": "display_data"
    },
    {
     "data": {
      "application/vnd.jupyter.widget-view+json": {
       "model_id": "97b94b0b033d46b0b4afbe5baa655389",
       "version_major": 2,
       "version_minor": 0
      },
      "text/plain": [
       "Evaluating GradientBoostingClassifier:   0%|          | 0/6 [00:00<?, ?it/s]"
      ]
     },
     "metadata": {},
     "output_type": "display_data"
    },
    {
     "data": {
      "application/vnd.jupyter.widget-view+json": {
       "model_id": "9ecd3fface5b43338a913353dc279ea8",
       "version_major": 2,
       "version_minor": 0
      },
      "text/plain": [
       "Evaluating ExtraTreesClassifier:   0%|          | 0/6 [00:00<?, ?it/s]"
      ]
     },
     "metadata": {},
     "output_type": "display_data"
    },
    {
     "data": {
      "application/vnd.jupyter.widget-view+json": {
       "model_id": "fb50e71d6d1741ae919d278a9d85f9da",
       "version_major": 2,
       "version_minor": 0
      },
      "text/plain": [
       "Evaluating BaggingClassifier:   0%|          | 0/6 [00:00<?, ?it/s]"
      ]
     },
     "metadata": {},
     "output_type": "display_data"
    },
    {
     "data": {
      "application/vnd.jupyter.widget-view+json": {
       "model_id": "06430ec5ef8d4802a65b15ad2e39175d",
       "version_major": 2,
       "version_minor": 0
      },
      "text/plain": [
       "Evaluating CatBoostClassifier:   0%|          | 0/6 [00:00<?, ?it/s]"
      ]
     },
     "metadata": {},
     "output_type": "display_data"
    },
    {
     "data": {
      "application/vnd.jupyter.widget-view+json": {
       "model_id": "49e3e3aaab78483eac4d0ce544b3abf2",
       "version_major": 2,
       "version_minor": 0
      },
      "text/plain": [
       "Evaluating RandomForestClassifier:   0%|          | 0/6 [00:00<?, ?it/s]"
      ]
     },
     "metadata": {},
     "output_type": "display_data"
    },
    {
     "data": {
      "application/vnd.jupyter.widget-view+json": {
       "model_id": "6a5a9eddb78945ee854576c42ee4205e",
       "version_major": 2,
       "version_minor": 0
      },
      "text/plain": [
       "Evaluating AdaBoostClassifier:   0%|          | 0/6 [00:00<?, ?it/s]"
      ]
     },
     "metadata": {},
     "output_type": "display_data"
    },
    {
     "data": {
      "application/vnd.jupyter.widget-view+json": {
       "model_id": "29b72826bb6749a38d9aeeb66d932832",
       "version_major": 2,
       "version_minor": 0
      },
      "text/plain": [
       "Evaluating HistGradientBoostingClassifier:   0%|          | 0/6 [00:00<?, ?it/s]"
      ]
     },
     "metadata": {},
     "output_type": "display_data"
    },
    {
     "data": {
      "application/vnd.jupyter.widget-view+json": {
       "model_id": "6bf7ec8b1c4946c8a98144277a8c80a3",
       "version_major": 2,
       "version_minor": 0
      },
      "text/plain": [
       "Evaluating LGBMClassifier:   0%|          | 0/6 [00:00<?, ?it/s]"
      ]
     },
     "metadata": {},
     "output_type": "display_data"
    },
    {
     "name": "stdout",
     "output_type": "stream",
     "text": [
      "XGBClassifier unable to predict properly. Reason: 'super' object has no attribute '__sklearn_tags__'\n"
     ]
    },
    {
     "data": {
      "application/vnd.jupyter.widget-view+json": {
       "model_id": "ef97f98799ff48488c31c5efefaa3e37",
       "version_major": 2,
       "version_minor": 0
      },
      "text/plain": [
       "Evaluating XGBClassifier:   0%|          | 0/6 [00:00<?, ?it/s]"
      ]
     },
     "metadata": {},
     "output_type": "display_data"
    },
    {
     "data": {
      "text/html": [
       "<div>\n",
       "<style scoped>\n",
       "    .dataframe tbody tr th:only-of-type {\n",
       "        vertical-align: middle;\n",
       "    }\n",
       "\n",
       "    .dataframe tbody tr th {\n",
       "        vertical-align: top;\n",
       "    }\n",
       "\n",
       "    .dataframe thead th {\n",
       "        text-align: right;\n",
       "    }\n",
       "</style>\n",
       "<table border=\"1\" class=\"dataframe\">\n",
       "  <thead>\n",
       "    <tr style=\"text-align: right;\">\n",
       "      <th></th>\n",
       "      <th>precision</th>\n",
       "      <th>recall</th>\n",
       "      <th>balanced_accuracy</th>\n",
       "      <th>accuracy</th>\n",
       "      <th>f1</th>\n",
       "      <th>roc_auc</th>\n",
       "      <th>Time</th>\n",
       "    </tr>\n",
       "  </thead>\n",
       "  <tbody>\n",
       "    <tr>\n",
       "      <th>LogisticRegression</th>\n",
       "      <td>1.0</td>\n",
       "      <td>1.0</td>\n",
       "      <td>1.0</td>\n",
       "      <td>1.0</td>\n",
       "      <td>1.0</td>\n",
       "      <td>1.0</td>\n",
       "      <td>2.25 s</td>\n",
       "    </tr>\n",
       "    <tr>\n",
       "      <th>LogisticRegressionCV</th>\n",
       "      <td>1.0</td>\n",
       "      <td>1.0</td>\n",
       "      <td>1.0</td>\n",
       "      <td>1.0</td>\n",
       "      <td>1.0</td>\n",
       "      <td>1.0</td>\n",
       "      <td>1.25 s</td>\n",
       "    </tr>\n",
       "    <tr>\n",
       "      <th>SGDClassifier</th>\n",
       "      <td>1.0</td>\n",
       "      <td>1.0</td>\n",
       "      <td>1.0</td>\n",
       "      <td>1.0</td>\n",
       "      <td>1.0</td>\n",
       "      <td>1.0</td>\n",
       "      <td>8.85 ms</td>\n",
       "    </tr>\n",
       "    <tr>\n",
       "      <th>PassiveAggressiveClassifier</th>\n",
       "      <td>1.0</td>\n",
       "      <td>1.0</td>\n",
       "      <td>1.0</td>\n",
       "      <td>1.0</td>\n",
       "      <td>1.0</td>\n",
       "      <td>1.0</td>\n",
       "      <td>7.04 ms</td>\n",
       "    </tr>\n",
       "    <tr>\n",
       "      <th>RidgeClassifier</th>\n",
       "      <td>1.0</td>\n",
       "      <td>1.0</td>\n",
       "      <td>1.0</td>\n",
       "      <td>1.0</td>\n",
       "      <td>1.0</td>\n",
       "      <td>1.0</td>\n",
       "      <td>8.12 ms</td>\n",
       "    </tr>\n",
       "    <tr>\n",
       "      <th>RidgeClassifierCV</th>\n",
       "      <td>1.0</td>\n",
       "      <td>1.0</td>\n",
       "      <td>1.0</td>\n",
       "      <td>1.0</td>\n",
       "      <td>1.0</td>\n",
       "      <td>1.0</td>\n",
       "      <td>41.55 ms</td>\n",
       "    </tr>\n",
       "    <tr>\n",
       "      <th>Perceptron</th>\n",
       "      <td>1.0</td>\n",
       "      <td>1.0</td>\n",
       "      <td>1.0</td>\n",
       "      <td>1.0</td>\n",
       "      <td>1.0</td>\n",
       "      <td>1.0</td>\n",
       "      <td>6.30 ms</td>\n",
       "    </tr>\n",
       "    <tr>\n",
       "      <th>LinearSVC</th>\n",
       "      <td>1.0</td>\n",
       "      <td>1.0</td>\n",
       "      <td>1.0</td>\n",
       "      <td>1.0</td>\n",
       "      <td>1.0</td>\n",
       "      <td>1.0</td>\n",
       "      <td>9.56 ms</td>\n",
       "    </tr>\n",
       "    <tr>\n",
       "      <th>NuSVC</th>\n",
       "      <td>0.976744</td>\n",
       "      <td>1.0</td>\n",
       "      <td>0.97973</td>\n",
       "      <td>0.985</td>\n",
       "      <td>0.988235</td>\n",
       "      <td>0.97973</td>\n",
       "      <td>20.40 ms</td>\n",
       "    </tr>\n",
       "    <tr>\n",
       "      <th>SVC</th>\n",
       "      <td>1.0</td>\n",
       "      <td>1.0</td>\n",
       "      <td>1.0</td>\n",
       "      <td>1.0</td>\n",
       "      <td>1.0</td>\n",
       "      <td>1.0</td>\n",
       "      <td>18.74 ms</td>\n",
       "    </tr>\n",
       "    <tr>\n",
       "      <th>KNeighborsClassifier</th>\n",
       "      <td>1.0</td>\n",
       "      <td>1.0</td>\n",
       "      <td>1.0</td>\n",
       "      <td>1.0</td>\n",
       "      <td>1.0</td>\n",
       "      <td>1.0</td>\n",
       "      <td>12.02 ms</td>\n",
       "    </tr>\n",
       "    <tr>\n",
       "      <th>MLPClassifier</th>\n",
       "      <td>1.0</td>\n",
       "      <td>1.0</td>\n",
       "      <td>1.0</td>\n",
       "      <td>1.0</td>\n",
       "      <td>1.0</td>\n",
       "      <td>1.0</td>\n",
       "      <td>464.95 ms</td>\n",
       "    </tr>\n",
       "    <tr>\n",
       "      <th>GaussianNB</th>\n",
       "      <td>0.961832</td>\n",
       "      <td>1.0</td>\n",
       "      <td>0.966216</td>\n",
       "      <td>0.975</td>\n",
       "      <td>0.980545</td>\n",
       "      <td>0.966216</td>\n",
       "      <td>15.12 ms</td>\n",
       "    </tr>\n",
       "    <tr>\n",
       "      <th>BernoulliNB</th>\n",
       "      <td>0.936508</td>\n",
       "      <td>0.936508</td>\n",
       "      <td>0.9142</td>\n",
       "      <td>0.92</td>\n",
       "      <td>0.936508</td>\n",
       "      <td>0.9142</td>\n",
       "      <td>8.01 ms</td>\n",
       "    </tr>\n",
       "    <tr>\n",
       "      <th>MultinomialNB</th>\n",
       "      <td>NaN</td>\n",
       "      <td>NaN</td>\n",
       "      <td>NaN</td>\n",
       "      <td>NaN</td>\n",
       "      <td>NaN</td>\n",
       "      <td>NaN</td>\n",
       "      <td>7.35 ms</td>\n",
       "    </tr>\n",
       "    <tr>\n",
       "      <th>ComplementNB</th>\n",
       "      <td>NaN</td>\n",
       "      <td>NaN</td>\n",
       "      <td>NaN</td>\n",
       "      <td>NaN</td>\n",
       "      <td>NaN</td>\n",
       "      <td>NaN</td>\n",
       "      <td>8.01 ms</td>\n",
       "    </tr>\n",
       "    <tr>\n",
       "      <th>DecisionTreeClassifier</th>\n",
       "      <td>1.0</td>\n",
       "      <td>1.0</td>\n",
       "      <td>1.0</td>\n",
       "      <td>1.0</td>\n",
       "      <td>1.0</td>\n",
       "      <td>1.0</td>\n",
       "      <td>15.99 ms</td>\n",
       "    </tr>\n",
       "    <tr>\n",
       "      <th>ExtraTreeClassifier</th>\n",
       "      <td>0.984252</td>\n",
       "      <td>0.992063</td>\n",
       "      <td>0.982518</td>\n",
       "      <td>0.985</td>\n",
       "      <td>0.988142</td>\n",
       "      <td>0.982518</td>\n",
       "      <td>14.78 ms</td>\n",
       "    </tr>\n",
       "    <tr>\n",
       "      <th>GradientBoostingClassifier</th>\n",
       "      <td>1.0</td>\n",
       "      <td>1.0</td>\n",
       "      <td>1.0</td>\n",
       "      <td>1.0</td>\n",
       "      <td>1.0</td>\n",
       "      <td>1.0</td>\n",
       "      <td>256.46 ms</td>\n",
       "    </tr>\n",
       "    <tr>\n",
       "      <th>ExtraTreesClassifier</th>\n",
       "      <td>1.0</td>\n",
       "      <td>1.0</td>\n",
       "      <td>1.0</td>\n",
       "      <td>1.0</td>\n",
       "      <td>1.0</td>\n",
       "      <td>1.0</td>\n",
       "      <td>10.00 ms</td>\n",
       "    </tr>\n",
       "    <tr>\n",
       "      <th>BaggingClassifier</th>\n",
       "      <td>1.0</td>\n",
       "      <td>1.0</td>\n",
       "      <td>1.0</td>\n",
       "      <td>1.0</td>\n",
       "      <td>1.0</td>\n",
       "      <td>1.0</td>\n",
       "      <td>2.70 s</td>\n",
       "    </tr>\n",
       "    <tr>\n",
       "      <th>CatBoostClassifier</th>\n",
       "      <td>1.0</td>\n",
       "      <td>1.0</td>\n",
       "      <td>1.0</td>\n",
       "      <td>1.0</td>\n",
       "      <td>1.0</td>\n",
       "      <td>1.0</td>\n",
       "      <td>2.22 s</td>\n",
       "    </tr>\n",
       "    <tr>\n",
       "      <th>RandomForestClassifier</th>\n",
       "      <td>1.0</td>\n",
       "      <td>1.0</td>\n",
       "      <td>1.0</td>\n",
       "      <td>1.0</td>\n",
       "      <td>1.0</td>\n",
       "      <td>1.0</td>\n",
       "      <td>16.11 ms</td>\n",
       "    </tr>\n",
       "    <tr>\n",
       "      <th>AdaBoostClassifier</th>\n",
       "      <td>1.0</td>\n",
       "      <td>1.0</td>\n",
       "      <td>1.0</td>\n",
       "      <td>1.0</td>\n",
       "      <td>1.0</td>\n",
       "      <td>1.0</td>\n",
       "      <td>1.82 s</td>\n",
       "    </tr>\n",
       "    <tr>\n",
       "      <th>HistGradientBoostingClassifier</th>\n",
       "      <td>1.0</td>\n",
       "      <td>1.0</td>\n",
       "      <td>1.0</td>\n",
       "      <td>1.0</td>\n",
       "      <td>1.0</td>\n",
       "      <td>1.0</td>\n",
       "      <td>518.57 ms</td>\n",
       "    </tr>\n",
       "    <tr>\n",
       "      <th>LGBMClassifier</th>\n",
       "      <td>1.0</td>\n",
       "      <td>1.0</td>\n",
       "      <td>1.0</td>\n",
       "      <td>1.0</td>\n",
       "      <td>1.0</td>\n",
       "      <td>1.0</td>\n",
       "      <td>258.33 ms</td>\n",
       "    </tr>\n",
       "    <tr>\n",
       "      <th>XGBClassifier</th>\n",
       "      <td>NaN</td>\n",
       "      <td>NaN</td>\n",
       "      <td>NaN</td>\n",
       "      <td>NaN</td>\n",
       "      <td>NaN</td>\n",
       "      <td>NaN</td>\n",
       "      <td>238.23 ms</td>\n",
       "    </tr>\n",
       "  </tbody>\n",
       "</table>\n",
       "</div>"
      ],
      "text/plain": [
       "                               precision    recall balanced_accuracy accuracy  \\\n",
       "LogisticRegression                   1.0       1.0               1.0      1.0   \n",
       "LogisticRegressionCV                 1.0       1.0               1.0      1.0   \n",
       "SGDClassifier                        1.0       1.0               1.0      1.0   \n",
       "PassiveAggressiveClassifier          1.0       1.0               1.0      1.0   \n",
       "RidgeClassifier                      1.0       1.0               1.0      1.0   \n",
       "RidgeClassifierCV                    1.0       1.0               1.0      1.0   \n",
       "Perceptron                           1.0       1.0               1.0      1.0   \n",
       "LinearSVC                            1.0       1.0               1.0      1.0   \n",
       "NuSVC                           0.976744       1.0           0.97973    0.985   \n",
       "SVC                                  1.0       1.0               1.0      1.0   \n",
       "KNeighborsClassifier                 1.0       1.0               1.0      1.0   \n",
       "MLPClassifier                        1.0       1.0               1.0      1.0   \n",
       "GaussianNB                      0.961832       1.0          0.966216    0.975   \n",
       "BernoulliNB                     0.936508  0.936508            0.9142     0.92   \n",
       "MultinomialNB                        NaN       NaN               NaN      NaN   \n",
       "ComplementNB                         NaN       NaN               NaN      NaN   \n",
       "DecisionTreeClassifier               1.0       1.0               1.0      1.0   \n",
       "ExtraTreeClassifier             0.984252  0.992063          0.982518    0.985   \n",
       "GradientBoostingClassifier           1.0       1.0               1.0      1.0   \n",
       "ExtraTreesClassifier                 1.0       1.0               1.0      1.0   \n",
       "BaggingClassifier                    1.0       1.0               1.0      1.0   \n",
       "CatBoostClassifier                   1.0       1.0               1.0      1.0   \n",
       "RandomForestClassifier               1.0       1.0               1.0      1.0   \n",
       "AdaBoostClassifier                   1.0       1.0               1.0      1.0   \n",
       "HistGradientBoostingClassifier       1.0       1.0               1.0      1.0   \n",
       "LGBMClassifier                       1.0       1.0               1.0      1.0   \n",
       "XGBClassifier                        NaN       NaN               NaN      NaN   \n",
       "\n",
       "                                      f1   roc_auc       Time  \n",
       "LogisticRegression                   1.0       1.0     2.25 s  \n",
       "LogisticRegressionCV                 1.0       1.0     1.25 s  \n",
       "SGDClassifier                        1.0       1.0    8.85 ms  \n",
       "PassiveAggressiveClassifier          1.0       1.0    7.04 ms  \n",
       "RidgeClassifier                      1.0       1.0    8.12 ms  \n",
       "RidgeClassifierCV                    1.0       1.0   41.55 ms  \n",
       "Perceptron                           1.0       1.0    6.30 ms  \n",
       "LinearSVC                            1.0       1.0    9.56 ms  \n",
       "NuSVC                           0.988235   0.97973   20.40 ms  \n",
       "SVC                                  1.0       1.0   18.74 ms  \n",
       "KNeighborsClassifier                 1.0       1.0   12.02 ms  \n",
       "MLPClassifier                        1.0       1.0  464.95 ms  \n",
       "GaussianNB                      0.980545  0.966216   15.12 ms  \n",
       "BernoulliNB                     0.936508    0.9142    8.01 ms  \n",
       "MultinomialNB                        NaN       NaN    7.35 ms  \n",
       "ComplementNB                         NaN       NaN    8.01 ms  \n",
       "DecisionTreeClassifier               1.0       1.0   15.99 ms  \n",
       "ExtraTreeClassifier             0.988142  0.982518   14.78 ms  \n",
       "GradientBoostingClassifier           1.0       1.0  256.46 ms  \n",
       "ExtraTreesClassifier                 1.0       1.0   10.00 ms  \n",
       "BaggingClassifier                    1.0       1.0     2.70 s  \n",
       "CatBoostClassifier                   1.0       1.0     2.22 s  \n",
       "RandomForestClassifier               1.0       1.0   16.11 ms  \n",
       "AdaBoostClassifier                   1.0       1.0     1.82 s  \n",
       "HistGradientBoostingClassifier       1.0       1.0  518.57 ms  \n",
       "LGBMClassifier                       1.0       1.0  258.33 ms  \n",
       "XGBClassifier                        NaN       NaN  238.23 ms  "
      ]
     },
     "execution_count": 5,
     "metadata": {},
     "output_type": "execute_result"
    }
   ],
   "source": [
    "from MultiTrain import MultiClassifier\n",
    "import MultiTrain\n",
    "import pandas as pd \n",
    "\n",
    "MultiTrain.__version__\n",
    "\n",
    "df = pd.read_csv('examples/datasets/synthetic_beverage_sales_data.csv').head(1000)\n",
    "\n",
    "train = MultiClassifier(max_iter=1000, use_gpu=True)\n",
    "\n",
    "dataset_splits = train.split(data=df, \n",
    "                             target='Customer_Type',\n",
    "                             manual_encode={'label': ['Product', 'Category', 'Region', 'Customer_Type']},\n",
    "                             drop=['Order_ID', 'Customer_ID', 'Order_Date'])\n",
    "\n",
    "data_fit_no_acceleration = train.fit(datasplits=dataset_splits, pca='PowerTransformer'\n",
    "                     )\n",
    "data_fit_no_acceleration"
   ]
  },
  {
   "cell_type": "code",
   "execution_count": null,
   "id": "c04d103c",
   "metadata": {},
   "outputs": [],
   "source": []
  }
 ],
 "metadata": {
  "kernelspec": {
   "display_name": ".venv",
   "language": "python",
   "name": "python3"
  },
  "language_info": {
   "codemirror_mode": {
    "name": "ipython",
    "version": 3
   },
   "file_extension": ".py",
   "mimetype": "text/x-python",
   "name": "python",
   "nbconvert_exporter": "python",
   "pygments_lexer": "ipython3",
   "version": "3.10.11"
  }
 },
 "nbformat": 4,
 "nbformat_minor": 5
}
