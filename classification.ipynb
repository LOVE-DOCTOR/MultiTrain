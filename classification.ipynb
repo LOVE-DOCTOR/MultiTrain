{
 "cells": [
  {
   "cell_type": "code",
   "execution_count": 1,
   "id": "edd187fa-da67-4c30-92c4-0a2e261f67ef",
   "metadata": {},
   "outputs": [],
   "source": [
    "from MultiTrain.classification.classification_models import MultiClassifier\n",
    "\n",
    "import pandas as pd # type: ignore"
   ]
  },
  {
   "cell_type": "code",
   "execution_count": 2,
   "id": "fec8bb3f-74e6-4bfa-9897-f09a7de303ae",
   "metadata": {},
   "outputs": [],
   "source": [
    "df = pd.read_csv('examples/datasets/train.csv')"
   ]
  },
  {
   "cell_type": "code",
   "execution_count": null,
   "id": "87cb8b8f",
   "metadata": {},
   "outputs": [],
   "source": []
  },
  {
   "cell_type": "code",
   "execution_count": 3,
   "id": "e4ada8d3",
   "metadata": {},
   "outputs": [
    {
     "name": "stdout",
     "output_type": "stream",
     "text": [
      "891\n"
     ]
    }
   ],
   "source": [
    "train = MultiClassifier(custom_models=['LogisticRegression', 'RandomForestClassifier'])\n",
    "dataset_splits = train.split(data=df, \n",
    "                             target='Survived',\n",
    "                             manual_encode={'label': ['Sex', 'Embarked'],\n",
    "                                            'onehot': ['Ticket', 'Cabin']},\n",
    "                             drop=['PassengerId', 'Name'],\n",
    "                             fix_nan_custom={'Age': 'bfill', \n",
    "                                             'Embarked': 'ffill',\n",
    "                                             'Cabin': 'ffill'},)"
   ]
  },
  {
   "cell_type": "code",
   "execution_count": 6,
   "id": "7670fa71",
   "metadata": {},
   "outputs": [
    {
     "data": {
      "application/vnd.jupyter.widget-view+json": {
       "model_id": "ff299911c789436f85cbfa6b28587e17",
       "version_major": 2,
       "version_minor": 0
      },
      "text/plain": [
       "Training Models:   0%|           | 0/2 [00:00<?, ?it/s]"
      ]
     },
     "metadata": {},
     "output_type": "display_data"
    },
    {
     "data": {
      "application/vnd.jupyter.widget-view+json": {
       "model_id": "677dd6d63d0a4cca9d5c2cd7f195271b",
       "version_major": 2,
       "version_minor": 0
      },
      "text/plain": [
       "Evaluating LogisticRegression:   0%|          | 0/6 [00:00<?, ?it/s]"
      ]
     },
     "metadata": {},
     "output_type": "display_data"
    },
    {
     "data": {
      "application/vnd.jupyter.widget-view+json": {
       "model_id": "e9f236a0a4d546f78849252407264a41",
       "version_major": 2,
       "version_minor": 0
      },
      "text/plain": [
       "Evaluating RandomForestClassifier:   0%|          | 0/6 [00:00<?, ?it/s]"
      ]
     },
     "metadata": {},
     "output_type": "display_data"
    }
   ],
   "source": [
    "data_fit = train.fit(datasplits=dataset_splits,\n",
    "                     return_best_model='f1'\n",
    "                     )"
   ]
  },
  {
   "cell_type": "code",
   "execution_count": 7,
   "id": "abbd5718",
   "metadata": {},
   "outputs": [
    {
     "data": {
      "text/html": [
       "<div>\n",
       "<style scoped>\n",
       "    .dataframe tbody tr th:only-of-type {\n",
       "        vertical-align: middle;\n",
       "    }\n",
       "\n",
       "    .dataframe tbody tr th {\n",
       "        vertical-align: top;\n",
       "    }\n",
       "\n",
       "    .dataframe thead th {\n",
       "        text-align: right;\n",
       "    }\n",
       "</style>\n",
       "<table border=\"1\" class=\"dataframe\">\n",
       "  <thead>\n",
       "    <tr style=\"text-align: right;\">\n",
       "      <th></th>\n",
       "      <th>precision</th>\n",
       "      <th>recall</th>\n",
       "      <th>balanced_accuracy</th>\n",
       "      <th>accuracy</th>\n",
       "      <th>f1</th>\n",
       "      <th>roc_auc</th>\n",
       "      <th>Time(s)</th>\n",
       "    </tr>\n",
       "  </thead>\n",
       "  <tbody>\n",
       "    <tr>\n",
       "      <th>LogisticRegression</th>\n",
       "      <td>0.848485</td>\n",
       "      <td>0.756757</td>\n",
       "      <td>0.830759</td>\n",
       "      <td>0.843575</td>\n",
       "      <td>0.8</td>\n",
       "      <td>0.830759</td>\n",
       "      <td>2.965518</td>\n",
       "    </tr>\n",
       "  </tbody>\n",
       "</table>\n",
       "</div>"
      ],
      "text/plain": [
       "                    precision    recall  balanced_accuracy  accuracy   f1  \\\n",
       "LogisticRegression   0.848485  0.756757           0.830759  0.843575  0.8   \n",
       "\n",
       "                     roc_auc   Time(s)  \n",
       "LogisticRegression  0.830759  2.965518  "
      ]
     },
     "execution_count": 7,
     "metadata": {},
     "output_type": "execute_result"
    }
   ],
   "source": [
    "data_fit"
   ]
  },
  {
   "cell_type": "code",
   "execution_count": null,
   "id": "ad5e7005",
   "metadata": {},
   "outputs": [],
   "source": []
  }
 ],
 "metadata": {
  "kernelspec": {
   "display_name": ".venv",
   "language": "python",
   "name": "python3"
  },
  "language_info": {
   "codemirror_mode": {
    "name": "ipython",
    "version": 3
   },
   "file_extension": ".py",
   "mimetype": "text/x-python",
   "name": "python",
   "nbconvert_exporter": "python",
   "pygments_lexer": "ipython3",
   "version": "3.10.11"
  }
 },
 "nbformat": 4,
 "nbformat_minor": 5
}
