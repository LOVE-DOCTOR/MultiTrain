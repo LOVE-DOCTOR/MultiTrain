{
 "cells": [
  {
   "cell_type": "code",
   "execution_count": null,
   "id": "edd187fa-da67-4c30-92c4-0a2e261f67ef",
   "metadata": {},
   "outputs": [
    {
     "name": "stderr",
     "output_type": "stream",
     "text": [
      "Intel(R) Extension for Scikit-learn* enabled (https://github.com/intel/scikit-learn-intelex)\n",
      "2025-02-08 20:45:33 - MultiTrain.regression.regression_models - WARNING - Version 1.0.0 introduces new syntax and you might experience errors if using old syntax, visit the documentation in the GitHub Repo.\n"
     ]
    }
   ],
   "source": [
    "from MultiTrain import MultiClassifier\n",
    "import MultiTrain\n",
    "import pandas as pd \n",
    "\n",
    "MultiTrain.__version__"
   ]
  },
  {
   "cell_type": "code",
   "execution_count": 3,
   "id": "fec8bb3f-74e6-4bfa-9897-f09a7de303ae",
   "metadata": {},
   "outputs": [],
   "source": [
    "df = pd.read_csv('examples/datasets/synthetic_beverage_sales_data.csv').head(200000)\n",
    "df"
   ]
  },
  {
   "cell_type": "code",
   "execution_count": 6,
   "id": "c9c7c1a3",
   "metadata": {},
   "outputs": [
    {
     "data": {
      "text/plain": [
       "Customer_Type\n",
       "B2C    128862\n",
       "B2B     71138\n",
       "Name: count, dtype: int64"
      ]
     },
     "execution_count": 6,
     "metadata": {},
     "output_type": "execute_result"
    }
   ],
   "source": [
    "df['Customer_Type'].value_counts()"
   ]
  },
  {
   "cell_type": "code",
   "execution_count": 7,
   "id": "e4ada8d3",
   "metadata": {},
   "outputs": [
    {
     "name": "stderr",
     "output_type": "stream",
     "text": [
      "2025-02-08 20:45:42 - MultiTrain.classification.classification_models - WARNING - Version 1.0.0 introduces new syntax and you might experience errors if using old syntax, visit the documentation in the GitHub Repo.\n"
     ]
    }
   ],
   "source": [
    "train_no_acceleration = MultiClassifier(max_iter=1000, use_gpu=False)\n",
    "dataset_splits = train_no_acceleration.split(data=df, \n",
    "                             target='Customer_Type',\n",
    "                             manual_encode={'label': ['Product', 'Category', 'Region', 'Customer_Type']},\n",
    "                             drop=['Order_ID', 'Customer_ID', 'Order_Date'])"
   ]
  },
  {
   "cell_type": "code",
   "execution_count": 8,
   "id": "7670fa71",
   "metadata": {},
   "outputs": [
    {
     "data": {
      "application/vnd.jupyter.widget-view+json": {
       "model_id": "eb6df123089248bbb81f4a7f0c6de09d",
       "version_major": 2,
       "version_minor": 0
      },
      "text/plain": [
       "Training Models:   0%|           | 0/27 [00:00<?, ?it/s, ]"
      ]
     },
     "metadata": {},
     "output_type": "display_data"
    },
    {
     "data": {
      "application/vnd.jupyter.widget-view+json": {
       "model_id": "0aad58cef22c41b89699329388721dab",
       "version_major": 2,
       "version_minor": 0
      },
      "text/plain": [
       "Evaluating LogisticRegression:   0%|          | 0/6 [00:00<?, ?it/s]"
      ]
     },
     "metadata": {},
     "output_type": "display_data"
    },
    {
     "data": {
      "application/vnd.jupyter.widget-view+json": {
       "model_id": "d41b412d6cd2400ea0ae152b6d6892ac",
       "version_major": 2,
       "version_minor": 0
      },
      "text/plain": [
       "Evaluating LogisticRegressionCV:   0%|          | 0/6 [00:00<?, ?it/s]"
      ]
     },
     "metadata": {},
     "output_type": "display_data"
    },
    {
     "data": {
      "application/vnd.jupyter.widget-view+json": {
       "model_id": "d95bf071923c4385a1eca9e6a63bd291",
       "version_major": 2,
       "version_minor": 0
      },
      "text/plain": [
       "Evaluating SGDClassifier:   0%|          | 0/6 [00:00<?, ?it/s]"
      ]
     },
     "metadata": {},
     "output_type": "display_data"
    },
    {
     "data": {
      "application/vnd.jupyter.widget-view+json": {
       "model_id": "0a58ec7e60094d098f1b925608f76f4f",
       "version_major": 2,
       "version_minor": 0
      },
      "text/plain": [
       "Evaluating PassiveAggressiveClassifier:   0%|          | 0/6 [00:00<?, ?it/s]"
      ]
     },
     "metadata": {},
     "output_type": "display_data"
    },
    {
     "data": {
      "application/vnd.jupyter.widget-view+json": {
       "model_id": "299f3cb23a7244bab1afe23dddbcf579",
       "version_major": 2,
       "version_minor": 0
      },
      "text/plain": [
       "Evaluating RidgeClassifier:   0%|          | 0/6 [00:00<?, ?it/s]"
      ]
     },
     "metadata": {},
     "output_type": "display_data"
    },
    {
     "data": {
      "application/vnd.jupyter.widget-view+json": {
       "model_id": "eef379d15ef64c8c83bc7c6d022f285f",
       "version_major": 2,
       "version_minor": 0
      },
      "text/plain": [
       "Evaluating RidgeClassifierCV:   0%|          | 0/6 [00:00<?, ?it/s]"
      ]
     },
     "metadata": {},
     "output_type": "display_data"
    },
    {
     "data": {
      "application/vnd.jupyter.widget-view+json": {
       "model_id": "9dbba63b545e473a8c3595f39bbe2ba5",
       "version_major": 2,
       "version_minor": 0
      },
      "text/plain": [
       "Evaluating Perceptron:   0%|          | 0/6 [00:00<?, ?it/s]"
      ]
     },
     "metadata": {},
     "output_type": "display_data"
    },
    {
     "data": {
      "application/vnd.jupyter.widget-view+json": {
       "model_id": "38d18a4a5ad94c328778249bcd667141",
       "version_major": 2,
       "version_minor": 0
      },
      "text/plain": [
       "Evaluating LinearSVC:   0%|          | 0/6 [00:00<?, ?it/s]"
      ]
     },
     "metadata": {},
     "output_type": "display_data"
    },
    {
     "data": {
      "application/vnd.jupyter.widget-view+json": {
       "model_id": "157acc62b69a47fc973c8c5a019c1a5f",
       "version_major": 2,
       "version_minor": 0
      },
      "text/plain": [
       "Evaluating NuSVC:   0%|          | 0/6 [00:00<?, ?it/s]"
      ]
     },
     "metadata": {},
     "output_type": "display_data"
    },
    {
     "data": {
      "application/vnd.jupyter.widget-view+json": {
       "model_id": "46fa25c99d1f461d9e10887a0d55f904",
       "version_major": 2,
       "version_minor": 0
      },
      "text/plain": [
       "Evaluating SVC:   0%|          | 0/6 [00:00<?, ?it/s]"
      ]
     },
     "metadata": {},
     "output_type": "display_data"
    },
    {
     "data": {
      "application/vnd.jupyter.widget-view+json": {
       "model_id": "6af8ee5794164e0580d79a1ee913807e",
       "version_major": 2,
       "version_minor": 0
      },
      "text/plain": [
       "Evaluating KNeighborsClassifier:   0%|          | 0/6 [00:00<?, ?it/s]"
      ]
     },
     "metadata": {},
     "output_type": "display_data"
    },
    {
     "data": {
      "application/vnd.jupyter.widget-view+json": {
       "model_id": "82c825cd5ff24dd3a4e6aad9acfe4406",
       "version_major": 2,
       "version_minor": 0
      },
      "text/plain": [
       "Evaluating MLPClassifier:   0%|          | 0/6 [00:00<?, ?it/s]"
      ]
     },
     "metadata": {},
     "output_type": "display_data"
    },
    {
     "data": {
      "application/vnd.jupyter.widget-view+json": {
       "model_id": "f7c8f1e3ce5a4a64be78ca1432eab9ce",
       "version_major": 2,
       "version_minor": 0
      },
      "text/plain": [
       "Evaluating GaussianNB:   0%|          | 0/6 [00:00<?, ?it/s]"
      ]
     },
     "metadata": {},
     "output_type": "display_data"
    },
    {
     "data": {
      "application/vnd.jupyter.widget-view+json": {
       "model_id": "e2eb24034f5748a69bf88469b59bccef",
       "version_major": 2,
       "version_minor": 0
      },
      "text/plain": [
       "Evaluating BernoulliNB:   0%|          | 0/6 [00:00<?, ?it/s]"
      ]
     },
     "metadata": {},
     "output_type": "display_data"
    },
    {
     "data": {
      "application/vnd.jupyter.widget-view+json": {
       "model_id": "689c8f990dea4492b7efb34079683f7c",
       "version_major": 2,
       "version_minor": 0
      },
      "text/plain": [
       "Evaluating MultinomialNB:   0%|          | 0/6 [00:00<?, ?it/s]"
      ]
     },
     "metadata": {},
     "output_type": "display_data"
    },
    {
     "data": {
      "application/vnd.jupyter.widget-view+json": {
       "model_id": "1e7d3189be214478a7b57f0550e9cfd3",
       "version_major": 2,
       "version_minor": 0
      },
      "text/plain": [
       "Evaluating ComplementNB:   0%|          | 0/6 [00:00<?, ?it/s]"
      ]
     },
     "metadata": {},
     "output_type": "display_data"
    },
    {
     "data": {
      "application/vnd.jupyter.widget-view+json": {
       "model_id": "849082525877458d81761dc9bd928bbf",
       "version_major": 2,
       "version_minor": 0
      },
      "text/plain": [
       "Evaluating DecisionTreeClassifier:   0%|          | 0/6 [00:00<?, ?it/s]"
      ]
     },
     "metadata": {},
     "output_type": "display_data"
    },
    {
     "data": {
      "application/vnd.jupyter.widget-view+json": {
       "model_id": "f05397077b9b482684be4f572b44f747",
       "version_major": 2,
       "version_minor": 0
      },
      "text/plain": [
       "Evaluating ExtraTreeClassifier:   0%|          | 0/6 [00:00<?, ?it/s]"
      ]
     },
     "metadata": {},
     "output_type": "display_data"
    },
    {
     "data": {
      "application/vnd.jupyter.widget-view+json": {
       "model_id": "732d4b6e7a2a42f1946bdf11097abda9",
       "version_major": 2,
       "version_minor": 0
      },
      "text/plain": [
       "Evaluating GradientBoostingClassifier:   0%|          | 0/6 [00:00<?, ?it/s]"
      ]
     },
     "metadata": {},
     "output_type": "display_data"
    },
    {
     "data": {
      "application/vnd.jupyter.widget-view+json": {
       "model_id": "4e7ed75f23f943b1af744abb28e9c0d7",
       "version_major": 2,
       "version_minor": 0
      },
      "text/plain": [
       "Evaluating ExtraTreesClassifier:   0%|          | 0/6 [00:00<?, ?it/s]"
      ]
     },
     "metadata": {},
     "output_type": "display_data"
    },
    {
     "data": {
      "application/vnd.jupyter.widget-view+json": {
       "model_id": "3ce3f5079a474e2a8afe5ae7b42357e9",
       "version_major": 2,
       "version_minor": 0
      },
      "text/plain": [
       "Evaluating BaggingClassifier:   0%|          | 0/6 [00:00<?, ?it/s]"
      ]
     },
     "metadata": {},
     "output_type": "display_data"
    },
    {
     "data": {
      "application/vnd.jupyter.widget-view+json": {
       "model_id": "b016d6d03363457a9858521f86486521",
       "version_major": 2,
       "version_minor": 0
      },
      "text/plain": [
       "Evaluating CatBoostClassifier:   0%|          | 0/6 [00:00<?, ?it/s]"
      ]
     },
     "metadata": {},
     "output_type": "display_data"
    },
    {
     "data": {
      "application/vnd.jupyter.widget-view+json": {
       "model_id": "eccecbfb632c45078576aa62b6b8bef3",
       "version_major": 2,
       "version_minor": 0
      },
      "text/plain": [
       "Evaluating RandomForestClassifier:   0%|          | 0/6 [00:00<?, ?it/s]"
      ]
     },
     "metadata": {},
     "output_type": "display_data"
    },
    {
     "data": {
      "application/vnd.jupyter.widget-view+json": {
       "model_id": "807359ab48bf464e94cf042c0b7c1ff6",
       "version_major": 2,
       "version_minor": 0
      },
      "text/plain": [
       "Evaluating AdaBoostClassifier:   0%|          | 0/6 [00:00<?, ?it/s]"
      ]
     },
     "metadata": {},
     "output_type": "display_data"
    },
    {
     "data": {
      "application/vnd.jupyter.widget-view+json": {
       "model_id": "f26c52a18452496ea3037013175bc0b2",
       "version_major": 2,
       "version_minor": 0
      },
      "text/plain": [
       "Evaluating HistGradientBoostingClassifier:   0%|          | 0/6 [00:00<?, ?it/s]"
      ]
     },
     "metadata": {},
     "output_type": "display_data"
    },
    {
     "data": {
      "application/vnd.jupyter.widget-view+json": {
       "model_id": "14857af7c13d410ea43fbbc8ab89f228",
       "version_major": 2,
       "version_minor": 0
      },
      "text/plain": [
       "Evaluating LGBMClassifier:   0%|          | 0/6 [00:00<?, ?it/s]"
      ]
     },
     "metadata": {},
     "output_type": "display_data"
    },
    {
     "data": {
      "application/vnd.jupyter.widget-view+json": {
       "model_id": "769aced39d2c468e9f45a32ee2565623",
       "version_major": 2,
       "version_minor": 0
      },
      "text/plain": [
       "Evaluating XGBClassifier:   0%|          | 0/6 [00:00<?, ?it/s]"
      ]
     },
     "metadata": {},
     "output_type": "display_data"
    }
   ],
   "source": [
    "data_fit_no_acceleration = train_no_acceleration.fit(datasplits=dataset_splits\n",
    "                     )"
   ]
  },
  {
   "cell_type": "code",
   "execution_count": 9,
   "id": "d7a3d41c",
   "metadata": {},
   "outputs": [
    {
     "name": "stdout",
     "output_type": "stream",
     "text": [
      "Scikit-learn was successfully globally patched by Intel(R) Extension for Scikit-learn\n"
     ]
    },
    {
     "name": "stderr",
     "output_type": "stream",
     "text": [
      "Intel(R) Extension for Scikit-learn* enabled (https://github.com/intel/scikit-learn-intelex)\n"
     ]
    }
   ],
   "source": [
    "train = MultiClassifier(max_iter=1000, use_gpu=True)\n",
    "dataset_splits = train.split(data=df, \n",
    "                             target='Customer_Type',\n",
    "                             manual_encode={'label': ['Product', 'Category', 'Region', 'Customer_Type']},\n",
    "                             drop=['Order_ID', 'Customer_ID', 'Order_Date'])"
   ]
  },
  {
   "cell_type": "code",
   "execution_count": 10,
   "id": "bbaf86cd",
   "metadata": {},
   "outputs": [
    {
     "data": {
      "application/vnd.jupyter.widget-view+json": {
       "model_id": "a0b1bb8317b14c8abcb3395f0e84f95b",
       "version_major": 2,
       "version_minor": 0
      },
      "text/plain": [
       "Training Models:   0%|           | 0/27 [00:00<?, ?it/s, ]"
      ]
     },
     "metadata": {},
     "output_type": "display_data"
    },
    {
     "data": {
      "application/vnd.jupyter.widget-view+json": {
       "model_id": "5128d7c4ec4d4b2082dd52112a8ca6cf",
       "version_major": 2,
       "version_minor": 0
      },
      "text/plain": [
       "Evaluating LogisticRegression:   0%|          | 0/6 [00:00<?, ?it/s]"
      ]
     },
     "metadata": {},
     "output_type": "display_data"
    },
    {
     "data": {
      "application/vnd.jupyter.widget-view+json": {
       "model_id": "52a26e42fe6742579276a8809b795b81",
       "version_major": 2,
       "version_minor": 0
      },
      "text/plain": [
       "Evaluating LogisticRegressionCV:   0%|          | 0/6 [00:00<?, ?it/s]"
      ]
     },
     "metadata": {},
     "output_type": "display_data"
    },
    {
     "data": {
      "application/vnd.jupyter.widget-view+json": {
       "model_id": "f945b922f5c3488bb7665d7407b8d976",
       "version_major": 2,
       "version_minor": 0
      },
      "text/plain": [
       "Evaluating SGDClassifier:   0%|          | 0/6 [00:00<?, ?it/s]"
      ]
     },
     "metadata": {},
     "output_type": "display_data"
    },
    {
     "data": {
      "application/vnd.jupyter.widget-view+json": {
       "model_id": "4c83c6b1341e4c3e804906ac3c04509e",
       "version_major": 2,
       "version_minor": 0
      },
      "text/plain": [
       "Evaluating PassiveAggressiveClassifier:   0%|          | 0/6 [00:00<?, ?it/s]"
      ]
     },
     "metadata": {},
     "output_type": "display_data"
    },
    {
     "data": {
      "application/vnd.jupyter.widget-view+json": {
       "model_id": "88681a7e33ee4a9c9bf9f2d411b56b33",
       "version_major": 2,
       "version_minor": 0
      },
      "text/plain": [
       "Evaluating RidgeClassifier:   0%|          | 0/6 [00:00<?, ?it/s]"
      ]
     },
     "metadata": {},
     "output_type": "display_data"
    },
    {
     "data": {
      "application/vnd.jupyter.widget-view+json": {
       "model_id": "d8b1baebb99d4e678f940502cb8915bf",
       "version_major": 2,
       "version_minor": 0
      },
      "text/plain": [
       "Evaluating RidgeClassifierCV:   0%|          | 0/6 [00:00<?, ?it/s]"
      ]
     },
     "metadata": {},
     "output_type": "display_data"
    },
    {
     "data": {
      "application/vnd.jupyter.widget-view+json": {
       "model_id": "535b4ff63b1f4f558957c7428a2b5fe6",
       "version_major": 2,
       "version_minor": 0
      },
      "text/plain": [
       "Evaluating Perceptron:   0%|          | 0/6 [00:00<?, ?it/s]"
      ]
     },
     "metadata": {},
     "output_type": "display_data"
    },
    {
     "data": {
      "application/vnd.jupyter.widget-view+json": {
       "model_id": "b0835473b1d74c92ab04817e6296acdb",
       "version_major": 2,
       "version_minor": 0
      },
      "text/plain": [
       "Evaluating LinearSVC:   0%|          | 0/6 [00:00<?, ?it/s]"
      ]
     },
     "metadata": {},
     "output_type": "display_data"
    },
    {
     "data": {
      "application/vnd.jupyter.widget-view+json": {
       "model_id": "c158d1817f624d42a64fadf0594a7b90",
       "version_major": 2,
       "version_minor": 0
      },
      "text/plain": [
       "Evaluating NuSVC:   0%|          | 0/6 [00:00<?, ?it/s]"
      ]
     },
     "metadata": {},
     "output_type": "display_data"
    },
    {
     "data": {
      "application/vnd.jupyter.widget-view+json": {
       "model_id": "99e058c8c5dc4f4d97b38988ad011c9f",
       "version_major": 2,
       "version_minor": 0
      },
      "text/plain": [
       "Evaluating SVC:   0%|          | 0/6 [00:00<?, ?it/s]"
      ]
     },
     "metadata": {},
     "output_type": "display_data"
    },
    {
     "data": {
      "application/vnd.jupyter.widget-view+json": {
       "model_id": "33ea037e3c644636ae6f334cbdca5268",
       "version_major": 2,
       "version_minor": 0
      },
      "text/plain": [
       "Evaluating KNeighborsClassifier:   0%|          | 0/6 [00:00<?, ?it/s]"
      ]
     },
     "metadata": {},
     "output_type": "display_data"
    },
    {
     "data": {
      "application/vnd.jupyter.widget-view+json": {
       "model_id": "d6319d9bc2084d6685643d349412570f",
       "version_major": 2,
       "version_minor": 0
      },
      "text/plain": [
       "Evaluating MLPClassifier:   0%|          | 0/6 [00:00<?, ?it/s]"
      ]
     },
     "metadata": {},
     "output_type": "display_data"
    },
    {
     "data": {
      "application/vnd.jupyter.widget-view+json": {
       "model_id": "9482f2012bb84210990930a9247b7a1f",
       "version_major": 2,
       "version_minor": 0
      },
      "text/plain": [
       "Evaluating GaussianNB:   0%|          | 0/6 [00:00<?, ?it/s]"
      ]
     },
     "metadata": {},
     "output_type": "display_data"
    },
    {
     "data": {
      "application/vnd.jupyter.widget-view+json": {
       "model_id": "6002805d23a340eb84f2b513b02154b6",
       "version_major": 2,
       "version_minor": 0
      },
      "text/plain": [
       "Evaluating BernoulliNB:   0%|          | 0/6 [00:00<?, ?it/s]"
      ]
     },
     "metadata": {},
     "output_type": "display_data"
    },
    {
     "data": {
      "application/vnd.jupyter.widget-view+json": {
       "model_id": "8f86f0d65372400583994265cd6c58be",
       "version_major": 2,
       "version_minor": 0
      },
      "text/plain": [
       "Evaluating MultinomialNB:   0%|          | 0/6 [00:00<?, ?it/s]"
      ]
     },
     "metadata": {},
     "output_type": "display_data"
    },
    {
     "data": {
      "application/vnd.jupyter.widget-view+json": {
       "model_id": "803e138961594f949ba9cc1a516ba127",
       "version_major": 2,
       "version_minor": 0
      },
      "text/plain": [
       "Evaluating ComplementNB:   0%|          | 0/6 [00:00<?, ?it/s]"
      ]
     },
     "metadata": {},
     "output_type": "display_data"
    },
    {
     "data": {
      "application/vnd.jupyter.widget-view+json": {
       "model_id": "1412c9083f474c6bb7ed9d5224719628",
       "version_major": 2,
       "version_minor": 0
      },
      "text/plain": [
       "Evaluating DecisionTreeClassifier:   0%|          | 0/6 [00:00<?, ?it/s]"
      ]
     },
     "metadata": {},
     "output_type": "display_data"
    },
    {
     "data": {
      "application/vnd.jupyter.widget-view+json": {
       "model_id": "e34c844abea64c8892f5cb9fd8653d75",
       "version_major": 2,
       "version_minor": 0
      },
      "text/plain": [
       "Evaluating ExtraTreeClassifier:   0%|          | 0/6 [00:00<?, ?it/s]"
      ]
     },
     "metadata": {},
     "output_type": "display_data"
    },
    {
     "data": {
      "application/vnd.jupyter.widget-view+json": {
       "model_id": "39f10be71de34bd8907d8f7e44189ebd",
       "version_major": 2,
       "version_minor": 0
      },
      "text/plain": [
       "Evaluating GradientBoostingClassifier:   0%|          | 0/6 [00:00<?, ?it/s]"
      ]
     },
     "metadata": {},
     "output_type": "display_data"
    },
    {
     "data": {
      "application/vnd.jupyter.widget-view+json": {
       "model_id": "ebae1f250a9847e7b487b20853b972c5",
       "version_major": 2,
       "version_minor": 0
      },
      "text/plain": [
       "Evaluating ExtraTreesClassifier:   0%|          | 0/6 [00:00<?, ?it/s]"
      ]
     },
     "metadata": {},
     "output_type": "display_data"
    },
    {
     "data": {
      "application/vnd.jupyter.widget-view+json": {
       "model_id": "4f67f9c6ec5a48b8b62199349da66a7e",
       "version_major": 2,
       "version_minor": 0
      },
      "text/plain": [
       "Evaluating BaggingClassifier:   0%|          | 0/6 [00:00<?, ?it/s]"
      ]
     },
     "metadata": {},
     "output_type": "display_data"
    },
    {
     "data": {
      "application/vnd.jupyter.widget-view+json": {
       "model_id": "08c859140ec94e3c8ef70153bc3386c0",
       "version_major": 2,
       "version_minor": 0
      },
      "text/plain": [
       "Evaluating CatBoostClassifier:   0%|          | 0/6 [00:00<?, ?it/s]"
      ]
     },
     "metadata": {},
     "output_type": "display_data"
    },
    {
     "data": {
      "application/vnd.jupyter.widget-view+json": {
       "model_id": "aa08ddd3ab3148239bb114bee0b48dec",
       "version_major": 2,
       "version_minor": 0
      },
      "text/plain": [
       "Evaluating RandomForestClassifier:   0%|          | 0/6 [00:00<?, ?it/s]"
      ]
     },
     "metadata": {},
     "output_type": "display_data"
    },
    {
     "data": {
      "application/vnd.jupyter.widget-view+json": {
       "model_id": "44d507ebbf624466a20cac6dffbd37b2",
       "version_major": 2,
       "version_minor": 0
      },
      "text/plain": [
       "Evaluating AdaBoostClassifier:   0%|          | 0/6 [00:00<?, ?it/s]"
      ]
     },
     "metadata": {},
     "output_type": "display_data"
    },
    {
     "data": {
      "application/vnd.jupyter.widget-view+json": {
       "model_id": "e0b139c007004553807cbcf2f69a4be5",
       "version_major": 2,
       "version_minor": 0
      },
      "text/plain": [
       "Evaluating HistGradientBoostingClassifier:   0%|          | 0/6 [00:00<?, ?it/s]"
      ]
     },
     "metadata": {},
     "output_type": "display_data"
    },
    {
     "data": {
      "application/vnd.jupyter.widget-view+json": {
       "model_id": "c5b53228f73d494ea448d55618ab2c0d",
       "version_major": 2,
       "version_minor": 0
      },
      "text/plain": [
       "Evaluating LGBMClassifier:   0%|          | 0/6 [00:00<?, ?it/s]"
      ]
     },
     "metadata": {},
     "output_type": "display_data"
    },
    {
     "data": {
      "application/vnd.jupyter.widget-view+json": {
       "model_id": "5201beffa6e54db2bd5d01c743880549",
       "version_major": 2,
       "version_minor": 0
      },
      "text/plain": [
       "Evaluating XGBClassifier:   0%|          | 0/6 [00:00<?, ?it/s]"
      ]
     },
     "metadata": {},
     "output_type": "display_data"
    }
   ],
   "source": [
    "data_fit = train.fit(datasplits=dataset_splits)"
   ]
  },
  {
   "cell_type": "code",
   "execution_count": 11,
   "id": "4a6283bc",
   "metadata": {},
   "outputs": [
    {
     "data": {
      "text/html": [
       "<div>\n",
       "<style scoped>\n",
       "    .dataframe tbody tr th:only-of-type {\n",
       "        vertical-align: middle;\n",
       "    }\n",
       "\n",
       "    .dataframe tbody tr th {\n",
       "        vertical-align: top;\n",
       "    }\n",
       "\n",
       "    .dataframe thead th {\n",
       "        text-align: right;\n",
       "    }\n",
       "</style>\n",
       "<table border=\"1\" class=\"dataframe\">\n",
       "  <thead>\n",
       "    <tr style=\"text-align: right;\">\n",
       "      <th></th>\n",
       "      <th>precision</th>\n",
       "      <th>recall</th>\n",
       "      <th>balanced_accuracy</th>\n",
       "      <th>accuracy</th>\n",
       "      <th>f1</th>\n",
       "      <th>roc_auc</th>\n",
       "      <th>Time</th>\n",
       "    </tr>\n",
       "  </thead>\n",
       "  <tbody>\n",
       "    <tr>\n",
       "      <th>LogisticRegression</th>\n",
       "      <td>1.0</td>\n",
       "      <td>1.0</td>\n",
       "      <td>1.0</td>\n",
       "      <td>1.0</td>\n",
       "      <td>1.0</td>\n",
       "      <td>1.0</td>\n",
       "      <td>2.91 s</td>\n",
       "    </tr>\n",
       "    <tr>\n",
       "      <th>LogisticRegressionCV</th>\n",
       "      <td>1.0</td>\n",
       "      <td>1.0</td>\n",
       "      <td>1.0</td>\n",
       "      <td>1.0</td>\n",
       "      <td>1.0</td>\n",
       "      <td>1.0</td>\n",
       "      <td>7.58 s</td>\n",
       "    </tr>\n",
       "    <tr>\n",
       "      <th>SGDClassifier</th>\n",
       "      <td>0.917457</td>\n",
       "      <td>0.949969</td>\n",
       "      <td>0.897645</td>\n",
       "      <td>0.912725</td>\n",
       "      <td>0.93343</td>\n",
       "      <td>0.897645</td>\n",
       "      <td>292.01 ms</td>\n",
       "    </tr>\n",
       "    <tr>\n",
       "      <th>PassiveAggressiveClassifier</th>\n",
       "      <td>0.992297</td>\n",
       "      <td>1.0</td>\n",
       "      <td>0.992976</td>\n",
       "      <td>0.995</td>\n",
       "      <td>0.996134</td>\n",
       "      <td>0.992976</td>\n",
       "      <td>902.67 ms</td>\n",
       "    </tr>\n",
       "    <tr>\n",
       "      <th>RidgeClassifier</th>\n",
       "      <td>0.997908</td>\n",
       "      <td>1.0</td>\n",
       "      <td>0.998103</td>\n",
       "      <td>0.99865</td>\n",
       "      <td>0.998953</td>\n",
       "      <td>0.998103</td>\n",
       "      <td>30.65 ms</td>\n",
       "    </tr>\n",
       "    <tr>\n",
       "      <th>RidgeClassifierCV</th>\n",
       "      <td>0.998489</td>\n",
       "      <td>1.0</td>\n",
       "      <td>0.99863</td>\n",
       "      <td>0.999025</td>\n",
       "      <td>0.999244</td>\n",
       "      <td>0.99863</td>\n",
       "      <td>600.81 ms</td>\n",
       "    </tr>\n",
       "    <tr>\n",
       "      <th>Perceptron</th>\n",
       "      <td>0.923643</td>\n",
       "      <td>0.846996</td>\n",
       "      <td>0.860137</td>\n",
       "      <td>0.85635</td>\n",
       "      <td>0.883661</td>\n",
       "      <td>0.860137</td>\n",
       "      <td>99.54 ms</td>\n",
       "    </tr>\n",
       "    <tr>\n",
       "      <th>LinearSVC</th>\n",
       "      <td>1.0</td>\n",
       "      <td>1.0</td>\n",
       "      <td>1.0</td>\n",
       "      <td>1.0</td>\n",
       "      <td>1.0</td>\n",
       "      <td>1.0</td>\n",
       "      <td>758.50 ms</td>\n",
       "    </tr>\n",
       "    <tr>\n",
       "      <th>NuSVC</th>\n",
       "      <td>0.825166</td>\n",
       "      <td>0.991422</td>\n",
       "      <td>0.80563</td>\n",
       "      <td>0.859175</td>\n",
       "      <td>0.900686</td>\n",
       "      <td>0.80563</td>\n",
       "      <td>30.66 s</td>\n",
       "    </tr>\n",
       "    <tr>\n",
       "      <th>SVC</th>\n",
       "      <td>0.895641</td>\n",
       "      <td>1.0</td>\n",
       "      <td>0.894563</td>\n",
       "      <td>0.92495</td>\n",
       "      <td>0.944948</td>\n",
       "      <td>0.894563</td>\n",
       "      <td>18.87 s</td>\n",
       "    </tr>\n",
       "    <tr>\n",
       "      <th>KNeighborsClassifier</th>\n",
       "      <td>0.950592</td>\n",
       "      <td>0.999922</td>\n",
       "      <td>0.952933</td>\n",
       "      <td>0.966475</td>\n",
       "      <td>0.974634</td>\n",
       "      <td>0.952933</td>\n",
       "      <td>150.59 ms</td>\n",
       "    </tr>\n",
       "    <tr>\n",
       "      <th>MLPClassifier</th>\n",
       "      <td>0.99969</td>\n",
       "      <td>1.0</td>\n",
       "      <td>0.999719</td>\n",
       "      <td>0.9998</td>\n",
       "      <td>0.999845</td>\n",
       "      <td>0.999719</td>\n",
       "      <td>20.59 s</td>\n",
       "    </tr>\n",
       "    <tr>\n",
       "      <th>GaussianNB</th>\n",
       "      <td>0.940631</td>\n",
       "      <td>0.98886</td>\n",
       "      <td>0.937954</td>\n",
       "      <td>0.952625</td>\n",
       "      <td>0.964143</td>\n",
       "      <td>0.937954</td>\n",
       "      <td>32.18 ms</td>\n",
       "    </tr>\n",
       "    <tr>\n",
       "      <th>BernoulliNB</th>\n",
       "      <td>1.0</td>\n",
       "      <td>1.0</td>\n",
       "      <td>1.0</td>\n",
       "      <td>1.0</td>\n",
       "      <td>1.0</td>\n",
       "      <td>1.0</td>\n",
       "      <td>31.12 ms</td>\n",
       "    </tr>\n",
       "    <tr>\n",
       "      <th>MultinomialNB</th>\n",
       "      <td>0.802601</td>\n",
       "      <td>0.922256</td>\n",
       "      <td>0.755874</td>\n",
       "      <td>0.803825</td>\n",
       "      <td>0.858278</td>\n",
       "      <td>0.755874</td>\n",
       "      <td>17.97 ms</td>\n",
       "    </tr>\n",
       "    <tr>\n",
       "      <th>ComplementNB</th>\n",
       "      <td>0.80376</td>\n",
       "      <td>0.919345</td>\n",
       "      <td>0.756561</td>\n",
       "      <td>0.803475</td>\n",
       "      <td>0.857676</td>\n",
       "      <td>0.756561</td>\n",
       "      <td>16.30 ms</td>\n",
       "    </tr>\n",
       "    <tr>\n",
       "      <th>DecisionTreeClassifier</th>\n",
       "      <td>1.0</td>\n",
       "      <td>1.0</td>\n",
       "      <td>1.0</td>\n",
       "      <td>1.0</td>\n",
       "      <td>1.0</td>\n",
       "      <td>1.0</td>\n",
       "      <td>39.06 ms</td>\n",
       "    </tr>\n",
       "    <tr>\n",
       "      <th>ExtraTreeClassifier</th>\n",
       "      <td>0.999418</td>\n",
       "      <td>0.999961</td>\n",
       "      <td>0.999454</td>\n",
       "      <td>0.9996</td>\n",
       "      <td>0.99969</td>\n",
       "      <td>0.999454</td>\n",
       "      <td>56.44 ms</td>\n",
       "    </tr>\n",
       "    <tr>\n",
       "      <th>GradientBoostingClassifier</th>\n",
       "      <td>1.0</td>\n",
       "      <td>1.0</td>\n",
       "      <td>1.0</td>\n",
       "      <td>1.0</td>\n",
       "      <td>1.0</td>\n",
       "      <td>1.0</td>\n",
       "      <td>5.56 s</td>\n",
       "    </tr>\n",
       "    <tr>\n",
       "      <th>ExtraTreesClassifier</th>\n",
       "      <td>1.0</td>\n",
       "      <td>1.0</td>\n",
       "      <td>1.0</td>\n",
       "      <td>1.0</td>\n",
       "      <td>1.0</td>\n",
       "      <td>1.0</td>\n",
       "      <td>290.68 ms</td>\n",
       "    </tr>\n",
       "    <tr>\n",
       "      <th>BaggingClassifier</th>\n",
       "      <td>1.0</td>\n",
       "      <td>1.0</td>\n",
       "      <td>1.0</td>\n",
       "      <td>1.0</td>\n",
       "      <td>1.0</td>\n",
       "      <td>1.0</td>\n",
       "      <td>2.86 s</td>\n",
       "    </tr>\n",
       "    <tr>\n",
       "      <th>CatBoostClassifier</th>\n",
       "      <td>1.0</td>\n",
       "      <td>1.0</td>\n",
       "      <td>1.0</td>\n",
       "      <td>1.0</td>\n",
       "      <td>1.0</td>\n",
       "      <td>1.0</td>\n",
       "      <td>10.10 s</td>\n",
       "    </tr>\n",
       "    <tr>\n",
       "      <th>RandomForestClassifier</th>\n",
       "      <td>1.0</td>\n",
       "      <td>1.0</td>\n",
       "      <td>1.0</td>\n",
       "      <td>1.0</td>\n",
       "      <td>1.0</td>\n",
       "      <td>1.0</td>\n",
       "      <td>236.84 ms</td>\n",
       "    </tr>\n",
       "    <tr>\n",
       "      <th>AdaBoostClassifier</th>\n",
       "      <td>1.0</td>\n",
       "      <td>1.0</td>\n",
       "      <td>1.0</td>\n",
       "      <td>1.0</td>\n",
       "      <td>1.0</td>\n",
       "      <td>1.0</td>\n",
       "      <td>70.92 ms</td>\n",
       "    </tr>\n",
       "    <tr>\n",
       "      <th>HistGradientBoostingClassifier</th>\n",
       "      <td>1.0</td>\n",
       "      <td>1.0</td>\n",
       "      <td>1.0</td>\n",
       "      <td>1.0</td>\n",
       "      <td>1.0</td>\n",
       "      <td>1.0</td>\n",
       "      <td>689.38 ms</td>\n",
       "    </tr>\n",
       "    <tr>\n",
       "      <th>LGBMClassifier</th>\n",
       "      <td>1.0</td>\n",
       "      <td>1.0</td>\n",
       "      <td>1.0</td>\n",
       "      <td>1.0</td>\n",
       "      <td>1.0</td>\n",
       "      <td>1.0</td>\n",
       "      <td>921.98 ms</td>\n",
       "    </tr>\n",
       "    <tr>\n",
       "      <th>XGBClassifier</th>\n",
       "      <td>1.0</td>\n",
       "      <td>1.0</td>\n",
       "      <td>1.0</td>\n",
       "      <td>1.0</td>\n",
       "      <td>1.0</td>\n",
       "      <td>1.0</td>\n",
       "      <td>1.45 s</td>\n",
       "    </tr>\n",
       "  </tbody>\n",
       "</table>\n",
       "</div>"
      ],
      "text/plain": [
       "                               precision    recall balanced_accuracy  \\\n",
       "LogisticRegression                   1.0       1.0               1.0   \n",
       "LogisticRegressionCV                 1.0       1.0               1.0   \n",
       "SGDClassifier                   0.917457  0.949969          0.897645   \n",
       "PassiveAggressiveClassifier     0.992297       1.0          0.992976   \n",
       "RidgeClassifier                 0.997908       1.0          0.998103   \n",
       "RidgeClassifierCV               0.998489       1.0           0.99863   \n",
       "Perceptron                      0.923643  0.846996          0.860137   \n",
       "LinearSVC                            1.0       1.0               1.0   \n",
       "NuSVC                           0.825166  0.991422           0.80563   \n",
       "SVC                             0.895641       1.0          0.894563   \n",
       "KNeighborsClassifier            0.950592  0.999922          0.952933   \n",
       "MLPClassifier                    0.99969       1.0          0.999719   \n",
       "GaussianNB                      0.940631   0.98886          0.937954   \n",
       "BernoulliNB                          1.0       1.0               1.0   \n",
       "MultinomialNB                   0.802601  0.922256          0.755874   \n",
       "ComplementNB                     0.80376  0.919345          0.756561   \n",
       "DecisionTreeClassifier               1.0       1.0               1.0   \n",
       "ExtraTreeClassifier             0.999418  0.999961          0.999454   \n",
       "GradientBoostingClassifier           1.0       1.0               1.0   \n",
       "ExtraTreesClassifier                 1.0       1.0               1.0   \n",
       "BaggingClassifier                    1.0       1.0               1.0   \n",
       "CatBoostClassifier                   1.0       1.0               1.0   \n",
       "RandomForestClassifier               1.0       1.0               1.0   \n",
       "AdaBoostClassifier                   1.0       1.0               1.0   \n",
       "HistGradientBoostingClassifier       1.0       1.0               1.0   \n",
       "LGBMClassifier                       1.0       1.0               1.0   \n",
       "XGBClassifier                        1.0       1.0               1.0   \n",
       "\n",
       "                                accuracy        f1   roc_auc       Time  \n",
       "LogisticRegression                   1.0       1.0       1.0     2.91 s  \n",
       "LogisticRegressionCV                 1.0       1.0       1.0     7.58 s  \n",
       "SGDClassifier                   0.912725   0.93343  0.897645  292.01 ms  \n",
       "PassiveAggressiveClassifier        0.995  0.996134  0.992976  902.67 ms  \n",
       "RidgeClassifier                  0.99865  0.998953  0.998103   30.65 ms  \n",
       "RidgeClassifierCV               0.999025  0.999244   0.99863  600.81 ms  \n",
       "Perceptron                       0.85635  0.883661  0.860137   99.54 ms  \n",
       "LinearSVC                            1.0       1.0       1.0  758.50 ms  \n",
       "NuSVC                           0.859175  0.900686   0.80563    30.66 s  \n",
       "SVC                              0.92495  0.944948  0.894563    18.87 s  \n",
       "KNeighborsClassifier            0.966475  0.974634  0.952933  150.59 ms  \n",
       "MLPClassifier                     0.9998  0.999845  0.999719    20.59 s  \n",
       "GaussianNB                      0.952625  0.964143  0.937954   32.18 ms  \n",
       "BernoulliNB                          1.0       1.0       1.0   31.12 ms  \n",
       "MultinomialNB                   0.803825  0.858278  0.755874   17.97 ms  \n",
       "ComplementNB                    0.803475  0.857676  0.756561   16.30 ms  \n",
       "DecisionTreeClassifier               1.0       1.0       1.0   39.06 ms  \n",
       "ExtraTreeClassifier               0.9996   0.99969  0.999454   56.44 ms  \n",
       "GradientBoostingClassifier           1.0       1.0       1.0     5.56 s  \n",
       "ExtraTreesClassifier                 1.0       1.0       1.0  290.68 ms  \n",
       "BaggingClassifier                    1.0       1.0       1.0     2.86 s  \n",
       "CatBoostClassifier                   1.0       1.0       1.0    10.10 s  \n",
       "RandomForestClassifier               1.0       1.0       1.0  236.84 ms  \n",
       "AdaBoostClassifier                   1.0       1.0       1.0   70.92 ms  \n",
       "HistGradientBoostingClassifier       1.0       1.0       1.0  689.38 ms  \n",
       "LGBMClassifier                       1.0       1.0       1.0  921.98 ms  \n",
       "XGBClassifier                        1.0       1.0       1.0     1.45 s  "
      ]
     },
     "execution_count": 11,
     "metadata": {},
     "output_type": "execute_result"
    }
   ],
   "source": [
    "data_fit"
   ]
  },
  {
   "cell_type": "code",
   "execution_count": 12,
   "id": "41d07951",
   "metadata": {},
   "outputs": [
    {
     "data": {
      "text/html": [
       "<div>\n",
       "<style scoped>\n",
       "    .dataframe tbody tr th:only-of-type {\n",
       "        vertical-align: middle;\n",
       "    }\n",
       "\n",
       "    .dataframe tbody tr th {\n",
       "        vertical-align: top;\n",
       "    }\n",
       "\n",
       "    .dataframe thead th {\n",
       "        text-align: right;\n",
       "    }\n",
       "</style>\n",
       "<table border=\"1\" class=\"dataframe\">\n",
       "  <thead>\n",
       "    <tr style=\"text-align: right;\">\n",
       "      <th></th>\n",
       "      <th>precision</th>\n",
       "      <th>recall</th>\n",
       "      <th>balanced_accuracy</th>\n",
       "      <th>accuracy</th>\n",
       "      <th>f1</th>\n",
       "      <th>roc_auc</th>\n",
       "      <th>Time</th>\n",
       "      <th>Time_acceleration</th>\n",
       "    </tr>\n",
       "  </thead>\n",
       "  <tbody>\n",
       "    <tr>\n",
       "      <th>LogisticRegression</th>\n",
       "      <td>1.0</td>\n",
       "      <td>1.0</td>\n",
       "      <td>1.0</td>\n",
       "      <td>1.0</td>\n",
       "      <td>1.0</td>\n",
       "      <td>1.0</td>\n",
       "      <td>2.91 s</td>\n",
       "      <td>2.91 s</td>\n",
       "    </tr>\n",
       "    <tr>\n",
       "      <th>LogisticRegressionCV</th>\n",
       "      <td>1.0</td>\n",
       "      <td>1.0</td>\n",
       "      <td>1.0</td>\n",
       "      <td>1.0</td>\n",
       "      <td>1.0</td>\n",
       "      <td>1.0</td>\n",
       "      <td>6.52 s</td>\n",
       "      <td>7.58 s</td>\n",
       "    </tr>\n",
       "    <tr>\n",
       "      <th>SGDClassifier</th>\n",
       "      <td>0.917701</td>\n",
       "      <td>0.949581</td>\n",
       "      <td>0.897732</td>\n",
       "      <td>0.912675</td>\n",
       "      <td>0.933369</td>\n",
       "      <td>0.897732</td>\n",
       "      <td>332.16 ms</td>\n",
       "      <td>292.01 ms</td>\n",
       "    </tr>\n",
       "    <tr>\n",
       "      <th>PassiveAggressiveClassifier</th>\n",
       "      <td>0.99058</td>\n",
       "      <td>1.0</td>\n",
       "      <td>0.991395</td>\n",
       "      <td>0.993875</td>\n",
       "      <td>0.995268</td>\n",
       "      <td>0.991395</td>\n",
       "      <td>846.74 ms</td>\n",
       "      <td>902.67 ms</td>\n",
       "    </tr>\n",
       "    <tr>\n",
       "      <th>RidgeClassifier</th>\n",
       "      <td>0.997908</td>\n",
       "      <td>1.0</td>\n",
       "      <td>0.998103</td>\n",
       "      <td>0.99865</td>\n",
       "      <td>0.998953</td>\n",
       "      <td>0.998103</td>\n",
       "      <td>58.67 ms</td>\n",
       "      <td>30.65 ms</td>\n",
       "    </tr>\n",
       "    <tr>\n",
       "      <th>RidgeClassifierCV</th>\n",
       "      <td>0.998489</td>\n",
       "      <td>1.0</td>\n",
       "      <td>0.99863</td>\n",
       "      <td>0.999025</td>\n",
       "      <td>0.999244</td>\n",
       "      <td>0.99863</td>\n",
       "      <td>634.87 ms</td>\n",
       "      <td>600.81 ms</td>\n",
       "    </tr>\n",
       "    <tr>\n",
       "      <th>Perceptron</th>\n",
       "      <td>0.923643</td>\n",
       "      <td>0.846996</td>\n",
       "      <td>0.860137</td>\n",
       "      <td>0.85635</td>\n",
       "      <td>0.883661</td>\n",
       "      <td>0.860137</td>\n",
       "      <td>116.01 ms</td>\n",
       "      <td>99.54 ms</td>\n",
       "    </tr>\n",
       "    <tr>\n",
       "      <th>LinearSVC</th>\n",
       "      <td>1.0</td>\n",
       "      <td>1.0</td>\n",
       "      <td>1.0</td>\n",
       "      <td>1.0</td>\n",
       "      <td>1.0</td>\n",
       "      <td>1.0</td>\n",
       "      <td>793.51 ms</td>\n",
       "      <td>758.50 ms</td>\n",
       "    </tr>\n",
       "    <tr>\n",
       "      <th>NuSVC</th>\n",
       "      <td>0.825166</td>\n",
       "      <td>0.991422</td>\n",
       "      <td>0.80563</td>\n",
       "      <td>0.859175</td>\n",
       "      <td>0.900686</td>\n",
       "      <td>0.80563</td>\n",
       "      <td>29.10 s</td>\n",
       "      <td>30.66 s</td>\n",
       "    </tr>\n",
       "    <tr>\n",
       "      <th>SVC</th>\n",
       "      <td>0.895641</td>\n",
       "      <td>1.0</td>\n",
       "      <td>0.894563</td>\n",
       "      <td>0.92495</td>\n",
       "      <td>0.944948</td>\n",
       "      <td>0.894563</td>\n",
       "      <td>20.16 s</td>\n",
       "      <td>18.87 s</td>\n",
       "    </tr>\n",
       "    <tr>\n",
       "      <th>KNeighborsClassifier</th>\n",
       "      <td>0.950592</td>\n",
       "      <td>0.999922</td>\n",
       "      <td>0.952933</td>\n",
       "      <td>0.966475</td>\n",
       "      <td>0.974634</td>\n",
       "      <td>0.952933</td>\n",
       "      <td>155.32 ms</td>\n",
       "      <td>150.59 ms</td>\n",
       "    </tr>\n",
       "    <tr>\n",
       "      <th>MLPClassifier</th>\n",
       "      <td>0.99969</td>\n",
       "      <td>1.0</td>\n",
       "      <td>0.999719</td>\n",
       "      <td>0.9998</td>\n",
       "      <td>0.999845</td>\n",
       "      <td>0.999719</td>\n",
       "      <td>21.89 s</td>\n",
       "      <td>20.59 s</td>\n",
       "    </tr>\n",
       "    <tr>\n",
       "      <th>GaussianNB</th>\n",
       "      <td>0.940631</td>\n",
       "      <td>0.98886</td>\n",
       "      <td>0.937954</td>\n",
       "      <td>0.952625</td>\n",
       "      <td>0.964143</td>\n",
       "      <td>0.937954</td>\n",
       "      <td>30.61 ms</td>\n",
       "      <td>32.18 ms</td>\n",
       "    </tr>\n",
       "    <tr>\n",
       "      <th>BernoulliNB</th>\n",
       "      <td>1.0</td>\n",
       "      <td>1.0</td>\n",
       "      <td>1.0</td>\n",
       "      <td>1.0</td>\n",
       "      <td>1.0</td>\n",
       "      <td>1.0</td>\n",
       "      <td>58.42 ms</td>\n",
       "      <td>31.12 ms</td>\n",
       "    </tr>\n",
       "    <tr>\n",
       "      <th>MultinomialNB</th>\n",
       "      <td>0.802601</td>\n",
       "      <td>0.922256</td>\n",
       "      <td>0.755874</td>\n",
       "      <td>0.803825</td>\n",
       "      <td>0.858278</td>\n",
       "      <td>0.755874</td>\n",
       "      <td>24.02 ms</td>\n",
       "      <td>17.97 ms</td>\n",
       "    </tr>\n",
       "    <tr>\n",
       "      <th>ComplementNB</th>\n",
       "      <td>0.80376</td>\n",
       "      <td>0.919345</td>\n",
       "      <td>0.756561</td>\n",
       "      <td>0.803475</td>\n",
       "      <td>0.857676</td>\n",
       "      <td>0.756561</td>\n",
       "      <td>24.70 ms</td>\n",
       "      <td>16.30 ms</td>\n",
       "    </tr>\n",
       "    <tr>\n",
       "      <th>DecisionTreeClassifier</th>\n",
       "      <td>1.0</td>\n",
       "      <td>1.0</td>\n",
       "      <td>1.0</td>\n",
       "      <td>1.0</td>\n",
       "      <td>1.0</td>\n",
       "      <td>1.0</td>\n",
       "      <td>61.32 ms</td>\n",
       "      <td>39.06 ms</td>\n",
       "    </tr>\n",
       "    <tr>\n",
       "      <th>ExtraTreeClassifier</th>\n",
       "      <td>0.999418</td>\n",
       "      <td>0.999961</td>\n",
       "      <td>0.999454</td>\n",
       "      <td>0.9996</td>\n",
       "      <td>0.99969</td>\n",
       "      <td>0.999454</td>\n",
       "      <td>35.61 ms</td>\n",
       "      <td>56.44 ms</td>\n",
       "    </tr>\n",
       "    <tr>\n",
       "      <th>GradientBoostingClassifier</th>\n",
       "      <td>1.0</td>\n",
       "      <td>1.0</td>\n",
       "      <td>1.0</td>\n",
       "      <td>1.0</td>\n",
       "      <td>1.0</td>\n",
       "      <td>1.0</td>\n",
       "      <td>6.52 s</td>\n",
       "      <td>5.56 s</td>\n",
       "    </tr>\n",
       "    <tr>\n",
       "      <th>ExtraTreesClassifier</th>\n",
       "      <td>1.0</td>\n",
       "      <td>1.0</td>\n",
       "      <td>1.0</td>\n",
       "      <td>1.0</td>\n",
       "      <td>1.0</td>\n",
       "      <td>1.0</td>\n",
       "      <td>301.64 ms</td>\n",
       "      <td>290.68 ms</td>\n",
       "    </tr>\n",
       "    <tr>\n",
       "      <th>BaggingClassifier</th>\n",
       "      <td>1.0</td>\n",
       "      <td>1.0</td>\n",
       "      <td>1.0</td>\n",
       "      <td>1.0</td>\n",
       "      <td>1.0</td>\n",
       "      <td>1.0</td>\n",
       "      <td>2.89 s</td>\n",
       "      <td>2.86 s</td>\n",
       "    </tr>\n",
       "    <tr>\n",
       "      <th>CatBoostClassifier</th>\n",
       "      <td>1.0</td>\n",
       "      <td>1.0</td>\n",
       "      <td>1.0</td>\n",
       "      <td>1.0</td>\n",
       "      <td>1.0</td>\n",
       "      <td>1.0</td>\n",
       "      <td>10.48 s</td>\n",
       "      <td>10.10 s</td>\n",
       "    </tr>\n",
       "    <tr>\n",
       "      <th>RandomForestClassifier</th>\n",
       "      <td>1.0</td>\n",
       "      <td>1.0</td>\n",
       "      <td>1.0</td>\n",
       "      <td>1.0</td>\n",
       "      <td>1.0</td>\n",
       "      <td>1.0</td>\n",
       "      <td>250.78 ms</td>\n",
       "      <td>236.84 ms</td>\n",
       "    </tr>\n",
       "    <tr>\n",
       "      <th>AdaBoostClassifier</th>\n",
       "      <td>1.0</td>\n",
       "      <td>1.0</td>\n",
       "      <td>1.0</td>\n",
       "      <td>1.0</td>\n",
       "      <td>1.0</td>\n",
       "      <td>1.0</td>\n",
       "      <td>99.92 ms</td>\n",
       "      <td>70.92 ms</td>\n",
       "    </tr>\n",
       "    <tr>\n",
       "      <th>HistGradientBoostingClassifier</th>\n",
       "      <td>1.0</td>\n",
       "      <td>1.0</td>\n",
       "      <td>1.0</td>\n",
       "      <td>1.0</td>\n",
       "      <td>1.0</td>\n",
       "      <td>1.0</td>\n",
       "      <td>918.80 ms</td>\n",
       "      <td>689.38 ms</td>\n",
       "    </tr>\n",
       "    <tr>\n",
       "      <th>LGBMClassifier</th>\n",
       "      <td>1.0</td>\n",
       "      <td>1.0</td>\n",
       "      <td>1.0</td>\n",
       "      <td>1.0</td>\n",
       "      <td>1.0</td>\n",
       "      <td>1.0</td>\n",
       "      <td>1.03 s</td>\n",
       "      <td>921.98 ms</td>\n",
       "    </tr>\n",
       "    <tr>\n",
       "      <th>XGBClassifier</th>\n",
       "      <td>1.0</td>\n",
       "      <td>1.0</td>\n",
       "      <td>1.0</td>\n",
       "      <td>1.0</td>\n",
       "      <td>1.0</td>\n",
       "      <td>1.0</td>\n",
       "      <td>1.54 s</td>\n",
       "      <td>1.45 s</td>\n",
       "    </tr>\n",
       "  </tbody>\n",
       "</table>\n",
       "</div>"
      ],
      "text/plain": [
       "                               precision    recall balanced_accuracy  \\\n",
       "LogisticRegression                   1.0       1.0               1.0   \n",
       "LogisticRegressionCV                 1.0       1.0               1.0   \n",
       "SGDClassifier                   0.917701  0.949581          0.897732   \n",
       "PassiveAggressiveClassifier      0.99058       1.0          0.991395   \n",
       "RidgeClassifier                 0.997908       1.0          0.998103   \n",
       "RidgeClassifierCV               0.998489       1.0           0.99863   \n",
       "Perceptron                      0.923643  0.846996          0.860137   \n",
       "LinearSVC                            1.0       1.0               1.0   \n",
       "NuSVC                           0.825166  0.991422           0.80563   \n",
       "SVC                             0.895641       1.0          0.894563   \n",
       "KNeighborsClassifier            0.950592  0.999922          0.952933   \n",
       "MLPClassifier                    0.99969       1.0          0.999719   \n",
       "GaussianNB                      0.940631   0.98886          0.937954   \n",
       "BernoulliNB                          1.0       1.0               1.0   \n",
       "MultinomialNB                   0.802601  0.922256          0.755874   \n",
       "ComplementNB                     0.80376  0.919345          0.756561   \n",
       "DecisionTreeClassifier               1.0       1.0               1.0   \n",
       "ExtraTreeClassifier             0.999418  0.999961          0.999454   \n",
       "GradientBoostingClassifier           1.0       1.0               1.0   \n",
       "ExtraTreesClassifier                 1.0       1.0               1.0   \n",
       "BaggingClassifier                    1.0       1.0               1.0   \n",
       "CatBoostClassifier                   1.0       1.0               1.0   \n",
       "RandomForestClassifier               1.0       1.0               1.0   \n",
       "AdaBoostClassifier                   1.0       1.0               1.0   \n",
       "HistGradientBoostingClassifier       1.0       1.0               1.0   \n",
       "LGBMClassifier                       1.0       1.0               1.0   \n",
       "XGBClassifier                        1.0       1.0               1.0   \n",
       "\n",
       "                                accuracy        f1   roc_auc       Time  \\\n",
       "LogisticRegression                   1.0       1.0       1.0     2.91 s   \n",
       "LogisticRegressionCV                 1.0       1.0       1.0     6.52 s   \n",
       "SGDClassifier                   0.912675  0.933369  0.897732  332.16 ms   \n",
       "PassiveAggressiveClassifier     0.993875  0.995268  0.991395  846.74 ms   \n",
       "RidgeClassifier                  0.99865  0.998953  0.998103   58.67 ms   \n",
       "RidgeClassifierCV               0.999025  0.999244   0.99863  634.87 ms   \n",
       "Perceptron                       0.85635  0.883661  0.860137  116.01 ms   \n",
       "LinearSVC                            1.0       1.0       1.0  793.51 ms   \n",
       "NuSVC                           0.859175  0.900686   0.80563    29.10 s   \n",
       "SVC                              0.92495  0.944948  0.894563    20.16 s   \n",
       "KNeighborsClassifier            0.966475  0.974634  0.952933  155.32 ms   \n",
       "MLPClassifier                     0.9998  0.999845  0.999719    21.89 s   \n",
       "GaussianNB                      0.952625  0.964143  0.937954   30.61 ms   \n",
       "BernoulliNB                          1.0       1.0       1.0   58.42 ms   \n",
       "MultinomialNB                   0.803825  0.858278  0.755874   24.02 ms   \n",
       "ComplementNB                    0.803475  0.857676  0.756561   24.70 ms   \n",
       "DecisionTreeClassifier               1.0       1.0       1.0   61.32 ms   \n",
       "ExtraTreeClassifier               0.9996   0.99969  0.999454   35.61 ms   \n",
       "GradientBoostingClassifier           1.0       1.0       1.0     6.52 s   \n",
       "ExtraTreesClassifier                 1.0       1.0       1.0  301.64 ms   \n",
       "BaggingClassifier                    1.0       1.0       1.0     2.89 s   \n",
       "CatBoostClassifier                   1.0       1.0       1.0    10.48 s   \n",
       "RandomForestClassifier               1.0       1.0       1.0  250.78 ms   \n",
       "AdaBoostClassifier                   1.0       1.0       1.0   99.92 ms   \n",
       "HistGradientBoostingClassifier       1.0       1.0       1.0  918.80 ms   \n",
       "LGBMClassifier                       1.0       1.0       1.0     1.03 s   \n",
       "XGBClassifier                        1.0       1.0       1.0     1.54 s   \n",
       "\n",
       "                               Time_acceleration  \n",
       "LogisticRegression                        2.91 s  \n",
       "LogisticRegressionCV                      7.58 s  \n",
       "SGDClassifier                          292.01 ms  \n",
       "PassiveAggressiveClassifier            902.67 ms  \n",
       "RidgeClassifier                         30.65 ms  \n",
       "RidgeClassifierCV                      600.81 ms  \n",
       "Perceptron                              99.54 ms  \n",
       "LinearSVC                              758.50 ms  \n",
       "NuSVC                                    30.66 s  \n",
       "SVC                                      18.87 s  \n",
       "KNeighborsClassifier                   150.59 ms  \n",
       "MLPClassifier                            20.59 s  \n",
       "GaussianNB                              32.18 ms  \n",
       "BernoulliNB                             31.12 ms  \n",
       "MultinomialNB                           17.97 ms  \n",
       "ComplementNB                            16.30 ms  \n",
       "DecisionTreeClassifier                  39.06 ms  \n",
       "ExtraTreeClassifier                     56.44 ms  \n",
       "GradientBoostingClassifier                5.56 s  \n",
       "ExtraTreesClassifier                   290.68 ms  \n",
       "BaggingClassifier                         2.86 s  \n",
       "CatBoostClassifier                       10.10 s  \n",
       "RandomForestClassifier                 236.84 ms  \n",
       "AdaBoostClassifier                      70.92 ms  \n",
       "HistGradientBoostingClassifier         689.38 ms  \n",
       "LGBMClassifier                         921.98 ms  \n",
       "XGBClassifier                             1.45 s  "
      ]
     },
     "execution_count": 12,
     "metadata": {},
     "output_type": "execute_result"
    }
   ],
   "source": [
    "combined = data_fit_no_acceleration\n",
    "combined['Time_acceleration'] = data_fit['Time']\n",
    "combined"
   ]
  },
  {
   "cell_type": "code",
   "execution_count": 13,
   "id": "519925b4",
   "metadata": {},
   "outputs": [
    {
     "name": "stdout",
     "output_type": "stream",
     "text": [
      "Total Time Used: 284689.04 seconds\n",
      "Total Time Acceleration: 314358.98 seconds\n"
     ]
    }
   ],
   "source": [
    "import re\n",
    "\n",
    "def convert_to_seconds(x):\n",
    "    \"\"\"\n",
    "    Convert a formatted time string (e.g., '1 hr 30 m 20.50 s') back to seconds.\n",
    "    Supports hours (hr), minutes (m), seconds (s), milliseconds (ms), and microseconds (µs).\n",
    "    \"\"\"\n",
    "    total_seconds = 0.0\n",
    "    # Extract number-unit pairs from the string\n",
    "    pattern = r'([\\d\\.]+)\\s*(hr|m|s|ms|µs)'\n",
    "    matches = re.findall(pattern, x)\n",
    "    \n",
    "    if not matches:\n",
    "        raise ValueError(f\"Could not parse time string: {x}\")\n",
    "    \n",
    "    for value_str, unit in matches:\n",
    "        value = float(value_str)\n",
    "        unit = unit.lower()\n",
    "        if unit == 'hr':\n",
    "            total_seconds += value * 3600  # Convert hours to seconds\n",
    "        elif unit == 'm':\n",
    "            total_seconds += value * 60  # Convert minutes to seconds\n",
    "        elif unit == 's':\n",
    "            total_seconds += value  # Already in seconds\n",
    "        elif unit == 'ms':\n",
    "            total_seconds += value / 1000  # Convert milliseconds to seconds\n",
    "        elif unit == 'µs':\n",
    "            total_seconds += value / 1000000  # Convert microseconds to seconds\n",
    "        else:\n",
    "            raise ValueError(f\"Unknown time unit: {unit}\")\n",
    "    \n",
    "    return total_seconds\n",
    "\n",
    "combined['Time'] = combined['Time'].apply(convert_to_seconds)\n",
    "combined['Time_acceleration'] = combined['Time_acceleration'].apply(convert_to_seconds)\n",
    "\n",
    "# Compute total elapsed time\n",
    "total_time = sum(combined['Time'])\n",
    "total_time_acceleration = sum(combined['Time_acceleration'])\n",
    "\n",
    "print(f\"Total Time Used: {total_time:.2f} seconds\")\n",
    "print(f\"Total Time Acceleration: {total_time_acceleration:.2f} seconds\")\n"
   ]
  },
  {
   "cell_type": "code",
   "execution_count": null,
   "id": "00ac27a6",
   "metadata": {},
   "outputs": [],
   "source": []
  },
  {
   "cell_type": "code",
   "execution_count": null,
   "id": "d2856a11",
   "metadata": {},
   "outputs": [],
   "source": []
  }
 ],
 "metadata": {
  "kernelspec": {
   "display_name": ".venv",
   "language": "python",
   "name": "python3"
  },
  "language_info": {
   "codemirror_mode": {
    "name": "ipython",
    "version": 3
   },
   "file_extension": ".py",
   "mimetype": "text/x-python",
   "name": "python",
   "nbconvert_exporter": "python",
   "pygments_lexer": "ipython3",
   "version": "3.10.11"
  }
 },
 "nbformat": 4,
 "nbformat_minor": 5
}
