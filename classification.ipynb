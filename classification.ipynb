{
 "cells": [
  {
   "cell_type": "code",
   "execution_count": null,
   "id": "edd187fa-da67-4c30-92c4-0a2e261f67ef",
   "metadata": {},
   "outputs": [],
   "source": [
    "from MultiTrain import MultiClassifier\n",
    "import MultiTrain\n",
    "import pandas as pd \n",
    "\n",
    "print(MultiTrain.__version__)\n",
    "\n",
    "df = pd.read_csv('examples/datasets/synthetic_beverage_sales_data.csv').head(1000)\n",
    "\n",
    "train = MultiClassifier(max_iter=1000, use_gpu=True)"
   ]
  },
  {
   "cell_type": "code",
   "execution_count": null,
   "id": "7ee16372",
   "metadata": {},
   "outputs": [],
   "source": [
    "dataset_splits = train.split(data=df, \n",
    "                             target='Customer_Type',\n",
    "                             manual_encode={'label': ['Product', 'Category', 'Region', 'Customer_Type']},\n",
    "                             drop=['Order_ID', 'Customer_ID', 'Order_Date'])\n",
    "\n",
    "data_fit_no_acceleration = train.fit(datasplits=dataset_splits, pca='PowerTransformer'\n",
    "                     )\n",
    "data_fit_no_acceleration"
   ]
  },
  {
   "cell_type": "code",
   "execution_count": null,
   "id": "c04d103c",
   "metadata": {},
   "outputs": [],
   "source": [
    "sorted_ = {\n",
    "        \"classification\": {\n",
    "            \"accuracy\": \"accuracy\",\n",
    "            \"precision\": \"precision\", \n",
    "            \"recall\": \"recall\",\n",
    "            \"f1\": \"f1\",\n",
    "            \"roc_auc\": \"roc_auc\",\n",
    "            \"balanced_accuracy\": \"balanced_accuracy\",\n",
    "        },\n",
    "        \"regression\": {\n",
    "            \"mean_squared_error\": \"mean_squared_error\",\n",
    "            \"r2_score\": \"r2_score\", \n",
    "            \"mean_absolute_error\": \"mean_absolute_error\",\n",
    "            \"median_absolute_error\": \"median_absolute_error\",\n",
    "            \"mean_squared_log_error\": \"mean_squared_log_error\",\n",
    "            \"explained_variance_score\": \"explained_variance_score\",\n",
    "        },\n",
    "    }\n",
    "\n",
    "'classification' in sorted_.keys()"
   ]
  },
  {
   "cell_type": "code",
   "execution_count": 2,
   "id": "e287b48c",
   "metadata": {},
   "outputs": [
    {
     "name": "stdout",
     "output_type": "stream",
     "text": [
      "[2.0, 4.0, 6.782329983125268]\n"
     ]
    }
   ],
   "source": [
    "k = [4, 16, 46]\n",
    "import numpy as np\n",
    "print(list(np.sqrt(k)))"
   ]
  },
  {
   "cell_type": "code",
   "execution_count": null,
   "id": "5fb90cbd",
   "metadata": {},
   "outputs": [],
   "source": []
  }
 ],
 "metadata": {
  "kernelspec": {
   "display_name": "MultiTrainVenv",
   "language": "python",
   "name": "python3"
  },
  "language_info": {
   "codemirror_mode": {
    "name": "ipython",
    "version": 3
   },
   "file_extension": ".py",
   "mimetype": "text/x-python",
   "name": "python",
   "nbconvert_exporter": "python",
   "pygments_lexer": "ipython3",
   "version": "3.10.11"
  }
 },
 "nbformat": 4,
 "nbformat_minor": 5
}
