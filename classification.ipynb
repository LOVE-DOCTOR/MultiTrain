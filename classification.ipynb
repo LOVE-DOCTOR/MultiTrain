{
 "cells": [
  {
   "cell_type": "code",
   "execution_count": 1,
   "id": "edd187fa-da67-4c30-92c4-0a2e261f67ef",
   "metadata": {},
   "outputs": [],
   "source": [
    "from MultiTrain.classification.classification_models import MultiClassifier\n",
    "\n",
    "import pandas as pd # type: ignore"
   ]
  },
  {
   "cell_type": "code",
   "execution_count": 2,
   "id": "fec8bb3f-74e6-4bfa-9897-f09a7de303ae",
   "metadata": {},
   "outputs": [],
   "source": [
    "df = pd.read_csv('examples/datasets/train.csv')"
   ]
  },
  {
   "cell_type": "code",
   "execution_count": null,
   "id": "87cb8b8f",
   "metadata": {},
   "outputs": [],
   "source": []
  },
  {
   "cell_type": "code",
   "execution_count": 3,
   "id": "e4ada8d3",
   "metadata": {},
   "outputs": [
    {
     "name": "stdout",
     "output_type": "stream",
     "text": [
      "891\n"
     ]
    }
   ],
   "source": [
    "train = MultiClassifier()\n",
    "dataset_splits = train.split(data=df, \n",
    "                             target='Survived',\n",
    "                             manual_encode={'label': ['Sex', 'Embarked'],\n",
    "                                            'onehot': ['Ticket', 'Cabin']},\n",
    "                             drop=['PassengerId', 'Name'],\n",
    "                             fix_nan_custom={'Age': 'bfill', \n",
    "                                             'Embarked': 'ffill',\n",
    "                                             'Cabin': 'ffill'},)"
   ]
  },
  {
   "cell_type": "code",
   "execution_count": 4,
   "id": "7670fa71",
   "metadata": {},
   "outputs": [
    {
     "data": {
      "application/vnd.jupyter.widget-view+json": {
       "model_id": "ab48f96268fa4eb883d013d58a8ab61e",
       "version_major": 2,
       "version_minor": 0
      },
      "text/plain": [
       "Training Models:   0%|           | 0/27 [00:00<?, ?it/s]"
      ]
     },
     "metadata": {},
     "output_type": "display_data"
    },
    {
     "data": {
      "application/vnd.jupyter.widget-view+json": {
       "model_id": "2aeb50d928374aeda2bfbe8ee1420e00",
       "version_major": 2,
       "version_minor": 0
      },
      "text/plain": [
       "Evaluating LogisticRegression:   0%|          | 0/6 [00:00<?, ?it/s]"
      ]
     },
     "metadata": {},
     "output_type": "display_data"
    },
    {
     "data": {
      "application/vnd.jupyter.widget-view+json": {
       "model_id": "f1fc3e8b86df47cb8f03f96f8ea9ae74",
       "version_major": 2,
       "version_minor": 0
      },
      "text/plain": [
       "Evaluating LogisticRegressionCV:   0%|          | 0/6 [00:00<?, ?it/s]"
      ]
     },
     "metadata": {},
     "output_type": "display_data"
    },
    {
     "data": {
      "application/vnd.jupyter.widget-view+json": {
       "model_id": "53b0be31093d4b04aac89e2c155f714e",
       "version_major": 2,
       "version_minor": 0
      },
      "text/plain": [
       "Evaluating SGDClassifier:   0%|          | 0/6 [00:00<?, ?it/s]"
      ]
     },
     "metadata": {},
     "output_type": "display_data"
    },
    {
     "data": {
      "application/vnd.jupyter.widget-view+json": {
       "model_id": "769e45e6d92d4ac38183e160dcf688bf",
       "version_major": 2,
       "version_minor": 0
      },
      "text/plain": [
       "Evaluating PassiveAggressiveClassifier:   0%|          | 0/6 [00:00<?, ?it/s]"
      ]
     },
     "metadata": {},
     "output_type": "display_data"
    },
    {
     "data": {
      "application/vnd.jupyter.widget-view+json": {
       "model_id": "8232fa81dabd4d3cae15c41554d333f8",
       "version_major": 2,
       "version_minor": 0
      },
      "text/plain": [
       "Evaluating RidgeClassifier:   0%|          | 0/6 [00:00<?, ?it/s]"
      ]
     },
     "metadata": {},
     "output_type": "display_data"
    },
    {
     "data": {
      "application/vnd.jupyter.widget-view+json": {
       "model_id": "cfb49aedbfcb40709bff7008be0a6b88",
       "version_major": 2,
       "version_minor": 0
      },
      "text/plain": [
       "Evaluating RidgeClassifierCV:   0%|          | 0/6 [00:00<?, ?it/s]"
      ]
     },
     "metadata": {},
     "output_type": "display_data"
    },
    {
     "data": {
      "application/vnd.jupyter.widget-view+json": {
       "model_id": "e440174b4bf84245be5cc55894d2e63b",
       "version_major": 2,
       "version_minor": 0
      },
      "text/plain": [
       "Evaluating Perceptron:   0%|          | 0/6 [00:00<?, ?it/s]"
      ]
     },
     "metadata": {},
     "output_type": "display_data"
    },
    {
     "name": "stderr",
     "output_type": "stream",
     "text": [
      "c:\\Users\\admin\\Documents\\BIG PERSONAL PROJECTS\\MultiTrain\\.venv\\lib\\site-packages\\sklearn\\metrics\\_classification.py:1565: UndefinedMetricWarning: Precision is ill-defined and being set to 0.0 due to no predicted samples. Use `zero_division` parameter to control this behavior.\n",
      "  _warn_prf(average, modifier, f\"{metric.capitalize()} is\", len(result))\n"
     ]
    },
    {
     "data": {
      "application/vnd.jupyter.widget-view+json": {
       "model_id": "b98307e20501422abd73c2ab7d278c7b",
       "version_major": 2,
       "version_minor": 0
      },
      "text/plain": [
       "Evaluating LinearSVC:   0%|          | 0/6 [00:00<?, ?it/s]"
      ]
     },
     "metadata": {},
     "output_type": "display_data"
    },
    {
     "data": {
      "application/vnd.jupyter.widget-view+json": {
       "model_id": "ae3f8ce6b3214c0a8b39e7db649e35db",
       "version_major": 2,
       "version_minor": 0
      },
      "text/plain": [
       "Evaluating NuSVC:   0%|          | 0/6 [00:00<?, ?it/s]"
      ]
     },
     "metadata": {},
     "output_type": "display_data"
    },
    {
     "data": {
      "application/vnd.jupyter.widget-view+json": {
       "model_id": "e72dc3abd87946229577517a7146e231",
       "version_major": 2,
       "version_minor": 0
      },
      "text/plain": [
       "Evaluating SVC:   0%|          | 0/6 [00:00<?, ?it/s]"
      ]
     },
     "metadata": {},
     "output_type": "display_data"
    },
    {
     "data": {
      "application/vnd.jupyter.widget-view+json": {
       "model_id": "82e2d9e70f5a438e8433b00351d9cf0c",
       "version_major": 2,
       "version_minor": 0
      },
      "text/plain": [
       "Evaluating KNeighborsClassifier:   0%|          | 0/6 [00:00<?, ?it/s]"
      ]
     },
     "metadata": {},
     "output_type": "display_data"
    },
    {
     "data": {
      "application/vnd.jupyter.widget-view+json": {
       "model_id": "d6827fe5e40142b996661b1a7fb9927a",
       "version_major": 2,
       "version_minor": 0
      },
      "text/plain": [
       "Evaluating MLPClassifier:   0%|          | 0/6 [00:00<?, ?it/s]"
      ]
     },
     "metadata": {},
     "output_type": "display_data"
    },
    {
     "data": {
      "application/vnd.jupyter.widget-view+json": {
       "model_id": "8162dca043a543b89e2c3fc6c76af178",
       "version_major": 2,
       "version_minor": 0
      },
      "text/plain": [
       "Evaluating GaussianNB:   0%|          | 0/6 [00:00<?, ?it/s]"
      ]
     },
     "metadata": {},
     "output_type": "display_data"
    },
    {
     "data": {
      "application/vnd.jupyter.widget-view+json": {
       "model_id": "50fd3c5997c44761a1a891a88690ec16",
       "version_major": 2,
       "version_minor": 0
      },
      "text/plain": [
       "Evaluating BernoulliNB:   0%|          | 0/6 [00:00<?, ?it/s]"
      ]
     },
     "metadata": {},
     "output_type": "display_data"
    },
    {
     "data": {
      "application/vnd.jupyter.widget-view+json": {
       "model_id": "7e0e6b8093064a2d896a25223df22590",
       "version_major": 2,
       "version_minor": 0
      },
      "text/plain": [
       "Evaluating MultinomialNB:   0%|          | 0/6 [00:00<?, ?it/s]"
      ]
     },
     "metadata": {},
     "output_type": "display_data"
    },
    {
     "data": {
      "application/vnd.jupyter.widget-view+json": {
       "model_id": "7acf9caff63349ed897677e0be387a35",
       "version_major": 2,
       "version_minor": 0
      },
      "text/plain": [
       "Evaluating ComplementNB:   0%|          | 0/6 [00:00<?, ?it/s]"
      ]
     },
     "metadata": {},
     "output_type": "display_data"
    },
    {
     "data": {
      "application/vnd.jupyter.widget-view+json": {
       "model_id": "82a10e536e7f41149357e41fa1ecd485",
       "version_major": 2,
       "version_minor": 0
      },
      "text/plain": [
       "Evaluating DecisionTreeClassifier:   0%|          | 0/6 [00:00<?, ?it/s]"
      ]
     },
     "metadata": {},
     "output_type": "display_data"
    },
    {
     "data": {
      "application/vnd.jupyter.widget-view+json": {
       "model_id": "bece1de74ed44993b8a1c761067281dc",
       "version_major": 2,
       "version_minor": 0
      },
      "text/plain": [
       "Evaluating ExtraTreeClassifier:   0%|          | 0/6 [00:00<?, ?it/s]"
      ]
     },
     "metadata": {},
     "output_type": "display_data"
    },
    {
     "data": {
      "application/vnd.jupyter.widget-view+json": {
       "model_id": "18fff29109c74e19a719aac39aefe192",
       "version_major": 2,
       "version_minor": 0
      },
      "text/plain": [
       "Evaluating GradientBoostingClassifier:   0%|          | 0/6 [00:00<?, ?it/s]"
      ]
     },
     "metadata": {},
     "output_type": "display_data"
    },
    {
     "data": {
      "application/vnd.jupyter.widget-view+json": {
       "model_id": "b0ea6c631fc842bcb728af9aa741e098",
       "version_major": 2,
       "version_minor": 0
      },
      "text/plain": [
       "Evaluating ExtraTreesClassifier:   0%|          | 0/6 [00:00<?, ?it/s]"
      ]
     },
     "metadata": {},
     "output_type": "display_data"
    },
    {
     "data": {
      "application/vnd.jupyter.widget-view+json": {
       "model_id": "a62569e1d2a3495a8ba4282ab3a6cbc0",
       "version_major": 2,
       "version_minor": 0
      },
      "text/plain": [
       "Evaluating BaggingClassifier:   0%|          | 0/6 [00:00<?, ?it/s]"
      ]
     },
     "metadata": {},
     "output_type": "display_data"
    },
    {
     "data": {
      "application/vnd.jupyter.widget-view+json": {
       "model_id": "1de94e4b28d14bedbd3665d591606632",
       "version_major": 2,
       "version_minor": 0
      },
      "text/plain": [
       "Evaluating CatBoostClassifier:   0%|          | 0/6 [00:00<?, ?it/s]"
      ]
     },
     "metadata": {},
     "output_type": "display_data"
    },
    {
     "data": {
      "application/vnd.jupyter.widget-view+json": {
       "model_id": "234ca5b4d2b648a8866c23f79a9fd1e8",
       "version_major": 2,
       "version_minor": 0
      },
      "text/plain": [
       "Evaluating RandomForestClassifier:   0%|          | 0/6 [00:00<?, ?it/s]"
      ]
     },
     "metadata": {},
     "output_type": "display_data"
    },
    {
     "data": {
      "application/vnd.jupyter.widget-view+json": {
       "model_id": "412f020a9fcf47cfafef8e241fc4d06c",
       "version_major": 2,
       "version_minor": 0
      },
      "text/plain": [
       "Evaluating AdaBoostClassifier:   0%|          | 0/6 [00:00<?, ?it/s]"
      ]
     },
     "metadata": {},
     "output_type": "display_data"
    },
    {
     "data": {
      "application/vnd.jupyter.widget-view+json": {
       "model_id": "38f340d700a64fa4a0d4e6c8825136af",
       "version_major": 2,
       "version_minor": 0
      },
      "text/plain": [
       "Evaluating HistGradientBoostingClassifier:   0%|          | 0/6 [00:00<?, ?it/s]"
      ]
     },
     "metadata": {},
     "output_type": "display_data"
    },
    {
     "data": {
      "application/vnd.jupyter.widget-view+json": {
       "model_id": "a930c397dcfa43e1a81fed66b7c5bac7",
       "version_major": 2,
       "version_minor": 0
      },
      "text/plain": [
       "Evaluating LGBMClassifier:   0%|          | 0/6 [00:00<?, ?it/s]"
      ]
     },
     "metadata": {},
     "output_type": "display_data"
    },
    {
     "data": {
      "application/vnd.jupyter.widget-view+json": {
       "model_id": "247e4be3bc23429b94de8802eb25f1f9",
       "version_major": 2,
       "version_minor": 0
      },
      "text/plain": [
       "Evaluating XGBClassifier:   0%|          | 0/6 [00:00<?, ?it/s]"
      ]
     },
     "metadata": {},
     "output_type": "display_data"
    }
   ],
   "source": [
    "data_fit = train.fit(datasplits=dataset_splits,\n",
    "                     )"
   ]
  },
  {
   "cell_type": "code",
   "execution_count": 5,
   "id": "abbd5718",
   "metadata": {},
   "outputs": [
    {
     "data": {
      "text/html": [
       "<div>\n",
       "<style scoped>\n",
       "    .dataframe tbody tr th:only-of-type {\n",
       "        vertical-align: middle;\n",
       "    }\n",
       "\n",
       "    .dataframe tbody tr th {\n",
       "        vertical-align: top;\n",
       "    }\n",
       "\n",
       "    .dataframe thead th {\n",
       "        text-align: right;\n",
       "    }\n",
       "</style>\n",
       "<table border=\"1\" class=\"dataframe\">\n",
       "  <thead>\n",
       "    <tr style=\"text-align: right;\">\n",
       "      <th></th>\n",
       "      <th>precision</th>\n",
       "      <th>recall</th>\n",
       "      <th>balanced_accuracy</th>\n",
       "      <th>accuracy</th>\n",
       "      <th>f1</th>\n",
       "      <th>roc_auc</th>\n",
       "      <th>Time(s)</th>\n",
       "    </tr>\n",
       "  </thead>\n",
       "  <tbody>\n",
       "    <tr>\n",
       "      <th>LogisticRegression</th>\n",
       "      <td>0.811594</td>\n",
       "      <td>0.756757</td>\n",
       "      <td>0.816474</td>\n",
       "      <td>0.826816</td>\n",
       "      <td>0.783217</td>\n",
       "      <td>0.816474</td>\n",
       "      <td>1.596501</td>\n",
       "    </tr>\n",
       "    <tr>\n",
       "      <th>LogisticRegressionCV</th>\n",
       "      <td>0.805556</td>\n",
       "      <td>0.783784</td>\n",
       "      <td>0.825225</td>\n",
       "      <td>0.832402</td>\n",
       "      <td>0.794521</td>\n",
       "      <td>0.825225</td>\n",
       "      <td>2.552506</td>\n",
       "    </tr>\n",
       "    <tr>\n",
       "      <th>SGDClassifier</th>\n",
       "      <td>0.666667</td>\n",
       "      <td>0.108108</td>\n",
       "      <td>0.535006</td>\n",
       "      <td>0.608939</td>\n",
       "      <td>0.186047</td>\n",
       "      <td>0.535006</td>\n",
       "      <td>0.018327</td>\n",
       "    </tr>\n",
       "    <tr>\n",
       "      <th>PassiveAggressiveClassifier</th>\n",
       "      <td>0.840909</td>\n",
       "      <td>0.500000</td>\n",
       "      <td>0.716667</td>\n",
       "      <td>0.754190</td>\n",
       "      <td>0.627119</td>\n",
       "      <td>0.716667</td>\n",
       "      <td>0.037131</td>\n",
       "    </tr>\n",
       "    <tr>\n",
       "      <th>RidgeClassifier</th>\n",
       "      <td>0.797101</td>\n",
       "      <td>0.743243</td>\n",
       "      <td>0.804955</td>\n",
       "      <td>0.815642</td>\n",
       "      <td>0.769231</td>\n",
       "      <td>0.804955</td>\n",
       "      <td>0.037451</td>\n",
       "    </tr>\n",
       "    <tr>\n",
       "      <th>RidgeClassifierCV</th>\n",
       "      <td>0.797101</td>\n",
       "      <td>0.743243</td>\n",
       "      <td>0.804955</td>\n",
       "      <td>0.815642</td>\n",
       "      <td>0.769231</td>\n",
       "      <td>0.804955</td>\n",
       "      <td>0.329877</td>\n",
       "    </tr>\n",
       "    <tr>\n",
       "      <th>Perceptron</th>\n",
       "      <td>0.000000</td>\n",
       "      <td>0.000000</td>\n",
       "      <td>0.500000</td>\n",
       "      <td>0.586592</td>\n",
       "      <td>0.000000</td>\n",
       "      <td>0.500000</td>\n",
       "      <td>0.018105</td>\n",
       "    </tr>\n",
       "    <tr>\n",
       "      <th>LinearSVC</th>\n",
       "      <td>0.909091</td>\n",
       "      <td>0.540541</td>\n",
       "      <td>0.751223</td>\n",
       "      <td>0.787709</td>\n",
       "      <td>0.677966</td>\n",
       "      <td>0.751223</td>\n",
       "      <td>0.025035</td>\n",
       "    </tr>\n",
       "    <tr>\n",
       "      <th>NuSVC</th>\n",
       "      <td>0.753846</td>\n",
       "      <td>0.662162</td>\n",
       "      <td>0.754891</td>\n",
       "      <td>0.770950</td>\n",
       "      <td>0.705036</td>\n",
       "      <td>0.754891</td>\n",
       "      <td>0.095469</td>\n",
       "    </tr>\n",
       "    <tr>\n",
       "      <th>SVC</th>\n",
       "      <td>0.750000</td>\n",
       "      <td>0.243243</td>\n",
       "      <td>0.593050</td>\n",
       "      <td>0.653631</td>\n",
       "      <td>0.367347</td>\n",
       "      <td>0.593050</td>\n",
       "      <td>0.106916</td>\n",
       "    </tr>\n",
       "    <tr>\n",
       "      <th>KNeighborsClassifier</th>\n",
       "      <td>0.650000</td>\n",
       "      <td>0.527027</td>\n",
       "      <td>0.663514</td>\n",
       "      <td>0.687151</td>\n",
       "      <td>0.582090</td>\n",
       "      <td>0.663514</td>\n",
       "      <td>0.191005</td>\n",
       "    </tr>\n",
       "    <tr>\n",
       "      <th>MLPClassifier</th>\n",
       "      <td>0.757576</td>\n",
       "      <td>0.675676</td>\n",
       "      <td>0.761647</td>\n",
       "      <td>0.776536</td>\n",
       "      <td>0.714286</td>\n",
       "      <td>0.761647</td>\n",
       "      <td>4.342123</td>\n",
       "    </tr>\n",
       "    <tr>\n",
       "      <th>GaussianNB</th>\n",
       "      <td>0.447761</td>\n",
       "      <td>0.810811</td>\n",
       "      <td>0.553024</td>\n",
       "      <td>0.508380</td>\n",
       "      <td>0.576923</td>\n",
       "      <td>0.553024</td>\n",
       "      <td>0.020075</td>\n",
       "    </tr>\n",
       "    <tr>\n",
       "      <th>BernoulliNB</th>\n",
       "      <td>0.804348</td>\n",
       "      <td>0.500000</td>\n",
       "      <td>0.707143</td>\n",
       "      <td>0.743017</td>\n",
       "      <td>0.616667</td>\n",
       "      <td>0.707143</td>\n",
       "      <td>0.017581</td>\n",
       "    </tr>\n",
       "    <tr>\n",
       "      <th>MultinomialNB</th>\n",
       "      <td>0.755102</td>\n",
       "      <td>0.500000</td>\n",
       "      <td>0.692857</td>\n",
       "      <td>0.726257</td>\n",
       "      <td>0.601626</td>\n",
       "      <td>0.692857</td>\n",
       "      <td>0.012705</td>\n",
       "    </tr>\n",
       "    <tr>\n",
       "      <th>ComplementNB</th>\n",
       "      <td>0.750000</td>\n",
       "      <td>0.527027</td>\n",
       "      <td>0.701609</td>\n",
       "      <td>0.731844</td>\n",
       "      <td>0.619048</td>\n",
       "      <td>0.701609</td>\n",
       "      <td>0.010000</td>\n",
       "    </tr>\n",
       "    <tr>\n",
       "      <th>DecisionTreeClassifier</th>\n",
       "      <td>0.800000</td>\n",
       "      <td>0.648649</td>\n",
       "      <td>0.767181</td>\n",
       "      <td>0.787709</td>\n",
       "      <td>0.716418</td>\n",
       "      <td>0.767181</td>\n",
       "      <td>0.033259</td>\n",
       "    </tr>\n",
       "    <tr>\n",
       "      <th>ExtraTreeClassifier</th>\n",
       "      <td>0.738462</td>\n",
       "      <td>0.648649</td>\n",
       "      <td>0.743372</td>\n",
       "      <td>0.759777</td>\n",
       "      <td>0.690647</td>\n",
       "      <td>0.743372</td>\n",
       "      <td>0.009037</td>\n",
       "    </tr>\n",
       "    <tr>\n",
       "      <th>GradientBoostingClassifier</th>\n",
       "      <td>0.800000</td>\n",
       "      <td>0.648649</td>\n",
       "      <td>0.767181</td>\n",
       "      <td>0.787709</td>\n",
       "      <td>0.716418</td>\n",
       "      <td>0.767181</td>\n",
       "      <td>0.487014</td>\n",
       "    </tr>\n",
       "    <tr>\n",
       "      <th>ExtraTreesClassifier</th>\n",
       "      <td>0.830508</td>\n",
       "      <td>0.662162</td>\n",
       "      <td>0.783462</td>\n",
       "      <td>0.804469</td>\n",
       "      <td>0.736842</td>\n",
       "      <td>0.783462</td>\n",
       "      <td>0.154500</td>\n",
       "    </tr>\n",
       "    <tr>\n",
       "      <th>BaggingClassifier</th>\n",
       "      <td>0.810345</td>\n",
       "      <td>0.635135</td>\n",
       "      <td>0.765187</td>\n",
       "      <td>0.787709</td>\n",
       "      <td>0.712121</td>\n",
       "      <td>0.765187</td>\n",
       "      <td>2.179458</td>\n",
       "    </tr>\n",
       "    <tr>\n",
       "      <th>CatBoostClassifier</th>\n",
       "      <td>0.825397</td>\n",
       "      <td>0.702703</td>\n",
       "      <td>0.798970</td>\n",
       "      <td>0.815642</td>\n",
       "      <td>0.759124</td>\n",
       "      <td>0.798970</td>\n",
       "      <td>2.890932</td>\n",
       "    </tr>\n",
       "    <tr>\n",
       "      <th>RandomForestClassifier</th>\n",
       "      <td>0.857143</td>\n",
       "      <td>0.648649</td>\n",
       "      <td>0.786229</td>\n",
       "      <td>0.810056</td>\n",
       "      <td>0.738462</td>\n",
       "      <td>0.786229</td>\n",
       "      <td>0.175645</td>\n",
       "    </tr>\n",
       "    <tr>\n",
       "      <th>AdaBoostClassifier</th>\n",
       "      <td>0.777778</td>\n",
       "      <td>0.756757</td>\n",
       "      <td>0.802188</td>\n",
       "      <td>0.810056</td>\n",
       "      <td>0.767123</td>\n",
       "      <td>0.802188</td>\n",
       "      <td>5.151393</td>\n",
       "    </tr>\n",
       "    <tr>\n",
       "      <th>HistGradientBoostingClassifier</th>\n",
       "      <td>0.756410</td>\n",
       "      <td>0.797297</td>\n",
       "      <td>0.808172</td>\n",
       "      <td>0.810056</td>\n",
       "      <td>0.776316</td>\n",
       "      <td>0.808172</td>\n",
       "      <td>22.990333</td>\n",
       "    </tr>\n",
       "    <tr>\n",
       "      <th>LGBMClassifier</th>\n",
       "      <td>0.717949</td>\n",
       "      <td>0.756757</td>\n",
       "      <td>0.773616</td>\n",
       "      <td>0.776536</td>\n",
       "      <td>0.736842</td>\n",
       "      <td>0.773616</td>\n",
       "      <td>1.508967</td>\n",
       "    </tr>\n",
       "    <tr>\n",
       "      <th>XGBClassifier</th>\n",
       "      <td>0.700000</td>\n",
       "      <td>0.756757</td>\n",
       "      <td>0.764093</td>\n",
       "      <td>0.765363</td>\n",
       "      <td>0.727273</td>\n",
       "      <td>0.764093</td>\n",
       "      <td>3.657404</td>\n",
       "    </tr>\n",
       "  </tbody>\n",
       "</table>\n",
       "</div>"
      ],
      "text/plain": [
       "                                precision    recall  balanced_accuracy  \\\n",
       "LogisticRegression               0.811594  0.756757           0.816474   \n",
       "LogisticRegressionCV             0.805556  0.783784           0.825225   \n",
       "SGDClassifier                    0.666667  0.108108           0.535006   \n",
       "PassiveAggressiveClassifier      0.840909  0.500000           0.716667   \n",
       "RidgeClassifier                  0.797101  0.743243           0.804955   \n",
       "RidgeClassifierCV                0.797101  0.743243           0.804955   \n",
       "Perceptron                       0.000000  0.000000           0.500000   \n",
       "LinearSVC                        0.909091  0.540541           0.751223   \n",
       "NuSVC                            0.753846  0.662162           0.754891   \n",
       "SVC                              0.750000  0.243243           0.593050   \n",
       "KNeighborsClassifier             0.650000  0.527027           0.663514   \n",
       "MLPClassifier                    0.757576  0.675676           0.761647   \n",
       "GaussianNB                       0.447761  0.810811           0.553024   \n",
       "BernoulliNB                      0.804348  0.500000           0.707143   \n",
       "MultinomialNB                    0.755102  0.500000           0.692857   \n",
       "ComplementNB                     0.750000  0.527027           0.701609   \n",
       "DecisionTreeClassifier           0.800000  0.648649           0.767181   \n",
       "ExtraTreeClassifier              0.738462  0.648649           0.743372   \n",
       "GradientBoostingClassifier       0.800000  0.648649           0.767181   \n",
       "ExtraTreesClassifier             0.830508  0.662162           0.783462   \n",
       "BaggingClassifier                0.810345  0.635135           0.765187   \n",
       "CatBoostClassifier               0.825397  0.702703           0.798970   \n",
       "RandomForestClassifier           0.857143  0.648649           0.786229   \n",
       "AdaBoostClassifier               0.777778  0.756757           0.802188   \n",
       "HistGradientBoostingClassifier   0.756410  0.797297           0.808172   \n",
       "LGBMClassifier                   0.717949  0.756757           0.773616   \n",
       "XGBClassifier                    0.700000  0.756757           0.764093   \n",
       "\n",
       "                                accuracy        f1   roc_auc    Time(s)  \n",
       "LogisticRegression              0.826816  0.783217  0.816474   1.596501  \n",
       "LogisticRegressionCV            0.832402  0.794521  0.825225   2.552506  \n",
       "SGDClassifier                   0.608939  0.186047  0.535006   0.018327  \n",
       "PassiveAggressiveClassifier     0.754190  0.627119  0.716667   0.037131  \n",
       "RidgeClassifier                 0.815642  0.769231  0.804955   0.037451  \n",
       "RidgeClassifierCV               0.815642  0.769231  0.804955   0.329877  \n",
       "Perceptron                      0.586592  0.000000  0.500000   0.018105  \n",
       "LinearSVC                       0.787709  0.677966  0.751223   0.025035  \n",
       "NuSVC                           0.770950  0.705036  0.754891   0.095469  \n",
       "SVC                             0.653631  0.367347  0.593050   0.106916  \n",
       "KNeighborsClassifier            0.687151  0.582090  0.663514   0.191005  \n",
       "MLPClassifier                   0.776536  0.714286  0.761647   4.342123  \n",
       "GaussianNB                      0.508380  0.576923  0.553024   0.020075  \n",
       "BernoulliNB                     0.743017  0.616667  0.707143   0.017581  \n",
       "MultinomialNB                   0.726257  0.601626  0.692857   0.012705  \n",
       "ComplementNB                    0.731844  0.619048  0.701609   0.010000  \n",
       "DecisionTreeClassifier          0.787709  0.716418  0.767181   0.033259  \n",
       "ExtraTreeClassifier             0.759777  0.690647  0.743372   0.009037  \n",
       "GradientBoostingClassifier      0.787709  0.716418  0.767181   0.487014  \n",
       "ExtraTreesClassifier            0.804469  0.736842  0.783462   0.154500  \n",
       "BaggingClassifier               0.787709  0.712121  0.765187   2.179458  \n",
       "CatBoostClassifier              0.815642  0.759124  0.798970   2.890932  \n",
       "RandomForestClassifier          0.810056  0.738462  0.786229   0.175645  \n",
       "AdaBoostClassifier              0.810056  0.767123  0.802188   5.151393  \n",
       "HistGradientBoostingClassifier  0.810056  0.776316  0.808172  22.990333  \n",
       "LGBMClassifier                  0.776536  0.736842  0.773616   1.508967  \n",
       "XGBClassifier                   0.765363  0.727273  0.764093   3.657404  "
      ]
     },
     "execution_count": 5,
     "metadata": {},
     "output_type": "execute_result"
    }
   ],
   "source": [
    "data_fit"
   ]
  },
  {
   "cell_type": "code",
   "execution_count": null,
   "id": "ad5e7005",
   "metadata": {},
   "outputs": [],
   "source": []
  }
 ],
 "metadata": {
  "kernelspec": {
   "display_name": ".venv",
   "language": "python",
   "name": "python3"
  },
  "language_info": {
   "codemirror_mode": {
    "name": "ipython",
    "version": 3
   },
   "file_extension": ".py",
   "mimetype": "text/x-python",
   "name": "python",
   "nbconvert_exporter": "python",
   "pygments_lexer": "ipython3",
   "version": "3.10.11"
  }
 },
 "nbformat": 4,
 "nbformat_minor": 5
}
