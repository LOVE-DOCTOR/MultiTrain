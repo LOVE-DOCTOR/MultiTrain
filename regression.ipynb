{
 "cells": [
  {
   "cell_type": "code",
   "execution_count": 1,
   "id": "9360a4bf-bccf-4b2c-8b6b-be3ca7f6a80a",
   "metadata": {},
   "outputs": [],
   "source": [
    "import pandas as pd\n",
    "from MultiTrain import MultiRegressor"
   ]
  },
  {
   "cell_type": "code",
   "execution_count": 2,
   "id": "26318112-5533-4bc0-ad5e-6c64984e2a80",
   "metadata": {},
   "outputs": [],
   "source": [
    "df = pd.read_csv(\"examples/datasets/Housing.csv\")"
   ]
  },
  {
   "cell_type": "code",
   "execution_count": 3,
   "id": "65080ff2-78c2-48ec-87fb-d6a78625b94c",
   "metadata": {},
   "outputs": [
    {
     "data": {
      "text/html": [
       "<div>\n",
       "<style scoped>\n",
       "    .dataframe tbody tr th:only-of-type {\n",
       "        vertical-align: middle;\n",
       "    }\n",
       "\n",
       "    .dataframe tbody tr th {\n",
       "        vertical-align: top;\n",
       "    }\n",
       "\n",
       "    .dataframe thead th {\n",
       "        text-align: right;\n",
       "    }\n",
       "</style>\n",
       "<table border=\"1\" class=\"dataframe\">\n",
       "  <thead>\n",
       "    <tr style=\"text-align: right;\">\n",
       "      <th></th>\n",
       "      <th>price</th>\n",
       "      <th>area</th>\n",
       "      <th>bedrooms</th>\n",
       "      <th>bathrooms</th>\n",
       "      <th>stories</th>\n",
       "      <th>mainroad</th>\n",
       "      <th>guestroom</th>\n",
       "      <th>basement</th>\n",
       "      <th>hotwaterheating</th>\n",
       "      <th>airconditioning</th>\n",
       "      <th>parking</th>\n",
       "      <th>prefarea</th>\n",
       "      <th>furnishingstatus</th>\n",
       "    </tr>\n",
       "  </thead>\n",
       "  <tbody>\n",
       "    <tr>\n",
       "      <th>0</th>\n",
       "      <td>13300000</td>\n",
       "      <td>7420</td>\n",
       "      <td>4</td>\n",
       "      <td>2</td>\n",
       "      <td>3</td>\n",
       "      <td>yes</td>\n",
       "      <td>no</td>\n",
       "      <td>no</td>\n",
       "      <td>no</td>\n",
       "      <td>yes</td>\n",
       "      <td>2</td>\n",
       "      <td>yes</td>\n",
       "      <td>furnished</td>\n",
       "    </tr>\n",
       "    <tr>\n",
       "      <th>1</th>\n",
       "      <td>12250000</td>\n",
       "      <td>8960</td>\n",
       "      <td>4</td>\n",
       "      <td>4</td>\n",
       "      <td>4</td>\n",
       "      <td>yes</td>\n",
       "      <td>no</td>\n",
       "      <td>no</td>\n",
       "      <td>no</td>\n",
       "      <td>yes</td>\n",
       "      <td>3</td>\n",
       "      <td>no</td>\n",
       "      <td>furnished</td>\n",
       "    </tr>\n",
       "    <tr>\n",
       "      <th>2</th>\n",
       "      <td>12250000</td>\n",
       "      <td>9960</td>\n",
       "      <td>3</td>\n",
       "      <td>2</td>\n",
       "      <td>2</td>\n",
       "      <td>yes</td>\n",
       "      <td>no</td>\n",
       "      <td>yes</td>\n",
       "      <td>no</td>\n",
       "      <td>no</td>\n",
       "      <td>2</td>\n",
       "      <td>yes</td>\n",
       "      <td>semi-furnished</td>\n",
       "    </tr>\n",
       "    <tr>\n",
       "      <th>3</th>\n",
       "      <td>12215000</td>\n",
       "      <td>7500</td>\n",
       "      <td>4</td>\n",
       "      <td>2</td>\n",
       "      <td>2</td>\n",
       "      <td>yes</td>\n",
       "      <td>no</td>\n",
       "      <td>yes</td>\n",
       "      <td>no</td>\n",
       "      <td>yes</td>\n",
       "      <td>3</td>\n",
       "      <td>yes</td>\n",
       "      <td>furnished</td>\n",
       "    </tr>\n",
       "    <tr>\n",
       "      <th>4</th>\n",
       "      <td>11410000</td>\n",
       "      <td>7420</td>\n",
       "      <td>4</td>\n",
       "      <td>1</td>\n",
       "      <td>2</td>\n",
       "      <td>yes</td>\n",
       "      <td>yes</td>\n",
       "      <td>yes</td>\n",
       "      <td>no</td>\n",
       "      <td>yes</td>\n",
       "      <td>2</td>\n",
       "      <td>no</td>\n",
       "      <td>furnished</td>\n",
       "    </tr>\n",
       "  </tbody>\n",
       "</table>\n",
       "</div>"
      ],
      "text/plain": [
       "      price  area  bedrooms  bathrooms  stories mainroad guestroom basement  \\\n",
       "0  13300000  7420         4          2        3      yes        no       no   \n",
       "1  12250000  8960         4          4        4      yes        no       no   \n",
       "2  12250000  9960         3          2        2      yes        no      yes   \n",
       "3  12215000  7500         4          2        2      yes        no      yes   \n",
       "4  11410000  7420         4          1        2      yes       yes      yes   \n",
       "\n",
       "  hotwaterheating airconditioning  parking prefarea furnishingstatus  \n",
       "0              no             yes        2      yes        furnished  \n",
       "1              no             yes        3       no        furnished  \n",
       "2              no              no        2      yes   semi-furnished  \n",
       "3              no             yes        3      yes        furnished  \n",
       "4              no             yes        2       no        furnished  "
      ]
     },
     "execution_count": 3,
     "metadata": {},
     "output_type": "execute_result"
    }
   ],
   "source": [
    "df.head()"
   ]
  },
  {
   "cell_type": "code",
   "execution_count": 4,
   "id": "b5b3c125-515b-41d6-8cb6-57bbce12b51d",
   "metadata": {},
   "outputs": [],
   "source": [
    "train = MultiRegressor(random_state=42)\n",
    "\n",
    "split = train.split(data=df,\n",
    "                    target='area',\n",
    "                    test_size=0.3, \n",
    "                    random_state=42,\n",
    "                    auto_cat_encode=True)"
   ]
  },
  {
   "cell_type": "code",
   "execution_count": 5,
   "id": "81ba3bb9-c492-4583-ab2f-e553fa9dcca4",
   "metadata": {},
   "outputs": [
    {
     "data": {
      "application/vnd.jupyter.widget-view+json": {
       "model_id": "c579e5af8f764df29a2bea6f6f93ebf5",
       "version_major": 2,
       "version_minor": 0
      },
      "text/plain": [
       "Training Models:   0%|           | 0/20 [00:00<?, ?it/s]"
      ]
     },
     "metadata": {},
     "output_type": "display_data"
    },
    {
     "data": {
      "application/vnd.jupyter.widget-view+json": {
       "model_id": "344539c3e0a64dafa199c274a31fc2c9",
       "version_major": 2,
       "version_minor": 0
      },
      "text/plain": [
       "Evaluating LinearRegression:   0%|          | 0/6 [00:00<?, ?it/s]"
      ]
     },
     "metadata": {},
     "output_type": "display_data"
    },
    {
     "data": {
      "application/vnd.jupyter.widget-view+json": {
       "model_id": "5b1e25870a8243bb81043e39691e5d22",
       "version_major": 2,
       "version_minor": 0
      },
      "text/plain": [
       "Evaluating Ridge:   0%|          | 0/6 [00:00<?, ?it/s]"
      ]
     },
     "metadata": {},
     "output_type": "display_data"
    },
    {
     "data": {
      "application/vnd.jupyter.widget-view+json": {
       "model_id": "f886eaf9dc444342a572f0c813bd42f1",
       "version_major": 2,
       "version_minor": 0
      },
      "text/plain": [
       "Evaluating RidgeCV:   0%|          | 0/6 [00:00<?, ?it/s]"
      ]
     },
     "metadata": {},
     "output_type": "display_data"
    },
    {
     "data": {
      "application/vnd.jupyter.widget-view+json": {
       "model_id": "e31fcafc57d64a859d9b2f071ff03275",
       "version_major": 2,
       "version_minor": 0
      },
      "text/plain": [
       "Evaluating Lasso:   0%|          | 0/6 [00:00<?, ?it/s]"
      ]
     },
     "metadata": {},
     "output_type": "display_data"
    },
    {
     "data": {
      "application/vnd.jupyter.widget-view+json": {
       "model_id": "0a1f21b936f1446bb7b4461aafb09a6a",
       "version_major": 2,
       "version_minor": 0
      },
      "text/plain": [
       "Evaluating LassoCV:   0%|          | 0/6 [00:00<?, ?it/s]"
      ]
     },
     "metadata": {},
     "output_type": "display_data"
    },
    {
     "data": {
      "application/vnd.jupyter.widget-view+json": {
       "model_id": "545387e1cd014f06ae1b05b506b9ced9",
       "version_major": 2,
       "version_minor": 0
      },
      "text/plain": [
       "Evaluating ElasticNet:   0%|          | 0/6 [00:00<?, ?it/s]"
      ]
     },
     "metadata": {},
     "output_type": "display_data"
    },
    {
     "data": {
      "application/vnd.jupyter.widget-view+json": {
       "model_id": "fcf273bcc54847979465deb90dd066b8",
       "version_major": 2,
       "version_minor": 0
      },
      "text/plain": [
       "Evaluating ElasticNetCV:   0%|          | 0/6 [00:00<?, ?it/s]"
      ]
     },
     "metadata": {},
     "output_type": "display_data"
    },
    {
     "data": {
      "application/vnd.jupyter.widget-view+json": {
       "model_id": "2c6a5656ff4842a1baf9bbc1a170ed31",
       "version_major": 2,
       "version_minor": 0
      },
      "text/plain": [
       "Evaluating SGDRegressor:   0%|          | 0/6 [00:00<?, ?it/s]"
      ]
     },
     "metadata": {},
     "output_type": "display_data"
    },
    {
     "data": {
      "application/vnd.jupyter.widget-view+json": {
       "model_id": "9bbf44bb47254d728c1b9e4eb724b423",
       "version_major": 2,
       "version_minor": 0
      },
      "text/plain": [
       "Evaluating KNeighborsRegressor:   0%|          | 0/6 [00:00<?, ?it/s]"
      ]
     },
     "metadata": {},
     "output_type": "display_data"
    },
    {
     "data": {
      "application/vnd.jupyter.widget-view+json": {
       "model_id": "bacda1dbd3234896a3e59b75dcceedb2",
       "version_major": 2,
       "version_minor": 0
      },
      "text/plain": [
       "Evaluating DecisionTreeRegressor:   0%|          | 0/6 [00:00<?, ?it/s]"
      ]
     },
     "metadata": {},
     "output_type": "display_data"
    },
    {
     "data": {
      "application/vnd.jupyter.widget-view+json": {
       "model_id": "e5eb5a32ced14b338a85989c76149fee",
       "version_major": 2,
       "version_minor": 0
      },
      "text/plain": [
       "Evaluating ExtraTreeRegressor:   0%|          | 0/6 [00:00<?, ?it/s]"
      ]
     },
     "metadata": {},
     "output_type": "display_data"
    },
    {
     "data": {
      "application/vnd.jupyter.widget-view+json": {
       "model_id": "14f6e2e00cfa46d1a9bcfd874301a796",
       "version_major": 2,
       "version_minor": 0
      },
      "text/plain": [
       "Evaluating RandomForestRegressor:   0%|          | 0/6 [00:00<?, ?it/s]"
      ]
     },
     "metadata": {},
     "output_type": "display_data"
    },
    {
     "data": {
      "application/vnd.jupyter.widget-view+json": {
       "model_id": "e443f564190c4329b45fc0f513a3cef8",
       "version_major": 2,
       "version_minor": 0
      },
      "text/plain": [
       "Evaluating ExtraTreesRegressor:   0%|          | 0/6 [00:00<?, ?it/s]"
      ]
     },
     "metadata": {},
     "output_type": "display_data"
    },
    {
     "data": {
      "application/vnd.jupyter.widget-view+json": {
       "model_id": "885578f4465e455e83a6d563e0bb47c9",
       "version_major": 2,
       "version_minor": 0
      },
      "text/plain": [
       "Evaluating GradientBoostingRegressor:   0%|          | 0/6 [00:00<?, ?it/s]"
      ]
     },
     "metadata": {},
     "output_type": "display_data"
    },
    {
     "data": {
      "application/vnd.jupyter.widget-view+json": {
       "model_id": "04c71d27364441a8a081852796415f58",
       "version_major": 2,
       "version_minor": 0
      },
      "text/plain": [
       "Evaluating AdaBoostRegressor:   0%|          | 0/6 [00:00<?, ?it/s]"
      ]
     },
     "metadata": {},
     "output_type": "display_data"
    },
    {
     "data": {
      "application/vnd.jupyter.widget-view+json": {
       "model_id": "9544ee203f0440adb53d89a06f7749c5",
       "version_major": 2,
       "version_minor": 0
      },
      "text/plain": [
       "Evaluating BaggingRegressor:   0%|          | 0/6 [00:00<?, ?it/s]"
      ]
     },
     "metadata": {},
     "output_type": "display_data"
    },
    {
     "data": {
      "application/vnd.jupyter.widget-view+json": {
       "model_id": "1c6924a5c2bd4690a86a266cae65c7f3",
       "version_major": 2,
       "version_minor": 0
      },
      "text/plain": [
       "Evaluating CatBoostRegressor:   0%|          | 0/6 [00:00<?, ?it/s]"
      ]
     },
     "metadata": {},
     "output_type": "display_data"
    },
    {
     "data": {
      "application/vnd.jupyter.widget-view+json": {
       "model_id": "c73b43e56ba3475d9c59d1d9341532dc",
       "version_major": 2,
       "version_minor": 0
      },
      "text/plain": [
       "Evaluating LGBMRegressor:   0%|          | 0/6 [00:00<?, ?it/s]"
      ]
     },
     "metadata": {},
     "output_type": "display_data"
    },
    {
     "data": {
      "application/vnd.jupyter.widget-view+json": {
       "model_id": "bf780145f7e146578aacd9586403449d",
       "version_major": 2,
       "version_minor": 0
      },
      "text/plain": [
       "Evaluating XGBRegressor:   0%|          | 0/6 [00:00<?, ?it/s]"
      ]
     },
     "metadata": {},
     "output_type": "display_data"
    },
    {
     "data": {
      "application/vnd.jupyter.widget-view+json": {
       "model_id": "88cb52abaeb84744a7c124c8a33c7b48",
       "version_major": 2,
       "version_minor": 0
      },
      "text/plain": [
       "Evaluating HistGradientBoostingRegressor:   0%|          | 0/6 [00:00<?, ?it/s]"
      ]
     },
     "metadata": {},
     "output_type": "display_data"
    },
    {
     "data": {
      "text/html": [
       "<div>\n",
       "<style scoped>\n",
       "    .dataframe tbody tr th:only-of-type {\n",
       "        vertical-align: middle;\n",
       "    }\n",
       "\n",
       "    .dataframe tbody tr th {\n",
       "        vertical-align: top;\n",
       "    }\n",
       "\n",
       "    .dataframe thead th {\n",
       "        text-align: right;\n",
       "    }\n",
       "</style>\n",
       "<table border=\"1\" class=\"dataframe\">\n",
       "  <thead>\n",
       "    <tr style=\"text-align: right;\">\n",
       "      <th></th>\n",
       "      <th>mean_squared_error</th>\n",
       "      <th>r2_score</th>\n",
       "      <th>mean_absolute_error</th>\n",
       "      <th>median_absolute_error</th>\n",
       "      <th>mean_squared_log_error</th>\n",
       "      <th>explained_variance_score</th>\n",
       "      <th>Time(s)</th>\n",
       "    </tr>\n",
       "  </thead>\n",
       "  <tbody>\n",
       "    <tr>\n",
       "      <th>LinearRegression</th>\n",
       "      <td>3.331758e+06</td>\n",
       "      <td>2.810000e-01</td>\n",
       "      <td>1.420985e+03</td>\n",
       "      <td>1.195248e+03</td>\n",
       "      <td>0.113</td>\n",
       "      <td>2.840000e-01</td>\n",
       "      <td>0.002003</td>\n",
       "    </tr>\n",
       "    <tr>\n",
       "      <th>Ridge</th>\n",
       "      <td>3.326610e+06</td>\n",
       "      <td>2.830000e-01</td>\n",
       "      <td>1.419113e+03</td>\n",
       "      <td>1.194700e+03</td>\n",
       "      <td>0.112</td>\n",
       "      <td>2.850000e-01</td>\n",
       "      <td>0.002003</td>\n",
       "    </tr>\n",
       "    <tr>\n",
       "      <th>RidgeCV</th>\n",
       "      <td>3.271182e+06</td>\n",
       "      <td>2.950000e-01</td>\n",
       "      <td>1.403141e+03</td>\n",
       "      <td>1.171775e+03</td>\n",
       "      <td>0.111</td>\n",
       "      <td>2.960000e-01</td>\n",
       "      <td>0.002003</td>\n",
       "    </tr>\n",
       "    <tr>\n",
       "      <th>Lasso</th>\n",
       "      <td>3.328984e+06</td>\n",
       "      <td>2.820000e-01</td>\n",
       "      <td>1.419863e+03</td>\n",
       "      <td>1.195691e+03</td>\n",
       "      <td>0.113</td>\n",
       "      <td>2.840000e-01</td>\n",
       "      <td>0.002003</td>\n",
       "    </tr>\n",
       "    <tr>\n",
       "      <th>LassoCV</th>\n",
       "      <td>3.523727e+06</td>\n",
       "      <td>2.400000e-01</td>\n",
       "      <td>1.430156e+03</td>\n",
       "      <td>1.106261e+03</td>\n",
       "      <td>0.123</td>\n",
       "      <td>2.410000e-01</td>\n",
       "      <td>0.031623</td>\n",
       "    </tr>\n",
       "    <tr>\n",
       "      <th>ElasticNet</th>\n",
       "      <td>3.310947e+06</td>\n",
       "      <td>2.860000e-01</td>\n",
       "      <td>1.402955e+03</td>\n",
       "      <td>1.069627e+03</td>\n",
       "      <td>0.113</td>\n",
       "      <td>2.870000e-01</td>\n",
       "      <td>0.002004</td>\n",
       "    </tr>\n",
       "    <tr>\n",
       "      <th>ElasticNetCV</th>\n",
       "      <td>3.523726e+06</td>\n",
       "      <td>2.400000e-01</td>\n",
       "      <td>1.430156e+03</td>\n",
       "      <td>1.106261e+03</td>\n",
       "      <td>0.123</td>\n",
       "      <td>2.410000e-01</td>\n",
       "      <td>0.034881</td>\n",
       "    </tr>\n",
       "    <tr>\n",
       "      <th>SGDRegressor</th>\n",
       "      <td>1.331211e+44</td>\n",
       "      <td>-2.873055e+37</td>\n",
       "      <td>1.058233e+22</td>\n",
       "      <td>9.459645e+21</td>\n",
       "      <td>1777.032</td>\n",
       "      <td>-4.561467e+36</td>\n",
       "      <td>0.002982</td>\n",
       "    </tr>\n",
       "    <tr>\n",
       "      <th>KNeighborsRegressor</th>\n",
       "      <td>4.440689e+06</td>\n",
       "      <td>4.200000e-02</td>\n",
       "      <td>1.580888e+03</td>\n",
       "      <td>1.121100e+03</td>\n",
       "      <td>0.156</td>\n",
       "      <td>4.600000e-02</td>\n",
       "      <td>0.028196</td>\n",
       "    </tr>\n",
       "    <tr>\n",
       "      <th>DecisionTreeRegressor</th>\n",
       "      <td>1.007704e+07</td>\n",
       "      <td>-1.174000e+00</td>\n",
       "      <td>2.195302e+03</td>\n",
       "      <td>1.415000e+03</td>\n",
       "      <td>0.251</td>\n",
       "      <td>-1.126000e+00</td>\n",
       "      <td>0.003043</td>\n",
       "    </tr>\n",
       "    <tr>\n",
       "      <th>ExtraTreeRegressor</th>\n",
       "      <td>8.191946e+06</td>\n",
       "      <td>-7.680000e-01</td>\n",
       "      <td>1.908421e+03</td>\n",
       "      <td>1.382500e+03</td>\n",
       "      <td>0.200</td>\n",
       "      <td>-7.570000e-01</td>\n",
       "      <td>0.003001</td>\n",
       "    </tr>\n",
       "    <tr>\n",
       "      <th>RandomForestRegressor</th>\n",
       "      <td>4.377940e+06</td>\n",
       "      <td>5.600000e-02</td>\n",
       "      <td>1.552899e+03</td>\n",
       "      <td>1.252690e+03</td>\n",
       "      <td>0.143</td>\n",
       "      <td>6.100000e-02</td>\n",
       "      <td>0.130869</td>\n",
       "    </tr>\n",
       "    <tr>\n",
       "      <th>ExtraTreesRegressor</th>\n",
       "      <td>4.163554e+06</td>\n",
       "      <td>1.020000e-01</td>\n",
       "      <td>1.491855e+03</td>\n",
       "      <td>1.051995e+03</td>\n",
       "      <td>0.143</td>\n",
       "      <td>1.030000e-01</td>\n",
       "      <td>0.112762</td>\n",
       "    </tr>\n",
       "    <tr>\n",
       "      <th>GradientBoostingRegressor</th>\n",
       "      <td>3.957971e+06</td>\n",
       "      <td>1.460000e-01</td>\n",
       "      <td>1.483408e+03</td>\n",
       "      <td>1.101764e+03</td>\n",
       "      <td>0.132</td>\n",
       "      <td>1.470000e-01</td>\n",
       "      <td>0.081223</td>\n",
       "    </tr>\n",
       "    <tr>\n",
       "      <th>AdaBoostRegressor</th>\n",
       "      <td>4.485977e+06</td>\n",
       "      <td>3.200000e-02</td>\n",
       "      <td>1.667471e+03</td>\n",
       "      <td>1.305654e+03</td>\n",
       "      <td>0.164</td>\n",
       "      <td>1.130000e-01</td>\n",
       "      <td>0.103168</td>\n",
       "    </tr>\n",
       "    <tr>\n",
       "      <th>BaggingRegressor</th>\n",
       "      <td>4.538278e+06</td>\n",
       "      <td>2.100000e-02</td>\n",
       "      <td>1.559742e+03</td>\n",
       "      <td>1.176600e+03</td>\n",
       "      <td>0.141</td>\n",
       "      <td>2.200000e-02</td>\n",
       "      <td>1.707378</td>\n",
       "    </tr>\n",
       "    <tr>\n",
       "      <th>CatBoostRegressor</th>\n",
       "      <td>4.151161e+06</td>\n",
       "      <td>1.050000e-01</td>\n",
       "      <td>1.502510e+03</td>\n",
       "      <td>1.015660e+03</td>\n",
       "      <td>0.142</td>\n",
       "      <td>1.050000e-01</td>\n",
       "      <td>1.004537</td>\n",
       "    </tr>\n",
       "    <tr>\n",
       "      <th>LGBMRegressor</th>\n",
       "      <td>4.950487e+06</td>\n",
       "      <td>-6.800000e-02</td>\n",
       "      <td>1.664127e+03</td>\n",
       "      <td>1.177639e+03</td>\n",
       "      <td>0.173</td>\n",
       "      <td>-6.700000e-02</td>\n",
       "      <td>0.609797</td>\n",
       "    </tr>\n",
       "    <tr>\n",
       "      <th>XGBRegressor</th>\n",
       "      <td>6.187055e+06</td>\n",
       "      <td>-3.350000e-01</td>\n",
       "      <td>1.788381e+03</td>\n",
       "      <td>1.246180e+03</td>\n",
       "      <td>0.199</td>\n",
       "      <td>-3.260000e-01</td>\n",
       "      <td>0.994304</td>\n",
       "    </tr>\n",
       "    <tr>\n",
       "      <th>HistGradientBoostingRegressor</th>\n",
       "      <td>4.954867e+06</td>\n",
       "      <td>-6.900000e-02</td>\n",
       "      <td>1.681533e+03</td>\n",
       "      <td>1.217084e+03</td>\n",
       "      <td>0.173</td>\n",
       "      <td>-6.900000e-02</td>\n",
       "      <td>1.132901</td>\n",
       "    </tr>\n",
       "  </tbody>\n",
       "</table>\n",
       "</div>"
      ],
      "text/plain": [
       "                               mean_squared_error      r2_score  \\\n",
       "LinearRegression                     3.331758e+06  2.810000e-01   \n",
       "Ridge                                3.326610e+06  2.830000e-01   \n",
       "RidgeCV                              3.271182e+06  2.950000e-01   \n",
       "Lasso                                3.328984e+06  2.820000e-01   \n",
       "LassoCV                              3.523727e+06  2.400000e-01   \n",
       "ElasticNet                           3.310947e+06  2.860000e-01   \n",
       "ElasticNetCV                         3.523726e+06  2.400000e-01   \n",
       "SGDRegressor                         1.331211e+44 -2.873055e+37   \n",
       "KNeighborsRegressor                  4.440689e+06  4.200000e-02   \n",
       "DecisionTreeRegressor                1.007704e+07 -1.174000e+00   \n",
       "ExtraTreeRegressor                   8.191946e+06 -7.680000e-01   \n",
       "RandomForestRegressor                4.377940e+06  5.600000e-02   \n",
       "ExtraTreesRegressor                  4.163554e+06  1.020000e-01   \n",
       "GradientBoostingRegressor            3.957971e+06  1.460000e-01   \n",
       "AdaBoostRegressor                    4.485977e+06  3.200000e-02   \n",
       "BaggingRegressor                     4.538278e+06  2.100000e-02   \n",
       "CatBoostRegressor                    4.151161e+06  1.050000e-01   \n",
       "LGBMRegressor                        4.950487e+06 -6.800000e-02   \n",
       "XGBRegressor                         6.187055e+06 -3.350000e-01   \n",
       "HistGradientBoostingRegressor        4.954867e+06 -6.900000e-02   \n",
       "\n",
       "                               mean_absolute_error  median_absolute_error  \\\n",
       "LinearRegression                      1.420985e+03           1.195248e+03   \n",
       "Ridge                                 1.419113e+03           1.194700e+03   \n",
       "RidgeCV                               1.403141e+03           1.171775e+03   \n",
       "Lasso                                 1.419863e+03           1.195691e+03   \n",
       "LassoCV                               1.430156e+03           1.106261e+03   \n",
       "ElasticNet                            1.402955e+03           1.069627e+03   \n",
       "ElasticNetCV                          1.430156e+03           1.106261e+03   \n",
       "SGDRegressor                          1.058233e+22           9.459645e+21   \n",
       "KNeighborsRegressor                   1.580888e+03           1.121100e+03   \n",
       "DecisionTreeRegressor                 2.195302e+03           1.415000e+03   \n",
       "ExtraTreeRegressor                    1.908421e+03           1.382500e+03   \n",
       "RandomForestRegressor                 1.552899e+03           1.252690e+03   \n",
       "ExtraTreesRegressor                   1.491855e+03           1.051995e+03   \n",
       "GradientBoostingRegressor             1.483408e+03           1.101764e+03   \n",
       "AdaBoostRegressor                     1.667471e+03           1.305654e+03   \n",
       "BaggingRegressor                      1.559742e+03           1.176600e+03   \n",
       "CatBoostRegressor                     1.502510e+03           1.015660e+03   \n",
       "LGBMRegressor                         1.664127e+03           1.177639e+03   \n",
       "XGBRegressor                          1.788381e+03           1.246180e+03   \n",
       "HistGradientBoostingRegressor         1.681533e+03           1.217084e+03   \n",
       "\n",
       "                               mean_squared_log_error  \\\n",
       "LinearRegression                                0.113   \n",
       "Ridge                                           0.112   \n",
       "RidgeCV                                         0.111   \n",
       "Lasso                                           0.113   \n",
       "LassoCV                                         0.123   \n",
       "ElasticNet                                      0.113   \n",
       "ElasticNetCV                                    0.123   \n",
       "SGDRegressor                                 1777.032   \n",
       "KNeighborsRegressor                             0.156   \n",
       "DecisionTreeRegressor                           0.251   \n",
       "ExtraTreeRegressor                              0.200   \n",
       "RandomForestRegressor                           0.143   \n",
       "ExtraTreesRegressor                             0.143   \n",
       "GradientBoostingRegressor                       0.132   \n",
       "AdaBoostRegressor                               0.164   \n",
       "BaggingRegressor                                0.141   \n",
       "CatBoostRegressor                               0.142   \n",
       "LGBMRegressor                                   0.173   \n",
       "XGBRegressor                                    0.199   \n",
       "HistGradientBoostingRegressor                   0.173   \n",
       "\n",
       "                               explained_variance_score   Time(s)  \n",
       "LinearRegression                           2.840000e-01  0.002003  \n",
       "Ridge                                      2.850000e-01  0.002003  \n",
       "RidgeCV                                    2.960000e-01  0.002003  \n",
       "Lasso                                      2.840000e-01  0.002003  \n",
       "LassoCV                                    2.410000e-01  0.031623  \n",
       "ElasticNet                                 2.870000e-01  0.002004  \n",
       "ElasticNetCV                               2.410000e-01  0.034881  \n",
       "SGDRegressor                              -4.561467e+36  0.002982  \n",
       "KNeighborsRegressor                        4.600000e-02  0.028196  \n",
       "DecisionTreeRegressor                     -1.126000e+00  0.003043  \n",
       "ExtraTreeRegressor                        -7.570000e-01  0.003001  \n",
       "RandomForestRegressor                      6.100000e-02  0.130869  \n",
       "ExtraTreesRegressor                        1.030000e-01  0.112762  \n",
       "GradientBoostingRegressor                  1.470000e-01  0.081223  \n",
       "AdaBoostRegressor                          1.130000e-01  0.103168  \n",
       "BaggingRegressor                           2.200000e-02  1.707378  \n",
       "CatBoostRegressor                          1.050000e-01  1.004537  \n",
       "LGBMRegressor                             -6.700000e-02  0.609797  \n",
       "XGBRegressor                              -3.260000e-01  0.994304  \n",
       "HistGradientBoostingRegressor             -6.900000e-02  1.132901  "
      ]
     },
     "execution_count": 5,
     "metadata": {},
     "output_type": "execute_result"
    }
   ],
   "source": [
    "train.fit(datasplits=split,\n",
    "          sort='mean absolute error')     "
   ]
  },
  {
   "cell_type": "code",
   "execution_count": 1,
   "id": "a75d3ed7",
   "metadata": {},
   "outputs": [],
   "source": [
    "import dask_ml"
   ]
  },
  {
   "cell_type": "code",
   "execution_count": 4,
   "id": "e039346e",
   "metadata": {},
   "outputs": [
    {
     "data": {
      "text/plain": [
       "['__all__',\n",
       " '__builtins__',\n",
       " '__cached__',\n",
       " '__doc__',\n",
       " '__file__',\n",
       " '__loader__',\n",
       " '__name__',\n",
       " '__package__',\n",
       " '__path__',\n",
       " '__spec__',\n",
       " '__version__',\n",
       " '_compat',\n",
       " '_normalize',\n",
       " '_partial',\n",
       " '_typing',\n",
       " '_utils',\n",
       " '_version',\n",
       " 'base',\n",
       " 'ensemble',\n",
       " 'linear_model',\n",
       " 'metrics',\n",
       " 'model_selection',\n",
       " 'naive_bayes',\n",
       " 'utils',\n",
       " 'wrappers',\n",
       " 'xgboost']"
      ]
     },
     "execution_count": 4,
     "metadata": {},
     "output_type": "execute_result"
    }
   ],
   "source": [
    "import dask_ml.ensemble\n",
    "import dask_ml.linear_model\n",
    "import dask_ml.naive_bayes\n",
    "import dask_ml.xgboost\n",
    "\n",
    "\n",
    "dir(dask_ml)"
   ]
  },
  {
   "cell_type": "code",
   "execution_count": 10,
   "id": "88600755",
   "metadata": {},
   "outputs": [],
   "source": [
    "from dask_ml.xgboost import XGBClassifier"
   ]
  },
  {
   "cell_type": "code",
   "execution_count": 11,
   "id": "82e1382a",
   "metadata": {},
   "outputs": [],
   "source": [
    "from dask_ml.preprocessing import LabelEncoder"
   ]
  },
  {
   "cell_type": "code",
   "execution_count": 12,
   "id": "7733d42c",
   "metadata": {},
   "outputs": [
    {
     "data": {
      "text/plain": [
       "['BaseEstimator',\n",
       " 'GaussianNB',\n",
       " '__builtins__',\n",
       " '__cached__',\n",
       " '__doc__',\n",
       " '__file__',\n",
       " '__loader__',\n",
       " '__name__',\n",
       " '__package__',\n",
       " '__spec__',\n",
       " 'da',\n",
       " 'dask',\n",
       " 'delayed',\n",
       " 'logsumexp',\n",
       " 'np']"
      ]
     },
     "execution_count": 12,
     "metadata": {},
     "output_type": "execute_result"
    }
   ],
   "source": [
    "dir(dask_ml.naive_bayes)"
   ]
  },
  {
   "cell_type": "code",
   "execution_count": 17,
   "id": "07e20a1f",
   "metadata": {},
   "outputs": [
    {
     "data": {
      "text/plain": [
       "True"
      ]
     },
     "execution_count": 17,
     "metadata": {},
     "output_type": "execute_result"
    }
   ],
   "source": [
    "b = 'M 60'\n",
    "'M' in b"
   ]
  },
  {
   "cell_type": "code",
   "execution_count": null,
   "id": "b92ffc7f",
   "metadata": {},
   "outputs": [],
   "source": []
  }
 ],
 "metadata": {
  "kernelspec": {
   "display_name": ".venv",
   "language": "python",
   "name": "python3"
  },
  "language_info": {
   "codemirror_mode": {
    "name": "ipython",
    "version": 3
   },
   "file_extension": ".py",
   "mimetype": "text/x-python",
   "name": "python",
   "nbconvert_exporter": "python",
   "pygments_lexer": "ipython3",
   "version": "3.10.11"
  }
 },
 "nbformat": 4,
 "nbformat_minor": 5
}
